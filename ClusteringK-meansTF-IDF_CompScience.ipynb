{
 "cells": [
  {
   "cell_type": "markdown",
   "metadata": {},
   "source": [
    "# Clustering do dataset \"compscience_papers.csv\" usando K-means e TF-IDF\n",
    "\n",
    "Neste Jupyter Notebook, utiliza-se o TFIDF vectorizer e o MiniBatchKmeans do Sklearn para implementar um algoritmo de clustering simples. Depois visualiza-se esses clusters usando PCA e TSNE, assim como são mostradas as principais palavras-chave de cada cluster. "
   ]
  },
  {
   "cell_type": "code",
   "execution_count": 12,
   "metadata": {},
   "outputs": [],
   "source": [
    "import sys\n",
    "# !{sys.executable} -m spacy download en\n",
    "import re\n",
    "from pprint import pprint\n",
    "\n",
    "# Gensim\n",
    "import gensim, spacy, logging, warnings\n",
    "import gensim.corpora as corpora\n",
    "from gensim.utils import lemmatize, simple_preprocess\n",
    "from gensim.models import CoherenceModel"
   ]
  },
  {
   "cell_type": "code",
   "execution_count": 1,
   "metadata": {},
   "outputs": [],
   "source": [
    "import numpy as np\n",
    "import pandas as pd\n",
    "import matplotlib.pyplot as plt\n",
    "import matplotlib.cm as cm\n",
    "\n",
    "from sklearn.cluster import MiniBatchKMeans\n",
    "from sklearn.feature_extraction.text import TfidfVectorizer\n",
    "from sklearn.decomposition import PCA\n",
    "from sklearn.manifold import TSNE\n",
    "\n",
    "from nltk.corpus import stopwords\n",
    "stop_words = stopwords.words('english')\n",
    "stop_words.extend(['from', 'subject', 're', 'edu', 'use', 'not', 'would', 'say', 'could', '_', 'be', 'know', 'good', 'go', 'get', 'do', 'done', 'try', 'many', 'some', 'nice', 'thank', 'think', 'see', 'rather', 'easy', 'easily', 'lot', 'lack', 'make', 'want', 'seem', 'run', 'need', 'even', 'right', 'line', 'even', 'also', 'may', 'take', 'come'])\n"
   ]
  },
  {
   "cell_type": "markdown",
   "metadata": {},
   "source": [
    "## Importando o dataset\n",
    "\n",
    "Utiliza-se a biblioteca Pandas para importar o arquivo \"compscience_papers.csv\""
   ]
  },
  {
   "cell_type": "code",
   "execution_count": 2,
   "metadata": {
    "scrolled": true
   },
   "outputs": [
    {
     "data": {
      "text/html": [
       "<div>\n",
       "<style scoped>\n",
       "    .dataframe tbody tr th:only-of-type {\n",
       "        vertical-align: middle;\n",
       "    }\n",
       "\n",
       "    .dataframe tbody tr th {\n",
       "        vertical-align: top;\n",
       "    }\n",
       "\n",
       "    .dataframe thead th {\n",
       "        text-align: right;\n",
       "    }\n",
       "</style>\n",
       "<table border=\"1\" class=\"dataframe\">\n",
       "  <thead>\n",
       "    <tr style=\"text-align: right;\">\n",
       "      <th></th>\n",
       "      <th>text</th>\n",
       "      <th>label</th>\n",
       "    </tr>\n",
       "  </thead>\n",
       "  <tbody>\n",
       "    <tr>\n",
       "      <th>0</th>\n",
       "      <td>Digital Image Similarity for Geo-spatial Knowl...</td>\n",
       "      <td>1</td>\n",
       "    </tr>\n",
       "    <tr>\n",
       "      <th>1</th>\n",
       "      <td>An Initial Experiment into Stereochemistry-Bas...</td>\n",
       "      <td>2</td>\n",
       "    </tr>\n",
       "    <tr>\n",
       "      <th>2</th>\n",
       "      <td>Collaborative Case-Based Recommender Systems\\n...</td>\n",
       "      <td>1</td>\n",
       "    </tr>\n",
       "    <tr>\n",
       "      <th>3</th>\n",
       "      <td>Knowledge Engineering for CBR systems from a C...</td>\n",
       "      <td>1</td>\n",
       "    </tr>\n",
       "    <tr>\n",
       "      <th>4</th>\n",
       "      <td>Analyses for Elucidating Current Question Answ...</td>\n",
       "      <td>3</td>\n",
       "    </tr>\n",
       "  </tbody>\n",
       "</table>\n",
       "</div>"
      ],
      "text/plain": [
       "                                                text  label\n",
       "0  Digital Image Similarity for Geo-spatial Knowl...      1\n",
       "1  An Initial Experiment into Stereochemistry-Bas...      2\n",
       "2  Collaborative Case-Based Recommender Systems\\n...      1\n",
       "3  Knowledge Engineering for CBR systems from a C...      1\n",
       "4  Analyses for Elucidating Current Question Answ...      3"
      ]
     },
     "execution_count": 2,
     "metadata": {},
     "output_type": "execute_result"
    }
   ],
   "source": [
    "data = pd.read_csv(\"compscience_papers.csv\")\n",
    "data.head()"
   ]
  },
  {
   "cell_type": "markdown",
   "metadata": {},
   "source": [
    "## Extraindo palavras-chave\n",
    "\n",
    "Utiliza-se o TfidfVectorizer do Sklearn para a extração de palavras-chave, elas serão utilizadas para formar os clusters."
   ]
  },
  {
   "cell_type": "code",
   "execution_count": 3,
   "metadata": {},
   "outputs": [],
   "source": [
    "tfidf = TfidfVectorizer(\n",
    "    min_df = 5,\n",
    "    max_df = 0.95,\n",
    "    max_features = 8000,\n",
    "    stop_words = stop_words\n",
    ")\n",
    "tfidf.fit(data.text)\n",
    "text = tfidf.transform(data.text)"
   ]
  },
  {
   "cell_type": "markdown",
   "metadata": {},
   "source": [
    "## Encontrando a quantidade ideal de clusters\n",
    "\n",
    "No código abaixo, calcula-se o Sum of Squared Error (SSE) para vários tamanhos de cluster, neste caso até 14, e depois procura-se o \"cotovelo\" onde o SSE começa a se estabilizar. "
   ]
  },
  {
   "cell_type": "code",
   "execution_count": 4,
   "metadata": {},
   "outputs": [
    {
     "name": "stdout",
     "output_type": "stream",
     "text": [
      "Fit 2 clusters\n",
      "Fit 4 clusters\n",
      "Fit 6 clusters\n",
      "Fit 8 clusters\n",
      "Fit 10 clusters\n",
      "Fit 12 clusters\n",
      "Fit 14 clusters\n",
      "Fit 16 clusters\n",
      "Fit 18 clusters\n",
      "Fit 20 clusters\n"
     ]
    },
    {
     "data": {
      "image/png": "[encoded data removed]",
      "text/plain": [
       "<Figure size 432x288 with 1 Axes>"
      ]
     },
     "metadata": {
      "needs_background": "light"
     },
     "output_type": "display_data"
    }
   ],
   "source": [
    "def find_optimal_clusters(data, max_k):\n",
    "    iters = range(2, max_k+1, 2)\n",
    "    \n",
    "    sse = []\n",
    "    for k in iters:\n",
    "        sse.append(MiniBatchKMeans(n_clusters=k, init_size=1024, batch_size=2048, random_state=20).fit(data).inertia_)\n",
    "        print('Fit {} clusters'.format(k))\n",
    "        \n",
    "    f, ax = plt.subplots(1, 1)\n",
    "    ax.plot(iters, sse, marker='o')\n",
    "    ax.set_xlabel('Cluster Centers')\n",
    "    ax.set_xticks(iters)\n",
    "    ax.set_xticklabels(iters)\n",
    "    ax.set_ylabel('SSE')\n",
    "    ax.set_title('SSE by Cluster Center Plot')\n",
    "    \n",
    "find_optimal_clusters(text, 20)"
   ]
  },
  {
   "cell_type": "code",
   "execution_count": 5,
   "metadata": {},
   "outputs": [],
   "source": [
    "clusters = MiniBatchKMeans(n_clusters=4,  batch_size=682, random_state=0).fit_predict(text)"
   ]
  },
  {
   "cell_type": "markdown",
   "metadata": {},
   "source": [
    "## Visualização dos clusters\n",
    "\n",
    "Abaixo, visualiza-se os clusters gerados pelo algoritmo K-means. Um gráfico usa o PCA, que é melhor na captura da estrutura global dos dados. O outro usa TSNE, que é melhor em capturar relações entre vizinhos."
   ]
  },
  {
   "cell_type": "code",
   "execution_count": 6,
   "metadata": {
    "scrolled": false
   },
   "outputs": [
    {
     "data": {
      "image/png": "[encoded data removed]",
      "text/plain": [
       "<Figure size 1008x432 with 2 Axes>"
      ]
     },
     "metadata": {
      "needs_background": "light"
     },
     "output_type": "display_data"
    }
   ],
   "source": [
    "def plot_tsne_pca(data, labels):\n",
    "    max_label = max(labels)\n",
    "    max_items = np.random.choice(range(data.shape[0]), size=682, replace=False)\n",
    "    \n",
    "    pca = PCA(n_components=2).fit_transform(data[max_items,:].todense())\n",
    "    tsne = TSNE().fit_transform(PCA(n_components=50).fit_transform(data[max_items,:].todense()))\n",
    "    \n",
    "    \n",
    "    idx = np.random.choice(range(pca.shape[0]), size=682, replace=False)\n",
    "    label_subset = labels[max_items]\n",
    "    label_subset = [cm.hsv(i/max_label) for i in label_subset[idx]]\n",
    "    \n",
    "    f, ax = plt.subplots(1, 2, figsize=(14, 6))\n",
    "    \n",
    "    ax[0].scatter(pca[idx, 0], pca[idx, 1], c=label_subset)\n",
    "    ax[0].set_title('PCA Cluster Plot')\n",
    "    \n",
    "    ax[1].scatter(tsne[idx, 0], tsne[idx, 1], c=label_subset)\n",
    "    ax[1].set_title('TSNE Cluster Plot')\n",
    "    \n",
    "plot_tsne_pca(text, clusters)"
   ]
  },
  {
   "cell_type": "code",
   "execution_count": 18,
   "metadata": {
    "scrolled": true
   },
   "outputs": [
    {
     "data": {
      "application/vnd.plotly.v1+json": {
       "config": {
        "plotlyServerURL": "https://plot.ly"
       },
       "data": [
        {
         "hovertemplate": "x=%{x}<br>y=%{y}<extra></extra>",
         "legendgroup": "",
         "marker": {
          "color": "#636efa",
          "symbol": "circle"
         },
         "mode": "markers",
         "name": "",
         "showlegend": false,
         "type": "scatter",
         "x": [
          -16.286418914794922,
          -8.906126022338867,
          -27.2762393951416,
          1.4448453187942505,
          0.9890345335006714,
          -27.79295539855957,
          22.99891471862793,
          -11.73894214630127,
          8.071080207824707,
          16.712656021118164,
          -25.850723266601562,
          23.244056701660156,
          10.59911823272705,
          -7.623411178588867,
          -15.709342002868652,
          12.229337692260742,
          -9.11681842803955,
          6.274383068084717,
          -24.382917404174805,
          -25.1499080657959,
          -1.4632216691970825,
          0.44717928767204285,
          13.831832885742188,
          19.744592666625977,
          14.820612907409668,
          -0.4952232837677002,
          31.87767791748047,
          -1.1504848003387451,
          -9.263994216918945,
          -7.5610671043396,
          -21.398387908935547,
          23.82673454284668,
          6.491359233856201,
          20.100727081298828,
          -8.75228500366211,
          -15.381098747253418,
          3.462730646133423,
          7.912458896636963,
          2.495269298553467,
          8.91832447052002,
          -17.019603729248047,
          -1.838590145111084,
          -29.24094009399414,
          12.837045669555664,
          -17.6800594329834,
          15.005647659301758,
          30.273941040039062,
          10.347565650939941,
          -2.7459988594055176,
          -11.566205024719238,
          -14.258968353271484,
          12.640819549560547,
          4.4975738525390625,
          -27.72502326965332,
          7.383508205413818,
          -8.395212173461914,
          26.974037170410156,
          29.08247184753418,
          -0.5608104467391968,
          -22.448623657226562,
          25.021305084228516,
          -9.96603012084961,
          4.997342586517334,
          18.13118553161621,
          -0.291197270154953,
          34.595489501953125,
          6.706874847412109,
          -15.140902519226074,
          -16.308841705322266,
          -1.6311125755310059,
          -30.25557518005371,
          -14.110112190246582,
          19.221662521362305,
          6.653976917266846,
          3.8665390014648438,
          -14.267478942871094,
          -26.44452667236328,
          17.389724731445312,
          -3.68039608001709,
          14.744855880737305,
          -2.010688543319702,
          -31.49812889099121,
          16.895071029663086,
          -17.534881591796875,
          -29.17034912109375,
          15.81016731262207,
          5.582498073577881,
          10.360824584960938,
          2.4859163761138916,
          -10.22391414642334,
          -24.93935203552246,
          -28.8516845703125,
          -0.3236692249774933,
          -10.424531936645508,
          10.832876205444336,
          -10.37355899810791,
          12.744065284729004,
          16.079452514648438,
          -22.276256561279297,
          6.502884387969971,
          -23.565420150756836,
          -20.613122940063477,
          10.55147933959961,
          -1.1761714220046997,
          7.965178489685059,
          -29.516956329345703,
          9.058735847473145,
          35.08692932128906,
          -6.387702941894531,
          10.640440940856934,
          -19.0006103515625,
          11.665339469909668,
          1.9700138568878174,
          -18.804405212402344,
          17.828929901123047,
          14.032997131347656,
          10.600174903869629,
          -12.533040046691895,
          4.513330936431885,
          18.497817993164062,
          -13.218012809753418,
          -21.07894515991211,
          7.703944206237793,
          21.509750366210938,
          -15.075801849365234,
          -0.8456794023513794,
          13.17800521850586,
          10.480692863464355,
          -6.6975202560424805,
          -4.51878547668457,
          6.282824516296387,
          -19.697404861450195,
          23.212844848632812,
          -37.86663818359375,
          13.944437026977539,
          5.2469868659973145,
          7.8160271644592285,
          -1.749229907989502,
          25.05916976928711,
          -22.15248680114746,
          -12.846360206604004,
          -31.029640197753906,
          5.129291534423828,
          6.882352352142334,
          -4.138950347900391,
          -10.449297904968262,
          -8.870763778686523,
          5.493740081787109,
          20.020978927612305,
          34.8299560546875,
          -0.013480782508850098,
          -9.33831787109375,
          -21.730649948120117,
          17.932771682739258,
          14.196877479553223,
          -26.6109561920166,
          2.62935209274292,
          -3.698563814163208,
          -25.108388900756836,
          -17.79753303527832,
          5.353362560272217,
          -38.74158477783203,
          -22.186309814453125,
          11.141166687011719,
          3.8939666748046875,
          -8.713193893432617,
          14.72071647644043,
          2.604146718978882,
          8.602228164672852,
          15.868545532226562,
          -18.518077850341797,
          -10.959410667419434,
          -10.734551429748535,
          -10.273442268371582,
          -28.681793212890625,
          12.3319673538208,
          -17.05845069885254,
          23.27411651611328,
          -0.507204532623291,
          23.701955795288086,
          -9.885936737060547,
          13.836762428283691,
          -27.48483657836914,
          12.667579650878906,
          2.8228535652160645,
          -28.18120574951172,
          17.898971557617188,
          9.038142204284668,
          3.8286149501800537,
          11.776766777038574,
          -11.021161079406738,
          13.879939079284668,
          -28.16774559020996,
          -0.4109826385974884,
          7.2354936599731445,
          14.69599723815918,
          -32.80458068847656,
          11.158580780029297,
          12.121742248535156,
          -23.10983657836914,
          0.9227727651596069,
          13.585309982299805,
          -30.24475860595703,
          -8.165617942810059,
          -20.13726043701172,
          -1.7858518362045288,
          -27.909626007080078,
          25.445104598999023,
          27.13277816772461,
          -6.07866907119751,
          34.093196868896484,
          -26.809629440307617,
          5.681326389312744,
          26.381967544555664,
          13.826165199279785,
          -2.364213705062866,
          -28.18317985534668,
          -22.366178512573242,
          -30.00165557861328,
          22.753223419189453,
          23.650043487548828,
          11.070185661315918,
          9.316927909851074,
          16.514341354370117,
          24.908628463745117,
          -1.1640828847885132,
          -28.790512084960938,
          -31.004047393798828,
          -12.449777603149414,
          13.206201553344727,
          15.173605918884277,
          -28.947059631347656,
          -15.072912216186523,
          21.96896743774414,
          4.226980686187744,
          18.697101593017578,
          19.19153594970703,
          -19.082889556884766,
          -29.21702003479004,
          -10.43014907836914,
          10.020586967468262,
          5.831812858581543,
          9.49521541595459,
          -36.5527229309082,
          6.907618522644043,
          23.412382125854492,
          -3.953812599182129,
          -27.706636428833008,
          24.11611557006836,
          -19.147680282592773,
          11.218512535095215,
          -4.751579284667969,
          -22.08589744567871,
          8.985755920410156,
          8.800618171691895,
          2.724703311920166,
          25.212339401245117,
          -19.204526901245117,
          -15.995833396911621,
          -6.001558780670166,
          33.38286590576172,
          -28.11304473876953,
          -21.408973693847656,
          12.047717094421387,
          26.930835723876953,
          21.29537010192871,
          9.275032997131348,
          -9.235483169555664,
          1.4518967866897583,
          -8.8228178024292,
          0.42083069682121277,
          -33.740116119384766,
          11.215794563293457,
          -19.710569381713867,
          -9.684027671813965,
          5.368449687957764,
          -9.605533599853516,
          -27.41887092590332,
          10.904228210449219,
          -6.326550483703613,
          7.326358318328857,
          -17.12202262878418,
          -3.030550241470337,
          23.039981842041016,
          -12.152777671813965,
          -23.420745849609375,
          20.836278915405273,
          0.02807222492992878,
          16.51804542541504,
          14.968664169311523,
          -31.17629051208496,
          -31.408477783203125,
          -17.446619033813477,
          24.148517608642578,
          11.864535331726074,
          -2.567692995071411,
          20.521753311157227,
          11.00949478149414,
          9.204612731933594,
          7.222561359405518,
          -22.891902923583984,
          -22.068605422973633,
          16.55754852294922,
          24.137828826904297,
          -8.021407127380371,
          -13.787023544311523,
          14.326528549194336,
          -19.226289749145508,
          10.226370811462402,
          6.671088218688965,
          -0.88458251953125,
          4.048381328582764,
          -7.85122537612915,
          9.44540023803711,
          31.377347946166992,
          -8.273879051208496,
          8.68930721282959,
          -3.7041409015655518,
          -28.765766143798828,
          -8.28735065460205,
          23.721220016479492,
          1.432151436805725,
          -35.74159622192383,
          -24.600265502929688,
          12.511174201965332,
          -12.628210067749023,
          22.107364654541016,
          10.054741859436035,
          27.195199966430664,
          3.5081136226654053,
          10.1485595703125,
          11.020217895507812,
          -31.108911514282227,
          11.489811897277832,
          26.493562698364258,
          -6.685863494873047,
          -7.597116470336914,
          -8.771739959716797,
          -15.739616394042969,
          -27.096628189086914,
          -9.621768951416016,
          -38.20743179321289,
          4.755219459533691,
          24.898218154907227,
          2.2015037536621094,
          3.612567186355591,
          11.382319450378418,
          -39.34518051147461,
          11.704961776733398,
          -19.595571517944336,
          6.8339924812316895,
          2.992884874343872,
          -29.478008270263672,
          12.810742378234863,
          3.8912501335144043,
          3.5732460021972656,
          9.578378677368164,
          -29.912416458129883,
          -24.870426177978516,
          -21.969589233398438,
          -15.212400436401367,
          1.2274410724639893,
          22.356731414794922,
          8.917418479919434,
          0.17082662880420685,
          2.883179187774658,
          13.362476348876953,
          8.618254661560059,
          4.132553577423096,
          -21.32213020324707,
          20.107898712158203,
          18.151039123535156,
          4.341388702392578,
          -25.75896644592285,
          -8.472522735595703,
          10.895495414733887,
          -18.806455612182617,
          5.3290934562683105,
          9.177916526794434,
          -3.9915645122528076,
          24.342721939086914,
          8.980209350585938,
          -29.102121353149414,
          11.987873077392578,
          20.52229118347168,
          -27.4263858795166,
          -9.72808837890625,
          -23.119455337524414,
          21.479225158691406,
          -9.122737884521484,
          16.364423751831055,
          8.822678565979004,
          11.191459655761719,
          -39.48136520385742,
          -19.7166690826416,
          18.318119049072266,
          8.607003211975098,
          32.859806060791016,
          -2.5519933700561523,
          -20.525651931762695,
          -4.177275657653809,
          0.2447812259197235,
          -28.528806686401367,
          -16.98139190673828,
          20.9793643951416,
          -6.366697788238525,
          -15.907132148742676,
          24.264860153198242,
          12.082661628723145,
          -25.257015228271484,
          -18.920804977416992,
          3.5414109230041504,
          -2.683248519897461,
          3.2496628761291504,
          11.069692611694336,
          21.98568344116211,
          -9.824718475341797,
          -16.174779891967773,
          -5.757966995239258,
          -23.906089782714844,
          -8.028444290161133,
          -15.872169494628906,
          -24.077402114868164,
          -11.01710319519043,
          9.48829174041748,
          -22.41057586669922,
          -2.853907823562622,
          2.43349289894104,
          13.614497184753418,
          -18.014476776123047,
          17.799772262573242,
          9.8939847946167,
          -10.76197338104248,
          6.013204574584961,
          13.393123626708984,
          8.660036087036133,
          10.89737606048584,
          -22.801897048950195,
          -23.112585067749023,
          -21.538156509399414,
          -15.697677612304688,
          13.922882080078125,
          -5.74265193939209,
          -18.759286880493164,
          -7.349438190460205,
          -28.21556282043457,
          -35.282745361328125,
          -5.681197643280029,
          9.400970458984375,
          -32.165260314941406,
          1.2246382236480713,
          -27.16823387145996,
          15.707737922668457,
          14.431663513183594,
          6.580207824707031,
          -22.665454864501953,
          18.06656837463379,
          11.85714054107666,
          1.5952328443527222,
          6.716975212097168,
          -31.321998596191406,
          -19.833911895751953,
          21.308156967163086,
          -26.749433517456055,
          6.603409767150879,
          8.127348899841309,
          -4.794800758361816,
          14.470142364501953,
          -23.3884220123291,
          10.595235824584961,
          -17.059572219848633,
          -14.903264999389648,
          21.905550003051758,
          23.86155891418457,
          10.750086784362793,
          3.8272974491119385,
          13.546592712402344,
          21.28986358642578,
          11.257794380187988,
          7.121875286102295,
          10.371587753295898,
          10.550908088684082,
          -10.409780502319336,
          13.595019340515137,
          21.4498348236084,
          4.468530178070068,
          11.259641647338867,
          -39.063865661621094,
          -7.196759223937988,
          -19.1435546875,
          -12.845186233520508,
          -9.546968460083008,
          14.570392608642578,
          -28.203800201416016,
          -5.014579772949219,
          7.282235145568848,
          -26.889665603637695,
          3.1645700931549072,
          -4.566406726837158,
          22.016605377197266,
          18.760231018066406,
          -15.931288719177246,
          9.262755393981934,
          -7.985255241394043,
          19.521011352539062,
          23.122760772705078,
          31.7197265625,
          -0.32825782895088196,
          10.870687484741211,
          -18.207693099975586,
          -3.383220672607422,
          10.552287101745605,
          10.971861839294434,
          12.310808181762695,
          -15.644301414489746,
          27.875001907348633,
          -18.34845542907715,
          -10.740163803100586,
          1.5636811256408691,
          11.936871528625488,
          12.931778907775879,
          13.500510215759277,
          -23.623836517333984,
          -10.739975929260254,
          -15.360991477966309,
          -28.686864852905273,
          -14.621140480041504,
          -22.794002532958984,
          23.120834350585938,
          -22.80908966064453,
          -23.09868049621582,
          -23.190719604492188,
          -2.2757391929626465,
          9.620294570922852,
          10.407383918762207,
          -38.70590591430664,
          24.95472526550293,
          3.8718960285186768,
          28.673219680786133,
          2.4328348636627197,
          -12.275232315063477,
          21.637483596801758,
          11.550008773803711,
          -22.279882431030273,
          5.454925060272217,
          -22.588890075683594,
          -0.011879249475896358,
          16.87020492553711,
          -9.168306350708008,
          13.573472023010254,
          -28.604934692382812,
          12.972580909729004,
          20.738065719604492,
          21.86274528503418,
          6.763852119445801,
          22.090938568115234,
          -12.85222053527832,
          7.699862003326416,
          4.5089006423950195,
          4.583303451538086,
          25.789997100830078,
          -30.005779266357422,
          3.2716317176818848,
          22.245447158813477,
          -2.4933042526245117,
          -3.796548843383789,
          -8.090803146362305,
          14.155135154724121,
          34.8187141418457,
          12.290029525756836,
          7.157341957092285,
          1.0514435768127441,
          -12.731860160827637,
          -27.037036895751953,
          20.49612045288086,
          -21.84512710571289,
          -29.110132217407227,
          -27.73541259765625,
          13.078328132629395,
          -22.504375457763672,
          6.415092945098877,
          5.966122627258301,
          -21.028621673583984,
          -31.578453063964844,
          34.5291633605957,
          -23.060073852539062,
          11.242281913757324,
          -21.185531616210938,
          4.285371780395508,
          -32.569618225097656,
          29.087905883789062,
          -3.04950213432312,
          -14.722342491149902,
          5.2086029052734375,
          17.329992294311523,
          9.72338581085205,
          -9.489717483520508,
          12.168685913085938,
          10.477983474731445,
          -20.14192008972168,
          9.810157775878906,
          1.1032439470291138,
          19.834705352783203,
          -30.23932647705078,
          -25.713516235351562,
          -2.8576154708862305,
          -25.73313331604004,
          -19.14237403869629,
          -17.720741271972656,
          21.47576332092285,
          -22.123239517211914,
          4.598970890045166,
          1.1230747699737549,
          3.191370725631714,
          -19.524124145507812,
          -26.640705108642578,
          -9.243454933166504,
          -29.55242919921875,
          -31.319665908813477,
          12.869422912597656,
          -4.334232330322266,
          -17.83251953125,
          31.362194061279297,
          11.275925636291504,
          4.7179036140441895,
          15.269768714904785,
          12.250596046447754,
          -37.83544158935547,
          25.480833053588867,
          12.710043907165527,
          21.91264533996582,
          6.1554999351501465,
          -3.103782892227173,
          -10.44870376586914,
          3.2483997344970703,
          -21.757640838623047,
          -4.611327648162842,
          -32.263187408447266,
          3.16202449798584,
          -23.617830276489258,
          12.242334365844727,
          5.531528949737549,
          -19.51205825805664,
          -25.285921096801758,
          9.621590614318848,
          -3.010418653488159,
          -13.33940601348877,
          25.233041763305664,
          6.6602983474731445,
          10.739794731140137,
          25.86467170715332,
          -33.07200622558594,
          -21.63690948486328,
          32.87297058105469,
          11.73643684387207,
          -4.131572246551514,
          8.732969284057617,
          -3.1070995330810547,
          4.740903854370117,
          -1.0109480619430542,
          -32.62961959838867,
          -16.266813278198242,
          25.85820960998535,
          9.936100006103516,
          29.125961303710938,
          10.173927307128906,
          24.420154571533203,
          1.345835566520691,
          -30.37995719909668,
          -27.835325241088867,
          10.706999778747559,
          4.771132469177246,
          -29.624773025512695,
          1.7002408504486084,
          -31.965410232543945,
          -21.80843734741211,
          19.818153381347656,
          -23.649702072143555,
          -13.6615571975708,
          -5.487637519836426,
          1.8203762769699097,
          -1.6205286979675293
         ],
         "xaxis": "x",
         "y": [
          8.368891716003418,
          -7.330135822296143,
          -20.212018966674805,
          25.820579528808594,
          -22.997356414794922,
          12.092445373535156,
          -10.501073837280273,
          -9.033625602722168,
          33.71092987060547,
          -22.50244140625,
          -20.183624267578125,
          -16.259586334228516,
          -2.5562398433685303,
          -1.1216464042663574,
          -3.309629201889038,
          8.719528198242188,
          -1.7895832061767578,
          35.380332946777344,
          -4.94656229019165,
          -7.082777976989746,
          25.47780990600586,
          32.62601089477539,
          -14.737318992614746,
          -18.46115493774414,
          -9.814010620117188,
          35.32801055908203,
          -4.898589611053467,
          27.845808029174805,
          5.506190299987793,
          35.825958251953125,
          20.063051223754883,
          -17.30929946899414,
          -11.900518417358398,
          1.5134693384170532,
          -5.263310432434082,
          -10.760061264038086,
          -15.480476379394531,
          -6.7452874183654785,
          28.67896270751953,
          -6.225372314453125,
          -12.04279899597168,
          -24.717031478881836,
          -11.64586067199707,
          -3.269606113433838,
          7.518906116485596,
          2.394418239593506,
          -6.031938552856445,
          6.66118049621582,
          3.9333605766296387,
          -17.04629135131836,
          -1.4267382621765137,
          -16.2764892578125,
          -14.555441856384277,
          -11.046453475952148,
          0.6586254239082336,
          -0.2805668115615845,
          -18.820728302001953,
          -6.712262153625488,
          -24.725393295288086,
          25.220136642456055,
          1.7737106084823608,
          31.490402221679688,
          16.74946403503418,
          -8.59023666381836,
          -4.705020904541016,
          -15.368642807006836,
          -8.017727851867676,
          -5.962950706481934,
          -8.06397533416748,
          2.7837672233581543,
          -3.1897876262664795,
          -3.585777997970581,
          -17.620607376098633,
          -20.70912742614746,
          -17.74248504638672,
          -8.273699760437012,
          -20.964881896972656,
          -0.6918001174926758,
          29.493484497070312,
          -0.28715288639068604,
          -24.040281295776367,
          -1.1111010313034058,
          -19.084102630615234,
          -2.038994789123535,
          -5.126238822937012,
          -15.284754753112793,
          24.60382080078125,
          4.746284008026123,
          34.043521881103516,
          34.10261154174805,
          -8.353142738342285,
          13.43725872039795,
          -4.138266086578369,
          15.18940544128418,
          37.28563690185547,
          14.87329387664795,
          -2.591158390045166,
          -9.792410850524902,
          -2.6827406883239746,
          31.94461441040039,
          -11.012150764465332,
          22.231454849243164,
          -10.440117835998535,
          -24.69755744934082,
          -3.736929416656494,
          12.702219009399414,
          32.58866500854492,
          -13.56429672241211,
          13.699959754943848,
          -18.179595947265625,
          -17.262226104736328,
          34.30337905883789,
          35.13797378540039,
          -17.78202247619629,
          -4.251983165740967,
          -16.118148803710938,
          39.68424987792969,
          -10.147319793701172,
          36.06906509399414,
          -4.9061279296875,
          -1.5008416175842285,
          21.558208465576172,
          -8.191590309143066,
          -7.424163341522217,
          -2.692502737045288,
          -23.87628746032715,
          -4.38975191116333,
          -22.84554672241211,
          -9.520766258239746,
          11.557512283325195,
          -7.106022834777832,
          -1.2938402891159058,
          -15.883222579956055,
          -4.979608058929443,
          32.42226791381836,
          26.30290985107422,
          2.782414674758911,
          30.754261016845703,
          -10.355611801147461,
          -5.220358371734619,
          -21.822423934936523,
          -5.3581414222717285,
          15.610260009765625,
          -20.691139221191406,
          10.528524398803711,
          -4.10818338394165,
          29.82996940612793,
          30.377729415893555,
          -0.2366349995136261,
          -14.905674934387207,
          31.984067916870117,
          15.527273178100586,
          -7.505016803741455,
          -10.111227989196777,
          -0.5963806509971619,
          -19.570650100708008,
          29.59241485595703,
          11.483487129211426,
          -4.482118129730225,
          0.4880918860435486,
          27.158668518066406,
          -6.57283878326416,
          20.438060760498047,
          -24.907527923583984,
          -13.677046775817871,
          6.001489639282227,
          4.827746391296387,
          -8.470970153808594,
          35.292301177978516,
          -13.645895004272461,
          -9.59128189086914,
          -6.17659330368042,
          -6.166162490844727,
          -3.0132968425750732,
          -1.7256988286972046,
          -11.519554138183594,
          -3.2121798992156982,
          -21.885581970214844,
          30.22770118713379,
          -0.376066654920578,
          5.250802040100098,
          32.47970962524414,
          -10.085054397583008,
          -9.572070121765137,
          -16.074501037597656,
          -2.78583025932312,
          -7.9437079429626465,
          -6.1682257652282715,
          30.403982162475586,
          6.490942478179932,
          -16.8853759765625,
          -10.739316940307617,
          -4.205795764923096,
          -11.428629875183105,
          4.140414237976074,
          8.777158737182617,
          -4.348080635070801,
          -7.543161869049072,
          -7.091214656829834,
          25.540348052978516,
          36.6125602722168,
          -1.2538232803344727,
          -11.496843338012695,
          -6.964634418487549,
          23.06429100036621,
          -25.608949661254883,
          -20.61473846435547,
          -17.420461654663086,
          -7.426138877868652,
          -9.717887878417969,
          -13.491400718688965,
          -4.3941802978515625,
          29.5804386138916,
          -19.431163787841797,
          -6.992748737335205,
          -0.8056030869483948,
          -12.01205062866211,
          -13.334020614624023,
          13.96876335144043,
          1.039892315864563,
          -0.5083242058753967,
          37.0861930847168,
          36.010677337646484,
          -22.496383666992188,
          0.6635028123855591,
          28.12763023376465,
          -20.365283966064453,
          -2.260694980621338,
          -3.761044979095459,
          -8.831574440002441,
          -3.216392755508423,
          -10.531848907470703,
          -10.88215446472168,
          1.8749711513519287,
          36.92957305908203,
          -10.895364761352539,
          -4.195157051086426,
          -3.452359437942505,
          -19.94806671142578,
          -16.721830368041992,
          -12.575079917907715,
          26.882265090942383,
          -9.476630210876465,
          -5.247000694274902,
          -8.300317764282227,
          -11.013514518737793,
          -5.168971061706543,
          -11.341008186340332,
          -21.581409454345703,
          13.964639663696289,
          -25.15671157836914,
          -16.895750045776367,
          -9.711509704589844,
          3.6413309574127197,
          -15.786466598510742,
          -9.475783348083496,
          -15.390612602233887,
          -6.978575229644775,
          5.5807600021362305,
          -10.468572616577148,
          -14.55595588684082,
          -12.95504093170166,
          22.564111709594727,
          42.31522750854492,
          -17.02683448791504,
          -11.423774719238281,
          -4.717024803161621,
          36.214595794677734,
          -3.4965643882751465,
          15.012141227722168,
          29.406404495239258,
          -4.233563423156738,
          5.866974353790283,
          -10.024311065673828,
          33.03510665893555,
          -7.042778015136719,
          15.085537910461426,
          -7.954121112823486,
          -5.8322930335998535,
          -10.226088523864746,
          0.14940887689590454,
          -4.905020713806152,
          16.425830841064453,
          -12.252924919128418,
          -17.480846405029297,
          23.791831970214844,
          -1.7179644107818604,
          27.007068634033203,
          -11.175984382629395,
          -8.61327075958252,
          -0.6922265887260437,
          -4.577353000640869,
          7.5105695724487305,
          -15.835686683654785,
          8.297292709350586,
          -25.856975555419922,
          -3.726698160171509,
          40.72881317138672,
          5.552652835845947,
          -1.5471465587615967,
          -12.456021308898926,
          23.43120002746582,
          -13.320566177368164,
          -13.773408889770508,
          -7.851011753082275,
          1.742838978767395,
          -10.939966201782227,
          -17.504310607910156,
          -26.445384979248047,
          27.929922103881836,
          -3.998464584350586,
          34.797149658203125,
          -0.03428374603390694,
          37.269020080566406,
          -5.6412200927734375,
          -1.0432368516921997,
          2.986907958984375,
          11.738959312438965,
          -12.394294738769531,
          14.377097129821777,
          -9.703487396240234,
          25.558074951171875,
          -5.914488792419434,
          -0.4506339430809021,
          -26.01973533630371,
          -9.852347373962402,
          -17.042593002319336,
          37.100807189941406,
          -18.208715438842773,
          31.530054092407227,
          2.109745979309082,
          -8.626628875732422,
          -0.19479408860206604,
          -3.609194278717041,
          -18.306119918823242,
          12.505492210388184,
          -0.17328724265098572,
          5.66458797454834,
          6.152071475982666,
          -6.14877462387085,
          -2.438340425491333,
          -4.711944103240967,
          -6.829921245574951,
          1.7733031511306763,
          35.968719482421875,
          -17.242355346679688,
          -17.69548225402832,
          -6.488162040710449,
          5.2440996170043945,
          23.16098403930664,
          4.480339527130127,
          31.526199340820312,
          13.164811134338379,
          -15.014922142028809,
          32.728248596191406,
          -12.641435623168945,
          -3.0023326873779297,
          -20.06178092956543,
          -1.087417483329773,
          -5.227599143981934,
          -0.5068473219871521,
          34.29402542114258,
          -9.975558280944824,
          -13.16218376159668,
          34.84947967529297,
          33.584800720214844,
          -6.511294841766357,
          -4.674355983734131,
          36.142051696777344,
          -7.324481964111328,
          -22.020448684692383,
          -12.191404342651367,
          -4.670248508453369,
          -7.453120708465576,
          -7.288435459136963,
          32.21630096435547,
          -9.756723403930664,
          34.271732330322266,
          -10.9244966506958,
          28.968889236450195,
          -13.730400085449219,
          -16.758691787719727,
          -21.254920959472656,
          -26.147123336791992,
          -14.344799041748047,
          -19.231693267822266,
          34.92695617675781,
          -11.70265007019043,
          -18.818159103393555,
          36.19834899902344,
          -11.320317268371582,
          -15.2042875289917,
          27.607824325561523,
          -7.274178504943848,
          16.479169845581055,
          0.0070846122689545155,
          36.731075286865234,
          -13.463279724121094,
          16.256336212158203,
          20.906055450439453,
          12.090578079223633,
          31.107437133789062,
          -3.134155511856079,
          -7.043186664581299,
          -7.111743450164795,
          13.460779190063477,
          -1.8895578384399414,
          1.4564645290374756,
          -10.81450080871582,
          -0.546183168888092,
          -1.5246126651763916,
          26.9654541015625,
          16.67661476135254,
          -9.925018310546875,
          -10.891718864440918,
          2.484029769897461,
          33.52134704589844,
          8.425403594970703,
          -10.085675239562988,
          7.170820236206055,
          35.79471206665039,
          -4.497607231140137,
          -1.030293583869934,
          -15.850533485412598,
          -27.23818588256836,
          21.05073356628418,
          29.651283264160156,
          -9.237691879272461,
          -3.5288174152374268,
          -1.3598952293395996,
          -7.701551914215088,
          34.103267669677734,
          -16.088428497314453,
          25.356029510498047,
          -2.23647403717041,
          38.03468704223633,
          -18.392263412475586,
          7.100611209869385,
          6.639590740203857,
          -14.16489315032959,
          5.69338846206665,
          -17.27298355102539,
          36.89087677001953,
          -17.73472023010254,
          -0.6959273815155029,
          -19.31276512145996,
          -6.627445697784424,
          13.605605125427246,
          -12.001912117004395,
          -6.888784408569336,
          29.447200775146484,
          -21.362470626831055,
          -3.36912202835083,
          -16.093524932861328,
          34.5525016784668,
          23.0444393157959,
          -3.5004584789276123,
          -5.865452289581299,
          30.45432472229004,
          -6.1059112548828125,
          -5.481942653656006,
          -7.121238708496094,
          0.16603833436965942,
          -18.690555572509766,
          25.837265014648438,
          27.41673469543457,
          -16.507305145263672,
          -4.549828052520752,
          7.525445461273193,
          34.16230392456055,
          -12.124863624572754,
          -8.68467903137207,
          -14.299386978149414,
          -8.626030921936035,
          26.077817916870117,
          -14.159708023071289,
          -9.504478454589844,
          -3.6608078479766846,
          26.776792526245117,
          28.45271110534668,
          29.612808227539062,
          -24.335012435913086,
          -15.843099594116211,
          -25.882017135620117,
          1.9288110733032227,
          15.667074203491211,
          -18.048059463500977,
          -6.556623935699463,
          -5.274409294128418,
          13.935431480407715,
          -21.817800521850586,
          6.046882152557373,
          8.79525089263916,
          14.26578426361084,
          -16.72981071472168,
          33.087894439697266,
          -7.316873550415039,
          35.23531723022461,
          -5.288776397705078,
          -9.63698673248291,
          -10.938060760498047,
          -1.7356592416763306,
          -9.679659843444824,
          -4.67125940322876,
          -15.676152229309082,
          -22.76326560974121,
          -5.4575514793396,
          -4.9820237159729,
          -13.09441089630127,
          7.6992597579956055,
          -25.505802154541016,
          39.484169006347656,
          28.44034767150879,
          -5.083744049072266,
          4.4368696212768555,
          -7.8764262199401855,
          6.789637565612793,
          -9.767919540405273,
          -3.466069221496582,
          -9.7274169921875,
          3.8088173866271973,
          -26.004552841186523,
          6.679496765136719,
          -9.770009994506836,
          -6.534971714019775,
          -21.39514923095703,
          -8.584932327270508,
          -9.072235107421875,
          -7.384016990661621,
          7.540256977081299,
          24.339366912841797,
          -7.935060024261475,
          3.3925414085388184,
          30.563955307006836,
          -26.074750900268555,
          -5.040853500366211,
          -9.975748062133789,
          30.41861343383789,
          -6.160284042358398,
          -15.53271484375,
          -3.5927340984344482,
          -21.030921936035156,
          -16.060808181762695,
          6.146295070648193,
          16.455575942993164,
          -13.125222206115723,
          36.13093185424805,
          -22.486968994140625,
          6.327439785003662,
          4.706056118011475,
          12.932448387145996,
          -1.188876986503601,
          -20.42258644104004,
          -21.143701553344727,
          -4.086799144744873,
          0.9434454441070557,
          -21.825532913208008,
          -10.10920238494873,
          33.73582077026367,
          -2.0308382511138916,
          -12.307817459106445,
          13.246785163879395,
          -16.47112274169922,
          -3.4763011932373047,
          26.873727798461914,
          -24.9702205657959,
          -4.550076007843018,
          -13.120940208435059,
          -13.71444320678711,
          7.95264196395874,
          -1.0836448669433594,
          24.465822219848633,
          2.5757923126220703,
          -1.3518813848495483,
          0.6704162955284119,
          7.270288467407227,
          14.420076370239258,
          -5.1450910568237305,
          -16.9036808013916,
          24.187559127807617,
          33.60310745239258,
          36.599605560302734,
          19.978595733642578,
          -3.6818668842315674,
          -14.416993141174316,
          -1.543595552444458,
          41.27220916748047,
          -5.0997514724731445,
          16.547332763671875,
          -6.481457710266113,
          -7.334676742553711,
          4.458311080932617,
          -2.5476977825164795,
          -10.378640174865723,
          -19.196857452392578,
          -27.06696128845215,
          14.609683990478516,
          42.36506652832031,
          2.1271681785583496,
          20.469301223754883,
          38.460784912109375,
          35.6297607421875,
          -18.549461364746094,
          -11.512317657470703,
          -10.105581283569336,
          16.699541091918945,
          -8.575655937194824,
          -6.2736687660217285,
          0.07903153449296951,
          -14.43734359741211,
          -2.496358871459961,
          31.969329833984375,
          31.551589965820312,
          36.571136474609375,
          15.886323928833008,
          -20.59563636779785,
          36.357032775878906,
          13.986759185791016,
          -6.657831192016602,
          3.152099132537842,
          30.047466278076172,
          6.65242862701416,
          -5.155496120452881,
          6.760745525360107,
          -2.0588326454162598,
          -14.27425765991211,
          9.204742431640625,
          -6.10920524597168,
          -11.847078323364258,
          -15.127350807189941,
          -3.426131010055542,
          -3.506023645401001,
          -24.064876556396484,
          33.73164367675781,
          27.617311477661133,
          -9.941729545593262,
          -16.665054321289062,
          -6.0697784423828125,
          32.2325553894043,
          24.70165252685547,
          33.67872619628906,
          15.933754920959473,
          15.845855712890625,
          -1.6012250185012817,
          32.234703063964844,
          -23.233543395996094,
          -10.42976188659668,
          -8.697708129882812,
          -12.030576705932617,
          29.008947372436523,
          0.9219508767127991,
          -5.383929252624512,
          24.10223388671875,
          -14.626436233520508,
          42.60390090942383,
          10.700156211853027,
          32.045780181884766,
          4.53594446182251,
          16.163497924804688,
          31.530256271362305,
          -3.1245405673980713,
          -10.117920875549316,
          0.4329501688480377,
          -7.337402820587158,
          -7.30997371673584,
          -8.166695594787598,
          -9.637481689453125,
          27.15924072265625,
          -4.3471784591674805,
          -12.997291564941406,
          -3.8699989318847656,
          -14.919032096862793,
          -20.73923683166504,
          33.20838928222656,
          -2.4021241664886475,
          25.17586898803711,
          -20.350679397583008,
          -13.938963890075684,
          1.8678549528121948,
          14.505816459655762,
          37.005924224853516,
          29.078439712524414
         ],
         "yaxis": "y"
        }
       ],
       "layout": {
        "legend": {
         "tracegroupgap": 0
        },
        "margin": {
         "t": 60
        },
        "template": {
         "data": {
          "bar": [
           {
            "error_x": {
             "color": "#2a3f5f"
            },
            "error_y": {
             "color": "#2a3f5f"
            },
            "marker": {
             "line": {
              "color": "#E5ECF6",
              "width": 0.5
             }
            },
            "type": "bar"
           }
          ],
          "barpolar": [
           {
            "marker": {
             "line": {
              "color": "#E5ECF6",
              "width": 0.5
             }
            },
            "type": "barpolar"
           }
          ],
          "carpet": [
           {
            "aaxis": {
             "endlinecolor": "#2a3f5f",
             "gridcolor": "white",
             "linecolor": "white",
             "minorgridcolor": "white",
             "startlinecolor": "#2a3f5f"
            },
            "baxis": {
             "endlinecolor": "#2a3f5f",
             "gridcolor": "white",
             "linecolor": "white",
             "minorgridcolor": "white",
             "startlinecolor": "#2a3f5f"
            },
            "type": "carpet"
           }
          ],
          "choropleth": [
           {
            "colorbar": {
             "outlinewidth": 0,
             "ticks": ""
            },
            "type": "choropleth"
           }
          ],
          "contour": [
           {
            "colorbar": {
             "outlinewidth": 0,
             "ticks": ""
            },
            "colorscale": [
             [
              0,
              "#0d0887"
             ],
             [
              0.1111111111111111,
              "#46039f"
             ],
             [
              0.2222222222222222,
              "#7201a8"
             ],
             [
              0.3333333333333333,
              "#9c179e"
             ],
             [
              0.4444444444444444,
              "#bd3786"
             ],
             [
              0.5555555555555556,
              "#d8576b"
             ],
             [
              0.6666666666666666,
              "#ed7953"
             ],
             [
              0.7777777777777778,
              "#fb9f3a"
             ],
             [
              0.8888888888888888,
              "#fdca26"
             ],
             [
              1,
              "#f0f921"
             ]
            ],
            "type": "contour"
           }
          ],
          "contourcarpet": [
           {
            "colorbar": {
             "outlinewidth": 0,
             "ticks": ""
            },
            "type": "contourcarpet"
           }
          ],
          "heatmap": [
           {
            "colorbar": {
             "outlinewidth": 0,
             "ticks": ""
            },
            "colorscale": [
             [
              0,
              "#0d0887"
             ],
             [
              0.1111111111111111,
              "#46039f"
             ],
             [
              0.2222222222222222,
              "#7201a8"
             ],
             [
              0.3333333333333333,
              "#9c179e"
             ],
             [
              0.4444444444444444,
              "#bd3786"
             ],
             [
              0.5555555555555556,
              "#d8576b"
             ],
             [
              0.6666666666666666,
              "#ed7953"
             ],
             [
              0.7777777777777778,
              "#fb9f3a"
             ],
             [
              0.8888888888888888,
              "#fdca26"
             ],
             [
              1,
              "#f0f921"
             ]
            ],
            "type": "heatmap"
           }
          ],
          "heatmapgl": [
           {
            "colorbar": {
             "outlinewidth": 0,
             "ticks": ""
            },
            "colorscale": [
             [
              0,
              "#0d0887"
             ],
             [
              0.1111111111111111,
              "#46039f"
             ],
             [
              0.2222222222222222,
              "#7201a8"
             ],
             [
              0.3333333333333333,
              "#9c179e"
             ],
             [
              0.4444444444444444,
              "#bd3786"
             ],
             [
              0.5555555555555556,
              "#d8576b"
             ],
             [
              0.6666666666666666,
              "#ed7953"
             ],
             [
              0.7777777777777778,
              "#fb9f3a"
             ],
             [
              0.8888888888888888,
              "#fdca26"
             ],
             [
              1,
              "#f0f921"
             ]
            ],
            "type": "heatmapgl"
           }
          ],
          "histogram": [
           {
            "marker": {
             "colorbar": {
              "outlinewidth": 0,
              "ticks": ""
             }
            },
            "type": "histogram"
           }
          ],
          "histogram2d": [
           {
            "colorbar": {
             "outlinewidth": 0,
             "ticks": ""
            },
            "colorscale": [
             [
              0,
              "#0d0887"
             ],
             [
              0.1111111111111111,
              "#46039f"
             ],
             [
              0.2222222222222222,
              "#7201a8"
             ],
             [
              0.3333333333333333,
              "#9c179e"
             ],
             [
              0.4444444444444444,
              "#bd3786"
             ],
             [
              0.5555555555555556,
              "#d8576b"
             ],
             [
              0.6666666666666666,
              "#ed7953"
             ],
             [
              0.7777777777777778,
              "#fb9f3a"
             ],
             [
              0.8888888888888888,
              "#fdca26"
             ],
             [
              1,
              "#f0f921"
             ]
            ],
            "type": "histogram2d"
           }
          ],
          "histogram2dcontour": [
           {
            "colorbar": {
             "outlinewidth": 0,
             "ticks": ""
            },
            "colorscale": [
             [
              0,
              "#0d0887"
             ],
             [
              0.1111111111111111,
              "#46039f"
             ],
             [
              0.2222222222222222,
              "#7201a8"
             ],
             [
              0.3333333333333333,
              "#9c179e"
             ],
             [
              0.4444444444444444,
              "#bd3786"
             ],
             [
              0.5555555555555556,
              "#d8576b"
             ],
             [
              0.6666666666666666,
              "#ed7953"
             ],
             [
              0.7777777777777778,
              "#fb9f3a"
             ],
             [
              0.8888888888888888,
              "#fdca26"
             ],
             [
              1,
              "#f0f921"
             ]
            ],
            "type": "histogram2dcontour"
           }
          ],
          "mesh3d": [
           {
            "colorbar": {
             "outlinewidth": 0,
             "ticks": ""
            },
            "type": "mesh3d"
           }
          ],
          "parcoords": [
           {
            "line": {
             "colorbar": {
              "outlinewidth": 0,
              "ticks": ""
             }
            },
            "type": "parcoords"
           }
          ],
          "pie": [
           {
            "automargin": true,
            "type": "pie"
           }
          ],
          "scatter": [
           {
            "marker": {
             "colorbar": {
              "outlinewidth": 0,
              "ticks": ""
             }
            },
            "type": "scatter"
           }
          ],
          "scatter3d": [
           {
            "line": {
             "colorbar": {
              "outlinewidth": 0,
              "ticks": ""
             }
            },
            "marker": {
             "colorbar": {
              "outlinewidth": 0,
              "ticks": ""
             }
            },
            "type": "scatter3d"
           }
          ],
          "scattercarpet": [
           {
            "marker": {
             "colorbar": {
              "outlinewidth": 0,
              "ticks": ""
             }
            },
            "type": "scattercarpet"
           }
          ],
          "scattergeo": [
           {
            "marker": {
             "colorbar": {
              "outlinewidth": 0,
              "ticks": ""
             }
            },
            "type": "scattergeo"
           }
          ],
          "scattergl": [
           {
            "marker": {
             "colorbar": {
              "outlinewidth": 0,
              "ticks": ""
             }
            },
            "type": "scattergl"
           }
          ],
          "scattermapbox": [
           {
            "marker": {
             "colorbar": {
              "outlinewidth": 0,
              "ticks": ""
             }
            },
            "type": "scattermapbox"
           }
          ],
          "scatterpolar": [
           {
            "marker": {
             "colorbar": {
              "outlinewidth": 0,
              "ticks": ""
             }
            },
            "type": "scatterpolar"
           }
          ],
          "scatterpolargl": [
           {
            "marker": {
             "colorbar": {
              "outlinewidth": 0,
              "ticks": ""
             }
            },
            "type": "scatterpolargl"
           }
          ],
          "scatterternary": [
           {
            "marker": {
             "colorbar": {
              "outlinewidth": 0,
              "ticks": ""
             }
            },
            "type": "scatterternary"
           }
          ],
          "surface": [
           {
            "colorbar": {
             "outlinewidth": 0,
             "ticks": ""
            },
            "colorscale": [
             [
              0,
              "#0d0887"
             ],
             [
              0.1111111111111111,
              "#46039f"
             ],
             [
              0.2222222222222222,
              "#7201a8"
             ],
             [
              0.3333333333333333,
              "#9c179e"
             ],
             [
              0.4444444444444444,
              "#bd3786"
             ],
             [
              0.5555555555555556,
              "#d8576b"
             ],
             [
              0.6666666666666666,
              "#ed7953"
             ],
             [
              0.7777777777777778,
              "#fb9f3a"
             ],
             [
              0.8888888888888888,
              "#fdca26"
             ],
             [
              1,
              "#f0f921"
             ]
            ],
            "type": "surface"
           }
          ],
          "table": [
           {
            "cells": {
             "fill": {
              "color": "#EBF0F8"
             },
             "line": {
              "color": "white"
             }
            },
            "header": {
             "fill": {
              "color": "#C8D4E3"
             },
             "line": {
              "color": "white"
             }
            },
            "type": "table"
           }
          ]
         },
         "layout": {
          "annotationdefaults": {
           "arrowcolor": "#2a3f5f",
           "arrowhead": 0,
           "arrowwidth": 1
          },
          "coloraxis": {
           "colorbar": {
            "outlinewidth": 0,
            "ticks": ""
           }
          },
          "colorscale": {
           "diverging": [
            [
             0,
             "#8e0152"
            ],
            [
             0.1,
             "#c51b7d"
            ],
            [
             0.2,
             "#de77ae"
            ],
            [
             0.3,
             "#f1b6da"
            ],
            [
             0.4,
             "#fde0ef"
            ],
            [
             0.5,
             "#f7f7f7"
            ],
            [
             0.6,
             "#e6f5d0"
            ],
            [
             0.7,
             "#b8e186"
            ],
            [
             0.8,
             "#7fbc41"
            ],
            [
             0.9,
             "#4d9221"
            ],
            [
             1,
             "#276419"
            ]
           ],
           "sequential": [
            [
             0,
             "#0d0887"
            ],
            [
             0.1111111111111111,
             "#46039f"
            ],
            [
             0.2222222222222222,
             "#7201a8"
            ],
            [
             0.3333333333333333,
             "#9c179e"
            ],
            [
             0.4444444444444444,
             "#bd3786"
            ],
            [
             0.5555555555555556,
             "#d8576b"
            ],
            [
             0.6666666666666666,
             "#ed7953"
            ],
            [
             0.7777777777777778,
             "#fb9f3a"
            ],
            [
             0.8888888888888888,
             "#fdca26"
            ],
            [
             1,
             "#f0f921"
            ]
           ],
           "sequentialminus": [
            [
             0,
             "#0d0887"
            ],
            [
             0.1111111111111111,
             "#46039f"
            ],
            [
             0.2222222222222222,
             "#7201a8"
            ],
            [
             0.3333333333333333,
             "#9c179e"
            ],
            [
             0.4444444444444444,
             "#bd3786"
            ],
            [
             0.5555555555555556,
             "#d8576b"
            ],
            [
             0.6666666666666666,
             "#ed7953"
            ],
            [
             0.7777777777777778,
             "#fb9f3a"
            ],
            [
             0.8888888888888888,
             "#fdca26"
            ],
            [
             1,
             "#f0f921"
            ]
           ]
          },
          "colorway": [
           "#636efa",
           "#EF553B",
           "#00cc96",
           "#ab63fa",
           "#FFA15A",
           "#19d3f3",
           "#FF6692",
           "#B6E880",
           "#FF97FF",
           "#FECB52"
          ],
          "font": {
           "color": "#2a3f5f"
          },
          "geo": {
           "bgcolor": "white",
           "lakecolor": "white",
           "landcolor": "#E5ECF6",
           "showlakes": true,
           "showland": true,
           "subunitcolor": "white"
          },
          "hoverlabel": {
           "align": "left"
          },
          "hovermode": "closest",
          "mapbox": {
           "style": "light"
          },
          "paper_bgcolor": "white",
          "plot_bgcolor": "#E5ECF6",
          "polar": {
           "angularaxis": {
            "gridcolor": "white",
            "linecolor": "white",
            "ticks": ""
           },
           "bgcolor": "#E5ECF6",
           "radialaxis": {
            "gridcolor": "white",
            "linecolor": "white",
            "ticks": ""
           }
          },
          "scene": {
           "xaxis": {
            "backgroundcolor": "#E5ECF6",
            "gridcolor": "white",
            "gridwidth": 2,
            "linecolor": "white",
            "showbackground": true,
            "ticks": "",
            "zerolinecolor": "white"
           },
           "yaxis": {
            "backgroundcolor": "#E5ECF6",
            "gridcolor": "white",
            "gridwidth": 2,
            "linecolor": "white",
            "showbackground": true,
            "ticks": "",
            "zerolinecolor": "white"
           },
           "zaxis": {
            "backgroundcolor": "#E5ECF6",
            "gridcolor": "white",
            "gridwidth": 2,
            "linecolor": "white",
            "showbackground": true,
            "ticks": "",
            "zerolinecolor": "white"
           }
          },
          "shapedefaults": {
           "line": {
            "color": "#2a3f5f"
           }
          },
          "ternary": {
           "aaxis": {
            "gridcolor": "white",
            "linecolor": "white",
            "ticks": ""
           },
           "baxis": {
            "gridcolor": "white",
            "linecolor": "white",
            "ticks": ""
           },
           "bgcolor": "#E5ECF6",
           "caxis": {
            "gridcolor": "white",
            "linecolor": "white",
            "ticks": ""
           }
          },
          "title": {
           "x": 0.05
          },
          "xaxis": {
           "automargin": true,
           "gridcolor": "white",
           "linecolor": "white",
           "ticks": "",
           "title": {
            "standoff": 15
           },
           "zerolinecolor": "white",
           "zerolinewidth": 2
          },
          "yaxis": {
           "automargin": true,
           "gridcolor": "white",
           "linecolor": "white",
           "ticks": "",
           "title": {
            "standoff": 15
           },
           "zerolinecolor": "white",
           "zerolinewidth": 2
          }
         }
        },
        "xaxis": {
         "anchor": "y",
         "domain": [
          0,
          1
         ],
         "title": {
          "text": "x"
         }
        },
        "yaxis": {
         "anchor": "x",
         "domain": [
          0,
          1
         ],
         "title": {
          "text": "y"
         }
        }
       }
      },
      "text/html": [
       "<div>\n",
       "        \n",
       "        \n",
       "            <div id=\"8de6f6b6-a592-45c5-b36f-9a189d77ed42\" class=\"plotly-graph-div\" style=\"height:525px; width:100%;\"></div>\n",
       "            <script type=\"text/javascript\">\n",
       "                require([\"plotly\"], function(Plotly) {\n",
       "                    window.PLOTLYENV=window.PLOTLYENV || {};\n",
       "                    \n",
       "                if (document.getElementById(\"8de6f6b6-a592-45c5-b36f-9a189d77ed42\")) {\n",
       "                    Plotly.newPlot(\n",
       "                        '8de6f6b6-a592-45c5-b36f-9a189d77ed42',\n",
       "                        [{\"hovertemplate\": \"x=%{x}<br>y=%{y}<extra></extra>\", \"legendgroup\": \"\", \"marker\": {\"color\": \"#636efa\", \"symbol\": \"circle\"}, \"mode\": \"markers\", \"name\": \"\", \"showlegend\": false, \"type\": \"scatter\", \"x\": [-16.286418914794922, -8.906126022338867, -27.2762393951416, 1.4448453187942505, 0.9890345335006714, -27.79295539855957, 22.99891471862793, -11.73894214630127, 8.071080207824707, 16.712656021118164, -25.850723266601562, 23.244056701660156, 10.59911823272705, -7.623411178588867, -15.709342002868652, 12.229337692260742, -9.11681842803955, 6.274383068084717, -24.382917404174805, -25.1499080657959, -1.4632216691970825, 0.44717928767204285, 13.831832885742188, 19.744592666625977, 14.820612907409668, -0.4952232837677002, 31.87767791748047, -1.1504848003387451, -9.263994216918945, -7.5610671043396, -21.398387908935547, 23.82673454284668, 6.491359233856201, 20.100727081298828, -8.75228500366211, -15.381098747253418, 3.462730646133423, 7.912458896636963, 2.495269298553467, 8.91832447052002, -17.019603729248047, -1.838590145111084, -29.24094009399414, 12.837045669555664, -17.6800594329834, 15.005647659301758, 30.273941040039062, 10.347565650939941, -2.7459988594055176, -11.566205024719238, -14.258968353271484, 12.640819549560547, 4.4975738525390625, -27.72502326965332, 7.383508205413818, -8.395212173461914, 26.974037170410156, 29.08247184753418, -0.5608104467391968, -22.448623657226562, 25.021305084228516, -9.96603012084961, 4.997342586517334, 18.13118553161621, -0.291197270154953, 34.595489501953125, 6.706874847412109, -15.140902519226074, -16.308841705322266, -1.6311125755310059, -30.25557518005371, -14.110112190246582, 19.221662521362305, 6.653976917266846, 3.8665390014648438, -14.267478942871094, -26.44452667236328, 17.389724731445312, -3.68039608001709, 14.744855880737305, -2.010688543319702, -31.49812889099121, 16.895071029663086, -17.534881591796875, -29.17034912109375, 15.81016731262207, 5.582498073577881, 10.360824584960938, 2.4859163761138916, -10.22391414642334, -24.93935203552246, -28.8516845703125, -0.3236692249774933, -10.424531936645508, 10.832876205444336, -10.37355899810791, 12.744065284729004, 16.079452514648438, -22.276256561279297, 6.502884387969971, -23.565420150756836, -20.613122940063477, 10.55147933959961, -1.1761714220046997, 7.965178489685059, -29.516956329345703, 9.058735847473145, 35.08692932128906, -6.387702941894531, 10.640440940856934, -19.0006103515625, 11.665339469909668, 1.9700138568878174, -18.804405212402344, 17.828929901123047, 14.032997131347656, 10.600174903869629, -12.533040046691895, 4.513330936431885, 18.497817993164062, -13.218012809753418, -21.07894515991211, 7.703944206237793, 21.509750366210938, -15.075801849365234, -0.8456794023513794, 13.17800521850586, 10.480692863464355, -6.6975202560424805, -4.51878547668457, 6.282824516296387, -19.697404861450195, 23.212844848632812, -37.86663818359375, 13.944437026977539, 5.2469868659973145, 7.8160271644592285, -1.749229907989502, 25.05916976928711, -22.15248680114746, -12.846360206604004, -31.029640197753906, 5.129291534423828, 6.882352352142334, -4.138950347900391, -10.449297904968262, -8.870763778686523, 5.493740081787109, 20.020978927612305, 34.8299560546875, -0.013480782508850098, -9.33831787109375, -21.730649948120117, 17.932771682739258, 14.196877479553223, -26.6109561920166, 2.62935209274292, -3.698563814163208, -25.108388900756836, -17.79753303527832, 5.353362560272217, -38.74158477783203, -22.186309814453125, 11.141166687011719, 3.8939666748046875, -8.713193893432617, 14.72071647644043, 2.604146718978882, 8.602228164672852, 15.868545532226562, -18.518077850341797, -10.959410667419434, -10.734551429748535, -10.273442268371582, -28.681793212890625, 12.3319673538208, -17.05845069885254, 23.27411651611328, -0.507204532623291, 23.701955795288086, -9.885936737060547, 13.836762428283691, -27.48483657836914, 12.667579650878906, 2.8228535652160645, -28.18120574951172, 17.898971557617188, 9.038142204284668, 3.8286149501800537, 11.776766777038574, -11.021161079406738, 13.879939079284668, -28.16774559020996, -0.4109826385974884, 7.2354936599731445, 14.69599723815918, -32.80458068847656, 11.158580780029297, 12.121742248535156, -23.10983657836914, 0.9227727651596069, 13.585309982299805, -30.24475860595703, -8.165617942810059, -20.13726043701172, -1.7858518362045288, -27.909626007080078, 25.445104598999023, 27.13277816772461, -6.07866907119751, 34.093196868896484, -26.809629440307617, 5.681326389312744, 26.381967544555664, 13.826165199279785, -2.364213705062866, -28.18317985534668, -22.366178512573242, -30.00165557861328, 22.753223419189453, 23.650043487548828, 11.070185661315918, 9.316927909851074, 16.514341354370117, 24.908628463745117, -1.1640828847885132, -28.790512084960938, -31.004047393798828, -12.449777603149414, 13.206201553344727, 15.173605918884277, -28.947059631347656, -15.072912216186523, 21.96896743774414, 4.226980686187744, 18.697101593017578, 19.19153594970703, -19.082889556884766, -29.21702003479004, -10.43014907836914, 10.020586967468262, 5.831812858581543, 9.49521541595459, -36.5527229309082, 6.907618522644043, 23.412382125854492, -3.953812599182129, -27.706636428833008, 24.11611557006836, -19.147680282592773, 11.218512535095215, -4.751579284667969, -22.08589744567871, 8.985755920410156, 8.800618171691895, 2.724703311920166, 25.212339401245117, -19.204526901245117, -15.995833396911621, -6.001558780670166, 33.38286590576172, -28.11304473876953, -21.408973693847656, 12.047717094421387, 26.930835723876953, 21.29537010192871, 9.275032997131348, -9.235483169555664, 1.4518967866897583, -8.8228178024292, 0.42083069682121277, -33.740116119384766, 11.215794563293457, -19.710569381713867, -9.684027671813965, 5.368449687957764, -9.605533599853516, -27.41887092590332, 10.904228210449219, -6.326550483703613, 7.326358318328857, -17.12202262878418, -3.030550241470337, 23.039981842041016, -12.152777671813965, -23.420745849609375, 20.836278915405273, 0.02807222492992878, 16.51804542541504, 14.968664169311523, -31.17629051208496, -31.408477783203125, -17.446619033813477, 24.148517608642578, 11.864535331726074, -2.567692995071411, 20.521753311157227, 11.00949478149414, 9.204612731933594, 7.222561359405518, -22.891902923583984, -22.068605422973633, 16.55754852294922, 24.137828826904297, -8.021407127380371, -13.787023544311523, 14.326528549194336, -19.226289749145508, 10.226370811462402, 6.671088218688965, -0.88458251953125, 4.048381328582764, -7.85122537612915, 9.44540023803711, 31.377347946166992, -8.273879051208496, 8.68930721282959, -3.7041409015655518, -28.765766143798828, -8.28735065460205, 23.721220016479492, 1.432151436805725, -35.74159622192383, -24.600265502929688, 12.511174201965332, -12.628210067749023, 22.107364654541016, 10.054741859436035, 27.195199966430664, 3.5081136226654053, 10.1485595703125, 11.020217895507812, -31.108911514282227, 11.489811897277832, 26.493562698364258, -6.685863494873047, -7.597116470336914, -8.771739959716797, -15.739616394042969, -27.096628189086914, -9.621768951416016, -38.20743179321289, 4.755219459533691, 24.898218154907227, 2.2015037536621094, 3.612567186355591, 11.382319450378418, -39.34518051147461, 11.704961776733398, -19.595571517944336, 6.8339924812316895, 2.992884874343872, -29.478008270263672, 12.810742378234863, 3.8912501335144043, 3.5732460021972656, 9.578378677368164, -29.912416458129883, -24.870426177978516, -21.969589233398438, -15.212400436401367, 1.2274410724639893, 22.356731414794922, 8.917418479919434, 0.17082662880420685, 2.883179187774658, 13.362476348876953, 8.618254661560059, 4.132553577423096, -21.32213020324707, 20.107898712158203, 18.151039123535156, 4.341388702392578, -25.75896644592285, -8.472522735595703, 10.895495414733887, -18.806455612182617, 5.3290934562683105, 9.177916526794434, -3.9915645122528076, 24.342721939086914, 8.980209350585938, -29.102121353149414, 11.987873077392578, 20.52229118347168, -27.4263858795166, -9.72808837890625, -23.119455337524414, 21.479225158691406, -9.122737884521484, 16.364423751831055, 8.822678565979004, 11.191459655761719, -39.48136520385742, -19.7166690826416, 18.318119049072266, 8.607003211975098, 32.859806060791016, -2.5519933700561523, -20.525651931762695, -4.177275657653809, 0.2447812259197235, -28.528806686401367, -16.98139190673828, 20.9793643951416, -6.366697788238525, -15.907132148742676, 24.264860153198242, 12.082661628723145, -25.257015228271484, -18.920804977416992, 3.5414109230041504, -2.683248519897461, 3.2496628761291504, 11.069692611694336, 21.98568344116211, -9.824718475341797, -16.174779891967773, -5.757966995239258, -23.906089782714844, -8.028444290161133, -15.872169494628906, -24.077402114868164, -11.01710319519043, 9.48829174041748, -22.41057586669922, -2.853907823562622, 2.43349289894104, 13.614497184753418, -18.014476776123047, 17.799772262573242, 9.8939847946167, -10.76197338104248, 6.013204574584961, 13.393123626708984, 8.660036087036133, 10.89737606048584, -22.801897048950195, -23.112585067749023, -21.538156509399414, -15.697677612304688, 13.922882080078125, -5.74265193939209, -18.759286880493164, -7.349438190460205, -28.21556282043457, -35.282745361328125, -5.681197643280029, 9.400970458984375, -32.165260314941406, 1.2246382236480713, -27.16823387145996, 15.707737922668457, 14.431663513183594, 6.580207824707031, -22.665454864501953, 18.06656837463379, 11.85714054107666, 1.5952328443527222, 6.716975212097168, -31.321998596191406, -19.833911895751953, 21.308156967163086, -26.749433517456055, 6.603409767150879, 8.127348899841309, -4.794800758361816, 14.470142364501953, -23.3884220123291, 10.595235824584961, -17.059572219848633, -14.903264999389648, 21.905550003051758, 23.86155891418457, 10.750086784362793, 3.8272974491119385, 13.546592712402344, 21.28986358642578, 11.257794380187988, 7.121875286102295, 10.371587753295898, 10.550908088684082, -10.409780502319336, 13.595019340515137, 21.4498348236084, 4.468530178070068, 11.259641647338867, -39.063865661621094, -7.196759223937988, -19.1435546875, -12.845186233520508, -9.546968460083008, 14.570392608642578, -28.203800201416016, -5.014579772949219, 7.282235145568848, -26.889665603637695, 3.1645700931549072, -4.566406726837158, 22.016605377197266, 18.760231018066406, -15.931288719177246, 9.262755393981934, -7.985255241394043, 19.521011352539062, 23.122760772705078, 31.7197265625, -0.32825782895088196, 10.870687484741211, -18.207693099975586, -3.383220672607422, 10.552287101745605, 10.971861839294434, 12.310808181762695, -15.644301414489746, 27.875001907348633, -18.34845542907715, -10.740163803100586, 1.5636811256408691, 11.936871528625488, 12.931778907775879, 13.500510215759277, -23.623836517333984, -10.739975929260254, -15.360991477966309, -28.686864852905273, -14.621140480041504, -22.794002532958984, 23.120834350585938, -22.80908966064453, -23.09868049621582, -23.190719604492188, -2.2757391929626465, 9.620294570922852, 10.407383918762207, -38.70590591430664, 24.95472526550293, 3.8718960285186768, 28.673219680786133, 2.4328348636627197, -12.275232315063477, 21.637483596801758, 11.550008773803711, -22.279882431030273, 5.454925060272217, -22.588890075683594, -0.011879249475896358, 16.87020492553711, -9.168306350708008, 13.573472023010254, -28.604934692382812, 12.972580909729004, 20.738065719604492, 21.86274528503418, 6.763852119445801, 22.090938568115234, -12.85222053527832, 7.699862003326416, 4.5089006423950195, 4.583303451538086, 25.789997100830078, -30.005779266357422, 3.2716317176818848, 22.245447158813477, -2.4933042526245117, -3.796548843383789, -8.090803146362305, 14.155135154724121, 34.8187141418457, 12.290029525756836, 7.157341957092285, 1.0514435768127441, -12.731860160827637, -27.037036895751953, 20.49612045288086, -21.84512710571289, -29.110132217407227, -27.73541259765625, 13.078328132629395, -22.504375457763672, 6.415092945098877, 5.966122627258301, -21.028621673583984, -31.578453063964844, 34.5291633605957, -23.060073852539062, 11.242281913757324, -21.185531616210938, 4.285371780395508, -32.569618225097656, 29.087905883789062, -3.04950213432312, -14.722342491149902, 5.2086029052734375, 17.329992294311523, 9.72338581085205, -9.489717483520508, 12.168685913085938, 10.477983474731445, -20.14192008972168, 9.810157775878906, 1.1032439470291138, 19.834705352783203, -30.23932647705078, -25.713516235351562, -2.8576154708862305, -25.73313331604004, -19.14237403869629, -17.720741271972656, 21.47576332092285, -22.123239517211914, 4.598970890045166, 1.1230747699737549, 3.191370725631714, -19.524124145507812, -26.640705108642578, -9.243454933166504, -29.55242919921875, -31.319665908813477, 12.869422912597656, -4.334232330322266, -17.83251953125, 31.362194061279297, 11.275925636291504, 4.7179036140441895, 15.269768714904785, 12.250596046447754, -37.83544158935547, 25.480833053588867, 12.710043907165527, 21.91264533996582, 6.1554999351501465, -3.103782892227173, -10.44870376586914, 3.2483997344970703, -21.757640838623047, -4.611327648162842, -32.263187408447266, 3.16202449798584, -23.617830276489258, 12.242334365844727, 5.531528949737549, -19.51205825805664, -25.285921096801758, 9.621590614318848, -3.010418653488159, -13.33940601348877, 25.233041763305664, 6.6602983474731445, 10.739794731140137, 25.86467170715332, -33.07200622558594, -21.63690948486328, 32.87297058105469, 11.73643684387207, -4.131572246551514, 8.732969284057617, -3.1070995330810547, 4.740903854370117, -1.0109480619430542, -32.62961959838867, -16.266813278198242, 25.85820960998535, 9.936100006103516, 29.125961303710938, 10.173927307128906, 24.420154571533203, 1.345835566520691, -30.37995719909668, -27.835325241088867, 10.706999778747559, 4.771132469177246, -29.624773025512695, 1.7002408504486084, -31.965410232543945, -21.80843734741211, 19.818153381347656, -23.649702072143555, -13.6615571975708, -5.487637519836426, 1.8203762769699097, -1.6205286979675293], \"xaxis\": \"x\", \"y\": [8.368891716003418, -7.330135822296143, -20.212018966674805, 25.820579528808594, -22.997356414794922, 12.092445373535156, -10.501073837280273, -9.033625602722168, 33.71092987060547, -22.50244140625, -20.183624267578125, -16.259586334228516, -2.5562398433685303, -1.1216464042663574, -3.309629201889038, 8.719528198242188, -1.7895832061767578, 35.380332946777344, -4.94656229019165, -7.082777976989746, 25.47780990600586, 32.62601089477539, -14.737318992614746, -18.46115493774414, -9.814010620117188, 35.32801055908203, -4.898589611053467, 27.845808029174805, 5.506190299987793, 35.825958251953125, 20.063051223754883, -17.30929946899414, -11.900518417358398, 1.5134693384170532, -5.263310432434082, -10.760061264038086, -15.480476379394531, -6.7452874183654785, 28.67896270751953, -6.225372314453125, -12.04279899597168, -24.717031478881836, -11.64586067199707, -3.269606113433838, 7.518906116485596, 2.394418239593506, -6.031938552856445, 6.66118049621582, 3.9333605766296387, -17.04629135131836, -1.4267382621765137, -16.2764892578125, -14.555441856384277, -11.046453475952148, 0.6586254239082336, -0.2805668115615845, -18.820728302001953, -6.712262153625488, -24.725393295288086, 25.220136642456055, 1.7737106084823608, 31.490402221679688, 16.74946403503418, -8.59023666381836, -4.705020904541016, -15.368642807006836, -8.017727851867676, -5.962950706481934, -8.06397533416748, 2.7837672233581543, -3.1897876262664795, -3.585777997970581, -17.620607376098633, -20.70912742614746, -17.74248504638672, -8.273699760437012, -20.964881896972656, -0.6918001174926758, 29.493484497070312, -0.28715288639068604, -24.040281295776367, -1.1111010313034058, -19.084102630615234, -2.038994789123535, -5.126238822937012, -15.284754753112793, 24.60382080078125, 4.746284008026123, 34.043521881103516, 34.10261154174805, -8.353142738342285, 13.43725872039795, -4.138266086578369, 15.18940544128418, 37.28563690185547, 14.87329387664795, -2.591158390045166, -9.792410850524902, -2.6827406883239746, 31.94461441040039, -11.012150764465332, 22.231454849243164, -10.440117835998535, -24.69755744934082, -3.736929416656494, 12.702219009399414, 32.58866500854492, -13.56429672241211, 13.699959754943848, -18.179595947265625, -17.262226104736328, 34.30337905883789, 35.13797378540039, -17.78202247619629, -4.251983165740967, -16.118148803710938, 39.68424987792969, -10.147319793701172, 36.06906509399414, -4.9061279296875, -1.5008416175842285, 21.558208465576172, -8.191590309143066, -7.424163341522217, -2.692502737045288, -23.87628746032715, -4.38975191116333, -22.84554672241211, -9.520766258239746, 11.557512283325195, -7.106022834777832, -1.2938402891159058, -15.883222579956055, -4.979608058929443, 32.42226791381836, 26.30290985107422, 2.782414674758911, 30.754261016845703, -10.355611801147461, -5.220358371734619, -21.822423934936523, -5.3581414222717285, 15.610260009765625, -20.691139221191406, 10.528524398803711, -4.10818338394165, 29.82996940612793, 30.377729415893555, -0.2366349995136261, -14.905674934387207, 31.984067916870117, 15.527273178100586, -7.505016803741455, -10.111227989196777, -0.5963806509971619, -19.570650100708008, 29.59241485595703, 11.483487129211426, -4.482118129730225, 0.4880918860435486, 27.158668518066406, -6.57283878326416, 20.438060760498047, -24.907527923583984, -13.677046775817871, 6.001489639282227, 4.827746391296387, -8.470970153808594, 35.292301177978516, -13.645895004272461, -9.59128189086914, -6.17659330368042, -6.166162490844727, -3.0132968425750732, -1.7256988286972046, -11.519554138183594, -3.2121798992156982, -21.885581970214844, 30.22770118713379, -0.376066654920578, 5.250802040100098, 32.47970962524414, -10.085054397583008, -9.572070121765137, -16.074501037597656, -2.78583025932312, -7.9437079429626465, -6.1682257652282715, 30.403982162475586, 6.490942478179932, -16.8853759765625, -10.739316940307617, -4.205795764923096, -11.428629875183105, 4.140414237976074, 8.777158737182617, -4.348080635070801, -7.543161869049072, -7.091214656829834, 25.540348052978516, 36.6125602722168, -1.2538232803344727, -11.496843338012695, -6.964634418487549, 23.06429100036621, -25.608949661254883, -20.61473846435547, -17.420461654663086, -7.426138877868652, -9.717887878417969, -13.491400718688965, -4.3941802978515625, 29.5804386138916, -19.431163787841797, -6.992748737335205, -0.8056030869483948, -12.01205062866211, -13.334020614624023, 13.96876335144043, 1.039892315864563, -0.5083242058753967, 37.0861930847168, 36.010677337646484, -22.496383666992188, 0.6635028123855591, 28.12763023376465, -20.365283966064453, -2.260694980621338, -3.761044979095459, -8.831574440002441, -3.216392755508423, -10.531848907470703, -10.88215446472168, 1.8749711513519287, 36.92957305908203, -10.895364761352539, -4.195157051086426, -3.452359437942505, -19.94806671142578, -16.721830368041992, -12.575079917907715, 26.882265090942383, -9.476630210876465, -5.247000694274902, -8.300317764282227, -11.013514518737793, -5.168971061706543, -11.341008186340332, -21.581409454345703, 13.964639663696289, -25.15671157836914, -16.895750045776367, -9.711509704589844, 3.6413309574127197, -15.786466598510742, -9.475783348083496, -15.390612602233887, -6.978575229644775, 5.5807600021362305, -10.468572616577148, -14.55595588684082, -12.95504093170166, 22.564111709594727, 42.31522750854492, -17.02683448791504, -11.423774719238281, -4.717024803161621, 36.214595794677734, -3.4965643882751465, 15.012141227722168, 29.406404495239258, -4.233563423156738, 5.866974353790283, -10.024311065673828, 33.03510665893555, -7.042778015136719, 15.085537910461426, -7.954121112823486, -5.8322930335998535, -10.226088523864746, 0.14940887689590454, -4.905020713806152, 16.425830841064453, -12.252924919128418, -17.480846405029297, 23.791831970214844, -1.7179644107818604, 27.007068634033203, -11.175984382629395, -8.61327075958252, -0.6922265887260437, -4.577353000640869, 7.5105695724487305, -15.835686683654785, 8.297292709350586, -25.856975555419922, -3.726698160171509, 40.72881317138672, 5.552652835845947, -1.5471465587615967, -12.456021308898926, 23.43120002746582, -13.320566177368164, -13.773408889770508, -7.851011753082275, 1.742838978767395, -10.939966201782227, -17.504310607910156, -26.445384979248047, 27.929922103881836, -3.998464584350586, 34.797149658203125, -0.03428374603390694, 37.269020080566406, -5.6412200927734375, -1.0432368516921997, 2.986907958984375, 11.738959312438965, -12.394294738769531, 14.377097129821777, -9.703487396240234, 25.558074951171875, -5.914488792419434, -0.4506339430809021, -26.01973533630371, -9.852347373962402, -17.042593002319336, 37.100807189941406, -18.208715438842773, 31.530054092407227, 2.109745979309082, -8.626628875732422, -0.19479408860206604, -3.609194278717041, -18.306119918823242, 12.505492210388184, -0.17328724265098572, 5.66458797454834, 6.152071475982666, -6.14877462387085, -2.438340425491333, -4.711944103240967, -6.829921245574951, 1.7733031511306763, 35.968719482421875, -17.242355346679688, -17.69548225402832, -6.488162040710449, 5.2440996170043945, 23.16098403930664, 4.480339527130127, 31.526199340820312, 13.164811134338379, -15.014922142028809, 32.728248596191406, -12.641435623168945, -3.0023326873779297, -20.06178092956543, -1.087417483329773, -5.227599143981934, -0.5068473219871521, 34.29402542114258, -9.975558280944824, -13.16218376159668, 34.84947967529297, 33.584800720214844, -6.511294841766357, -4.674355983734131, 36.142051696777344, -7.324481964111328, -22.020448684692383, -12.191404342651367, -4.670248508453369, -7.453120708465576, -7.288435459136963, 32.21630096435547, -9.756723403930664, 34.271732330322266, -10.9244966506958, 28.968889236450195, -13.730400085449219, -16.758691787719727, -21.254920959472656, -26.147123336791992, -14.344799041748047, -19.231693267822266, 34.92695617675781, -11.70265007019043, -18.818159103393555, 36.19834899902344, -11.320317268371582, -15.2042875289917, 27.607824325561523, -7.274178504943848, 16.479169845581055, 0.0070846122689545155, 36.731075286865234, -13.463279724121094, 16.256336212158203, 20.906055450439453, 12.090578079223633, 31.107437133789062, -3.134155511856079, -7.043186664581299, -7.111743450164795, 13.460779190063477, -1.8895578384399414, 1.4564645290374756, -10.81450080871582, -0.546183168888092, -1.5246126651763916, 26.9654541015625, 16.67661476135254, -9.925018310546875, -10.891718864440918, 2.484029769897461, 33.52134704589844, 8.425403594970703, -10.085675239562988, 7.170820236206055, 35.79471206665039, -4.497607231140137, -1.030293583869934, -15.850533485412598, -27.23818588256836, 21.05073356628418, 29.651283264160156, -9.237691879272461, -3.5288174152374268, -1.3598952293395996, -7.701551914215088, 34.103267669677734, -16.088428497314453, 25.356029510498047, -2.23647403717041, 38.03468704223633, -18.392263412475586, 7.100611209869385, 6.639590740203857, -14.16489315032959, 5.69338846206665, -17.27298355102539, 36.89087677001953, -17.73472023010254, -0.6959273815155029, -19.31276512145996, -6.627445697784424, 13.605605125427246, -12.001912117004395, -6.888784408569336, 29.447200775146484, -21.362470626831055, -3.36912202835083, -16.093524932861328, 34.5525016784668, 23.0444393157959, -3.5004584789276123, -5.865452289581299, 30.45432472229004, -6.1059112548828125, -5.481942653656006, -7.121238708496094, 0.16603833436965942, -18.690555572509766, 25.837265014648438, 27.41673469543457, -16.507305145263672, -4.549828052520752, 7.525445461273193, 34.16230392456055, -12.124863624572754, -8.68467903137207, -14.299386978149414, -8.626030921936035, 26.077817916870117, -14.159708023071289, -9.504478454589844, -3.6608078479766846, 26.776792526245117, 28.45271110534668, 29.612808227539062, -24.335012435913086, -15.843099594116211, -25.882017135620117, 1.9288110733032227, 15.667074203491211, -18.048059463500977, -6.556623935699463, -5.274409294128418, 13.935431480407715, -21.817800521850586, 6.046882152557373, 8.79525089263916, 14.26578426361084, -16.72981071472168, 33.087894439697266, -7.316873550415039, 35.23531723022461, -5.288776397705078, -9.63698673248291, -10.938060760498047, -1.7356592416763306, -9.679659843444824, -4.67125940322876, -15.676152229309082, -22.76326560974121, -5.4575514793396, -4.9820237159729, -13.09441089630127, 7.6992597579956055, -25.505802154541016, 39.484169006347656, 28.44034767150879, -5.083744049072266, 4.4368696212768555, -7.8764262199401855, 6.789637565612793, -9.767919540405273, -3.466069221496582, -9.7274169921875, 3.8088173866271973, -26.004552841186523, 6.679496765136719, -9.770009994506836, -6.534971714019775, -21.39514923095703, -8.584932327270508, -9.072235107421875, -7.384016990661621, 7.540256977081299, 24.339366912841797, -7.935060024261475, 3.3925414085388184, 30.563955307006836, -26.074750900268555, -5.040853500366211, -9.975748062133789, 30.41861343383789, -6.160284042358398, -15.53271484375, -3.5927340984344482, -21.030921936035156, -16.060808181762695, 6.146295070648193, 16.455575942993164, -13.125222206115723, 36.13093185424805, -22.486968994140625, 6.327439785003662, 4.706056118011475, 12.932448387145996, -1.188876986503601, -20.42258644104004, -21.143701553344727, -4.086799144744873, 0.9434454441070557, -21.825532913208008, -10.10920238494873, 33.73582077026367, -2.0308382511138916, -12.307817459106445, 13.246785163879395, -16.47112274169922, -3.4763011932373047, 26.873727798461914, -24.9702205657959, -4.550076007843018, -13.120940208435059, -13.71444320678711, 7.95264196395874, -1.0836448669433594, 24.465822219848633, 2.5757923126220703, -1.3518813848495483, 0.6704162955284119, 7.270288467407227, 14.420076370239258, -5.1450910568237305, -16.9036808013916, 24.187559127807617, 33.60310745239258, 36.599605560302734, 19.978595733642578, -3.6818668842315674, -14.416993141174316, -1.543595552444458, 41.27220916748047, -5.0997514724731445, 16.547332763671875, -6.481457710266113, -7.334676742553711, 4.458311080932617, -2.5476977825164795, -10.378640174865723, -19.196857452392578, -27.06696128845215, 14.609683990478516, 42.36506652832031, 2.1271681785583496, 20.469301223754883, 38.460784912109375, 35.6297607421875, -18.549461364746094, -11.512317657470703, -10.105581283569336, 16.699541091918945, -8.575655937194824, -6.2736687660217285, 0.07903153449296951, -14.43734359741211, -2.496358871459961, 31.969329833984375, 31.551589965820312, 36.571136474609375, 15.886323928833008, -20.59563636779785, 36.357032775878906, 13.986759185791016, -6.657831192016602, 3.152099132537842, 30.047466278076172, 6.65242862701416, -5.155496120452881, 6.760745525360107, -2.0588326454162598, -14.27425765991211, 9.204742431640625, -6.10920524597168, -11.847078323364258, -15.127350807189941, -3.426131010055542, -3.506023645401001, -24.064876556396484, 33.73164367675781, 27.617311477661133, -9.941729545593262, -16.665054321289062, -6.0697784423828125, 32.2325553894043, 24.70165252685547, 33.67872619628906, 15.933754920959473, 15.845855712890625, -1.6012250185012817, 32.234703063964844, -23.233543395996094, -10.42976188659668, -8.697708129882812, -12.030576705932617, 29.008947372436523, 0.9219508767127991, -5.383929252624512, 24.10223388671875, -14.626436233520508, 42.60390090942383, 10.700156211853027, 32.045780181884766, 4.53594446182251, 16.163497924804688, 31.530256271362305, -3.1245405673980713, -10.117920875549316, 0.4329501688480377, -7.337402820587158, -7.30997371673584, -8.166695594787598, -9.637481689453125, 27.15924072265625, -4.3471784591674805, -12.997291564941406, -3.8699989318847656, -14.919032096862793, -20.73923683166504, 33.20838928222656, -2.4021241664886475, 25.17586898803711, -20.350679397583008, -13.938963890075684, 1.8678549528121948, 14.505816459655762, 37.005924224853516, 29.078439712524414], \"yaxis\": \"y\"}],\n",
       "                        {\"legend\": {\"tracegroupgap\": 0}, \"margin\": {\"t\": 60}, \"template\": {\"data\": {\"bar\": [{\"error_x\": {\"color\": \"#2a3f5f\"}, \"error_y\": {\"color\": \"#2a3f5f\"}, \"marker\": {\"line\": {\"color\": \"#E5ECF6\", \"width\": 0.5}}, \"type\": \"bar\"}], \"barpolar\": [{\"marker\": {\"line\": {\"color\": \"#E5ECF6\", \"width\": 0.5}}, \"type\": \"barpolar\"}], \"carpet\": [{\"aaxis\": {\"endlinecolor\": \"#2a3f5f\", \"gridcolor\": \"white\", \"linecolor\": \"white\", \"minorgridcolor\": \"white\", \"startlinecolor\": \"#2a3f5f\"}, \"baxis\": {\"endlinecolor\": \"#2a3f5f\", \"gridcolor\": \"white\", \"linecolor\": \"white\", \"minorgridcolor\": \"white\", \"startlinecolor\": \"#2a3f5f\"}, \"type\": \"carpet\"}], \"choropleth\": [{\"colorbar\": {\"outlinewidth\": 0, \"ticks\": \"\"}, \"type\": \"choropleth\"}], \"contour\": [{\"colorbar\": {\"outlinewidth\": 0, \"ticks\": \"\"}, \"colorscale\": [[0.0, \"#0d0887\"], [0.1111111111111111, \"#46039f\"], [0.2222222222222222, \"#7201a8\"], [0.3333333333333333, \"#9c179e\"], [0.4444444444444444, \"#bd3786\"], [0.5555555555555556, \"#d8576b\"], [0.6666666666666666, \"#ed7953\"], [0.7777777777777778, \"#fb9f3a\"], [0.8888888888888888, \"#fdca26\"], [1.0, \"#f0f921\"]], \"type\": \"contour\"}], \"contourcarpet\": [{\"colorbar\": {\"outlinewidth\": 0, \"ticks\": \"\"}, \"type\": \"contourcarpet\"}], \"heatmap\": [{\"colorbar\": {\"outlinewidth\": 0, \"ticks\": \"\"}, \"colorscale\": [[0.0, \"#0d0887\"], [0.1111111111111111, \"#46039f\"], [0.2222222222222222, \"#7201a8\"], [0.3333333333333333, \"#9c179e\"], [0.4444444444444444, \"#bd3786\"], [0.5555555555555556, \"#d8576b\"], [0.6666666666666666, \"#ed7953\"], [0.7777777777777778, \"#fb9f3a\"], [0.8888888888888888, \"#fdca26\"], [1.0, \"#f0f921\"]], \"type\": \"heatmap\"}], \"heatmapgl\": [{\"colorbar\": {\"outlinewidth\": 0, \"ticks\": \"\"}, \"colorscale\": [[0.0, \"#0d0887\"], [0.1111111111111111, \"#46039f\"], [0.2222222222222222, \"#7201a8\"], [0.3333333333333333, \"#9c179e\"], [0.4444444444444444, \"#bd3786\"], [0.5555555555555556, \"#d8576b\"], [0.6666666666666666, \"#ed7953\"], [0.7777777777777778, \"#fb9f3a\"], [0.8888888888888888, \"#fdca26\"], [1.0, \"#f0f921\"]], \"type\": \"heatmapgl\"}], \"histogram\": [{\"marker\": {\"colorbar\": {\"outlinewidth\": 0, \"ticks\": \"\"}}, \"type\": \"histogram\"}], \"histogram2d\": [{\"colorbar\": {\"outlinewidth\": 0, \"ticks\": \"\"}, \"colorscale\": [[0.0, \"#0d0887\"], [0.1111111111111111, \"#46039f\"], [0.2222222222222222, \"#7201a8\"], [0.3333333333333333, \"#9c179e\"], [0.4444444444444444, \"#bd3786\"], [0.5555555555555556, \"#d8576b\"], [0.6666666666666666, \"#ed7953\"], [0.7777777777777778, \"#fb9f3a\"], [0.8888888888888888, \"#fdca26\"], [1.0, \"#f0f921\"]], \"type\": \"histogram2d\"}], \"histogram2dcontour\": [{\"colorbar\": {\"outlinewidth\": 0, \"ticks\": \"\"}, \"colorscale\": [[0.0, \"#0d0887\"], [0.1111111111111111, \"#46039f\"], [0.2222222222222222, \"#7201a8\"], [0.3333333333333333, \"#9c179e\"], [0.4444444444444444, \"#bd3786\"], [0.5555555555555556, \"#d8576b\"], [0.6666666666666666, \"#ed7953\"], [0.7777777777777778, \"#fb9f3a\"], [0.8888888888888888, \"#fdca26\"], [1.0, \"#f0f921\"]], \"type\": \"histogram2dcontour\"}], \"mesh3d\": [{\"colorbar\": {\"outlinewidth\": 0, \"ticks\": \"\"}, \"type\": \"mesh3d\"}], \"parcoords\": [{\"line\": {\"colorbar\": {\"outlinewidth\": 0, \"ticks\": \"\"}}, \"type\": \"parcoords\"}], \"pie\": [{\"automargin\": true, \"type\": \"pie\"}], \"scatter\": [{\"marker\": {\"colorbar\": {\"outlinewidth\": 0, \"ticks\": \"\"}}, \"type\": \"scatter\"}], \"scatter3d\": [{\"line\": {\"colorbar\": {\"outlinewidth\": 0, \"ticks\": \"\"}}, \"marker\": {\"colorbar\": {\"outlinewidth\": 0, \"ticks\": \"\"}}, \"type\": \"scatter3d\"}], \"scattercarpet\": [{\"marker\": {\"colorbar\": {\"outlinewidth\": 0, \"ticks\": \"\"}}, \"type\": \"scattercarpet\"}], \"scattergeo\": [{\"marker\": {\"colorbar\": {\"outlinewidth\": 0, \"ticks\": \"\"}}, \"type\": \"scattergeo\"}], \"scattergl\": [{\"marker\": {\"colorbar\": {\"outlinewidth\": 0, \"ticks\": \"\"}}, \"type\": \"scattergl\"}], \"scattermapbox\": [{\"marker\": {\"colorbar\": {\"outlinewidth\": 0, \"ticks\": \"\"}}, \"type\": \"scattermapbox\"}], \"scatterpolar\": [{\"marker\": {\"colorbar\": {\"outlinewidth\": 0, \"ticks\": \"\"}}, \"type\": \"scatterpolar\"}], \"scatterpolargl\": [{\"marker\": {\"colorbar\": {\"outlinewidth\": 0, \"ticks\": \"\"}}, \"type\": \"scatterpolargl\"}], \"scatterternary\": [{\"marker\": {\"colorbar\": {\"outlinewidth\": 0, \"ticks\": \"\"}}, \"type\": \"scatterternary\"}], \"surface\": [{\"colorbar\": {\"outlinewidth\": 0, \"ticks\": \"\"}, \"colorscale\": [[0.0, \"#0d0887\"], [0.1111111111111111, \"#46039f\"], [0.2222222222222222, \"#7201a8\"], [0.3333333333333333, \"#9c179e\"], [0.4444444444444444, \"#bd3786\"], [0.5555555555555556, \"#d8576b\"], [0.6666666666666666, \"#ed7953\"], [0.7777777777777778, \"#fb9f3a\"], [0.8888888888888888, \"#fdca26\"], [1.0, \"#f0f921\"]], \"type\": \"surface\"}], \"table\": [{\"cells\": {\"fill\": {\"color\": \"#EBF0F8\"}, \"line\": {\"color\": \"white\"}}, \"header\": {\"fill\": {\"color\": \"#C8D4E3\"}, \"line\": {\"color\": \"white\"}}, \"type\": \"table\"}]}, \"layout\": {\"annotationdefaults\": {\"arrowcolor\": \"#2a3f5f\", \"arrowhead\": 0, \"arrowwidth\": 1}, \"coloraxis\": {\"colorbar\": {\"outlinewidth\": 0, \"ticks\": \"\"}}, \"colorscale\": {\"diverging\": [[0, \"#8e0152\"], [0.1, \"#c51b7d\"], [0.2, \"#de77ae\"], [0.3, \"#f1b6da\"], [0.4, \"#fde0ef\"], [0.5, \"#f7f7f7\"], [0.6, \"#e6f5d0\"], [0.7, \"#b8e186\"], [0.8, \"#7fbc41\"], [0.9, \"#4d9221\"], [1, \"#276419\"]], \"sequential\": [[0.0, \"#0d0887\"], [0.1111111111111111, \"#46039f\"], [0.2222222222222222, \"#7201a8\"], [0.3333333333333333, \"#9c179e\"], [0.4444444444444444, \"#bd3786\"], [0.5555555555555556, \"#d8576b\"], [0.6666666666666666, \"#ed7953\"], [0.7777777777777778, \"#fb9f3a\"], [0.8888888888888888, \"#fdca26\"], [1.0, \"#f0f921\"]], \"sequentialminus\": [[0.0, \"#0d0887\"], [0.1111111111111111, \"#46039f\"], [0.2222222222222222, \"#7201a8\"], [0.3333333333333333, \"#9c179e\"], [0.4444444444444444, \"#bd3786\"], [0.5555555555555556, \"#d8576b\"], [0.6666666666666666, \"#ed7953\"], [0.7777777777777778, \"#fb9f3a\"], [0.8888888888888888, \"#fdca26\"], [1.0, \"#f0f921\"]]}, \"colorway\": [\"#636efa\", \"#EF553B\", \"#00cc96\", \"#ab63fa\", \"#FFA15A\", \"#19d3f3\", \"#FF6692\", \"#B6E880\", \"#FF97FF\", \"#FECB52\"], \"font\": {\"color\": \"#2a3f5f\"}, \"geo\": {\"bgcolor\": \"white\", \"lakecolor\": \"white\", \"landcolor\": \"#E5ECF6\", \"showlakes\": true, \"showland\": true, \"subunitcolor\": \"white\"}, \"hoverlabel\": {\"align\": \"left\"}, \"hovermode\": \"closest\", \"mapbox\": {\"style\": \"light\"}, \"paper_bgcolor\": \"white\", \"plot_bgcolor\": \"#E5ECF6\", \"polar\": {\"angularaxis\": {\"gridcolor\": \"white\", \"linecolor\": \"white\", \"ticks\": \"\"}, \"bgcolor\": \"#E5ECF6\", \"radialaxis\": {\"gridcolor\": \"white\", \"linecolor\": \"white\", \"ticks\": \"\"}}, \"scene\": {\"xaxis\": {\"backgroundcolor\": \"#E5ECF6\", \"gridcolor\": \"white\", \"gridwidth\": 2, \"linecolor\": \"white\", \"showbackground\": true, \"ticks\": \"\", \"zerolinecolor\": \"white\"}, \"yaxis\": {\"backgroundcolor\": \"#E5ECF6\", \"gridcolor\": \"white\", \"gridwidth\": 2, \"linecolor\": \"white\", \"showbackground\": true, \"ticks\": \"\", \"zerolinecolor\": \"white\"}, \"zaxis\": {\"backgroundcolor\": \"#E5ECF6\", \"gridcolor\": \"white\", \"gridwidth\": 2, \"linecolor\": \"white\", \"showbackground\": true, \"ticks\": \"\", \"zerolinecolor\": \"white\"}}, \"shapedefaults\": {\"line\": {\"color\": \"#2a3f5f\"}}, \"ternary\": {\"aaxis\": {\"gridcolor\": \"white\", \"linecolor\": \"white\", \"ticks\": \"\"}, \"baxis\": {\"gridcolor\": \"white\", \"linecolor\": \"white\", \"ticks\": \"\"}, \"bgcolor\": \"#E5ECF6\", \"caxis\": {\"gridcolor\": \"white\", \"linecolor\": \"white\", \"ticks\": \"\"}}, \"title\": {\"x\": 0.05}, \"xaxis\": {\"automargin\": true, \"gridcolor\": \"white\", \"linecolor\": \"white\", \"ticks\": \"\", \"title\": {\"standoff\": 15}, \"zerolinecolor\": \"white\", \"zerolinewidth\": 2}, \"yaxis\": {\"automargin\": true, \"gridcolor\": \"white\", \"linecolor\": \"white\", \"ticks\": \"\", \"title\": {\"standoff\": 15}, \"zerolinecolor\": \"white\", \"zerolinewidth\": 2}}}, \"xaxis\": {\"anchor\": \"y\", \"domain\": [0.0, 1.0], \"title\": {\"text\": \"x\"}}, \"yaxis\": {\"anchor\": \"x\", \"domain\": [0.0, 1.0], \"title\": {\"text\": \"y\"}}},\n",
       "                        {\"responsive\": true}\n",
       "                    ).then(function(){\n",
       "                            \n",
       "var gd = document.getElementById('8de6f6b6-a592-45c5-b36f-9a189d77ed42');\n",
       "var x = new MutationObserver(function (mutations, observer) {{\n",
       "        var display = window.getComputedStyle(gd).display;\n",
       "        if (!display || display === 'none') {{\n",
       "            console.log([gd, 'removed!']);\n",
       "            Plotly.purge(gd);\n",
       "            observer.disconnect();\n",
       "        }}\n",
       "}});\n",
       "\n",
       "// Listen for the removal of the full notebook cells\n",
       "var notebookContainer = gd.closest('#notebook-container');\n",
       "if (notebookContainer) {{\n",
       "    x.observe(notebookContainer, {childList: true});\n",
       "}}\n",
       "\n",
       "// Listen for the clearing of the current output cell\n",
       "var outputEl = gd.closest('.output');\n",
       "if (outputEl) {{\n",
       "    x.observe(outputEl, {childList: true});\n",
       "}}\n",
       "\n",
       "                        })\n",
       "                };\n",
       "                });\n",
       "            </script>\n",
       "        </div>"
      ]
     },
     "metadata": {},
     "output_type": "display_data"
    }
   ],
   "source": [
    "import plotly.express as px\n",
    "\n",
    "n_topics = 4\n",
    "#mycolors = np.array([color for name, color in mcolors.TABLEAU_COLORS.items()])\n",
    "\n",
    "# Format\n",
    "\n",
    "max_label = max(clusters)\n",
    "max_items = np.random.choice(range(text.shape[0]), size=682, replace=False)\n",
    "    \n",
    "pca = PCA(n_components=2).fit_transform(text[max_items,:].todense())\n",
    "tsne = TSNE().fit_transform(PCA(n_components=50).fit_transform(text[max_items,:].todense()))\n",
    "    \n",
    "    \n",
    "idx = np.random.choice(range(pca.shape[0]), size=682, replace=False)\n",
    "label_subset = clusters[max_items]\n",
    "label_subset = [cm.hsv(i/max_label) for i in label_subset[idx]]\n",
    "\n",
    "df = data[\"text\"]\n",
    "fig = px.scatter(df, x=tsne[idx, 0], y=tsne[idx, 1], )\n",
    "fig.show()"
   ]
  },
  {
   "cell_type": "markdown",
   "metadata": {},
   "source": [
    "## Principais palavras-chave\n",
    "\n",
    "Por fim, percorre-se os clusters e são impressas as principais palavras-chave com base na pontuação do TFIDF para ver se é possível identificar alguma tendência. Faz-se isso calculando um valor médio entre todas as dimensões no Pandas, agrupadas pelo rótulo do cluster."
   ]
  },
  {
   "cell_type": "code",
   "execution_count": 9,
   "metadata": {},
   "outputs": [
    {
     "name": "stdout",
     "output_type": "stream",
     "text": [
      "\n",
      "Cluster 0\n",
      "design,artificial,knowledge,intelligence,proceedings,cbr,learning,reasoning,based,case\n",
      "\n",
      "Cluster 1\n",
      "proceedings,raedt,machine,pages,ilp,muggleton,programming,inductive,learning,logic\n",
      "\n",
      "Cluster 2\n",
      "semantic,acm,sigir,conference,language,proceedings,pages,text,retrieval,information\n",
      "\n",
      "Cluster 3\n",
      "computer,virtual,display,visualization,sonification,sound,music,pp,auditory,audio\n"
     ]
    }
   ],
   "source": [
    "def get_top_keywords(data, clusters, labels, n_terms):\n",
    "    df = pd.DataFrame(data.todense()).groupby(clusters).mean()\n",
    "    \n",
    "    for i,r in df.iterrows():\n",
    "        print('\\nCluster {}'.format(i))\n",
    "        print(','.join([labels[t] for t in np.argsort(r)[-n_terms:]]))\n",
    "            \n",
    "get_top_keywords(text, clusters, tfidf.get_feature_names(), 10)"
   ]
  },
  {
   "cell_type": "code",
   "execution_count": null,
   "metadata": {},
   "outputs": [],
   "source": []
  }
 ],
 "metadata": {
  "kernelspec": {
   "display_name": "Python 3",
   "language": "python",
   "name": "python3"
  },
  "language_info": {
   "codemirror_mode": {
    "name": "ipython",
    "version": 3
   },
   "file_extension": ".py",
   "mimetype": "text/x-python",
   "name": "python",
   "nbconvert_exporter": "python",
   "pygments_lexer": "ipython3",
   "version": "3.8.2"
  }
 },
 "nbformat": 4,
 "nbformat_minor": 4
}
