{
 "cells": [
  {
   "cell_type": "markdown",
   "metadata": {},
   "source": [
    "# Clustering do dataset \"compscience_papers.csv\" usando K-means e TF-IDF\n",
    "\n",
    "Neste Jupyter Notebook, utiliza-se o TFIDF vectorizer e o MiniBatchKmeans do Sklearn para implementar um algoritmo de clustering simples. Depois visualiza-se esses clusters usando PCA e TSNE, assim como são mostradas as principais palavras-chave de cada cluster. "
   ]
  },
  {
   "cell_type": "code",
   "execution_count": 12,
   "metadata": {},
   "outputs": [],
   "source": [
    "import sys\n",
    "# !{sys.executable} -m spacy download en\n",
    "import re\n",
    "from pprint import pprint\n",
    "\n",
    "# Gensim\n",
    "import gensim, spacy, logging, warnings\n",
    "import gensim.corpora as corpora\n",
    "from gensim.utils import lemmatize, simple_preprocess\n",
    "from gensim.models import CoherenceModel"
   ]
  },
  {
   "cell_type": "code",
   "execution_count": 1,
   "metadata": {},
   "outputs": [],
   "source": [
    "import numpy as np\n",
    "import pandas as pd\n",
    "import matplotlib.pyplot as plt\n",
    "import matplotlib.cm as cm\n",
    "\n",
    "from sklearn.cluster import MiniBatchKMeans\n",
    "from sklearn.feature_extraction.text import TfidfVectorizer\n",
    "from sklearn.decomposition import PCA\n",
    "from sklearn.manifold import TSNE\n",
    "\n",
    "from nltk.corpus import stopwords\n",
    "stop_words = stopwords.words('english')\n",
    "stop_words.extend(['from', 'subject', 're', 'edu', 'use', 'not', 'would', 'say', 'could', '_', 'be', 'know', 'good', 'go', 'get', 'do', 'done', 'try', 'many', 'some', 'nice', 'thank', 'think', 'see', 'rather', 'easy', 'easily', 'lot', 'lack', 'make', 'want', 'seem', 'run', 'need', 'even', 'right', 'line', 'even', 'also', 'may', 'take', 'come'])\n"
   ]
  },
  {
   "cell_type": "markdown",
   "metadata": {},
   "source": [
    "## Importando o dataset\n",
    "\n",
    "Utiliza-se a biblioteca Pandas para importar o arquivo \"compscience_papers.csv\""
   ]
  },
  {
   "cell_type": "code",
   "execution_count": 2,
   "metadata": {
    "scrolled": true
   },
   "outputs": [
    {
     "data": {
      "text/html": [
       "<div>\n",
       "<style scoped>\n",
       "    .dataframe tbody tr th:only-of-type {\n",
       "        vertical-align: middle;\n",
       "    }\n",
       "\n",
       "    .dataframe tbody tr th {\n",
       "        vertical-align: top;\n",
       "    }\n",
       "\n",
       "    .dataframe thead th {\n",
       "        text-align: right;\n",
       "    }\n",
       "</style>\n",
       "<table border=\"1\" class=\"dataframe\">\n",
       "  <thead>\n",
       "    <tr style=\"text-align: right;\">\n",
       "      <th></th>\n",
       "      <th>text</th>\n",
       "      <th>label</th>\n",
       "    </tr>\n",
       "  </thead>\n",
       "  <tbody>\n",
       "    <tr>\n",
       "      <th>0</th>\n",
       "      <td>Digital Image Similarity for Geo-spatial Knowl...</td>\n",
       "      <td>1</td>\n",
       "    </tr>\n",
       "    <tr>\n",
       "      <th>1</th>\n",
       "      <td>An Initial Experiment into Stereochemistry-Bas...</td>\n",
       "      <td>2</td>\n",
       "    </tr>\n",
       "    <tr>\n",
       "      <th>2</th>\n",
       "      <td>Collaborative Case-Based Recommender Systems\\n...</td>\n",
       "      <td>1</td>\n",
       "    </tr>\n",
       "    <tr>\n",
       "      <th>3</th>\n",
       "      <td>Knowledge Engineering for CBR systems from a C...</td>\n",
       "      <td>1</td>\n",
       "    </tr>\n",
       "    <tr>\n",
       "      <th>4</th>\n",
       "      <td>Analyses for Elucidating Current Question Answ...</td>\n",
       "      <td>3</td>\n",
       "    </tr>\n",
       "  </tbody>\n",
       "</table>\n",
       "</div>"
      ],
      "text/plain": [
       "                                                text  label\n",
       "0  Digital Image Similarity for Geo-spatial Knowl...      1\n",
       "1  An Initial Experiment into Stereochemistry-Bas...      2\n",
       "2  Collaborative Case-Based Recommender Systems\\n...      1\n",
       "3  Knowledge Engineering for CBR systems from a C...      1\n",
       "4  Analyses for Elucidating Current Question Answ...      3"
      ]
     },
     "execution_count": 2,
     "metadata": {},
     "output_type": "execute_result"
    }
   ],
   "source": [
    "data = pd.read_csv(\"compscience_papers.csv\")\n",
    "data.head()"
   ]
  },
  {
   "cell_type": "markdown",
   "metadata": {},
   "source": [
    "## Extraindo palavras-chave\n",
    "\n",
    "Utiliza-se o TfidfVectorizer do Sklearn para a extração de palavras-chave, elas serão utilizadas para formar os clusters."
   ]
  },
  {
   "cell_type": "code",
   "execution_count": 3,
   "metadata": {},
   "outputs": [],
   "source": [
    "tfidf = TfidfVectorizer(\n",
    "    min_df = 5,\n",
    "    max_df = 0.95,\n",
    "    max_features = 8000,\n",
    "    stop_words = stop_words\n",
    ")\n",
    "tfidf.fit(data.text)\n",
    "text = tfidf.transform(data.text)"
   ]
  },
  {
   "cell_type": "markdown",
   "metadata": {},
   "source": [
    "## Encontrando a quantidade ideal de clusters\n",
    "\n",
    "No código abaixo, calcula-se o Sum of Squared Error (SSE) para vários tamanhos de cluster, neste caso até 14, e depois procura-se o \"cotovelo\" onde o SSE começa a se estabilizar. "
   ]
  },
  {
   "cell_type": "code",
   "execution_count": 4,
   "metadata": {},
   "outputs": [
    {
     "name": "stdout",
     "output_type": "stream",
     "text": [
      "Fit 2 clusters\n",
      "Fit 4 clusters\n",
      "Fit 6 clusters\n",
      "Fit 8 clusters\n",
      "Fit 10 clusters\n",
      "Fit 12 clusters\n",
      "Fit 14 clusters\n",
      "Fit 16 clusters\n",
      "Fit 18 clusters\n",
      "Fit 20 clusters\n"
     ]
    },
    {
     "data": {
      "image/png": "[encoded data removed]",
      "text/plain": [
       "<Figure size 432x288 with 1 Axes>"
      ]
     },
     "metadata": {
      "needs_background": "light"
     },
     "output_type": "display_data"
    }
   ],
   "source": [
    "def find_optimal_clusters(data, max_k):\n",
    "    iters = range(2, max_k+1, 2)\n",
    "    \n",
    "    sse = []\n",
    "    for k in iters:\n",
    "        sse.append(MiniBatchKMeans(n_clusters=k, init_size=1024, batch_size=2048, random_state=20).fit(data).inertia_)\n",
    "        print('Fit {} clusters'.format(k))\n",
    "        \n",
    "    f, ax = plt.subplots(1, 1)\n",
    "    ax.plot(iters, sse, marker='o')\n",
    "    ax.set_xlabel('Cluster Centers')\n",
    "    ax.set_xticks(iters)\n",
    "    ax.set_xticklabels(iters)\n",
    "    ax.set_ylabel('SSE')\n",
    "    ax.set_title('SSE by Cluster Center Plot')\n",
    "    \n",
    "find_optimal_clusters(text, 20)"
   ]
  },
  {
   "cell_type": "code",
   "execution_count": 20,
   "metadata": {},
   "outputs": [],
   "source": [
    "clusters = MiniBatchKMeans(n_clusters=4,  batch_size=682, random_state=20).fit_predict(text)"
   ]
  },
  {
   "cell_type": "markdown",
   "metadata": {},
   "source": [
    "## Visualização dos clusters\n",
    "\n",
    "Abaixo, visualiza-se os clusters gerados pelo algoritmo K-means. Um gráfico usa o PCA, que é melhor na captura da estrutura global dos dados. O outro usa TSNE, que é melhor em capturar relações entre vizinhos."
   ]
  },
  {
   "cell_type": "code",
   "execution_count": 21,
   "metadata": {
    "scrolled": false
   },
   "outputs": [
    {
     "data": {
      "image/png": "[encoded data removed]",
      "text/plain": [
       "<Figure size 1008x432 with 2 Axes>"
      ]
     },
     "metadata": {
      "needs_background": "light"
     },
     "output_type": "display_data"
    }
   ],
   "source": [
    "def plot_tsne_pca(data, labels):\n",
    "    max_label = max(labels)\n",
    "    max_items = np.random.choice(range(data.shape[0]), size=682, replace=False)\n",
    "    \n",
    "    pca = PCA(n_components=2).fit_transform(data[max_items,:].todense())\n",
    "    tsne = TSNE().fit_transform(PCA(n_components=50).fit_transform(data[max_items,:].todense()))\n",
    "    \n",
    "    \n",
    "    idx = np.random.choice(range(pca.shape[0]), size=682, replace=False)\n",
    "    label_subset = labels[max_items]\n",
    "    label_subset = [cm.hsv(i/max_label) for i in label_subset[idx]]\n",
    "    \n",
    "    f, ax = plt.subplots(1, 2, figsize=(14, 6))\n",
    "    \n",
    "    ax[0].scatter(pca[idx, 0], pca[idx, 1], c=label_subset)\n",
    "    ax[0].set_title('PCA Cluster Plot')\n",
    "    \n",
    "    ax[1].scatter(tsne[idx, 0], tsne[idx, 1], c=label_subset)\n",
    "    ax[1].set_title('TSNE Cluster Plot')\n",
    "    \n",
    "plot_tsne_pca(text, clusters)"
   ]
  },
  {
   "cell_type": "code",
   "execution_count": 19,
   "metadata": {
    "scrolled": true
   },
   "outputs": [
    {
     "data": {
      "application/vnd.plotly.v1+json": {
       "config": {
        "plotlyServerURL": "https://plot.ly"
       },
       "data": [
        {
         "customdata": [
          [
           0
          ],
          [
           1
          ],
          [
           0
          ],
          [
           0
          ],
          [
           2
          ],
          [
           3
          ],
          [
           1
          ],
          [
           3
          ],
          [
           1
          ],
          [
           1
          ],
          [
           2
          ],
          [
           0
          ],
          [
           2
          ],
          [
           2
          ],
          [
           1
          ],
          [
           0
          ],
          [
           3
          ],
          [
           0
          ],
          [
           3
          ],
          [
           2
          ],
          [
           0
          ],
          [
           3
          ],
          [
           3
          ],
          [
           1
          ],
          [
           3
          ],
          [
           2
          ],
          [
           0
          ],
          [
           1
          ],
          [
           1
          ],
          [
           3
          ],
          [
           2
          ],
          [
           0
          ],
          [
           3
          ],
          [
           1
          ],
          [
           2
          ],
          [
           3
          ],
          [
           2
          ],
          [
           3
          ],
          [
           3
          ],
          [
           2
          ],
          [
           3
          ],
          [
           3
          ],
          [
           2
          ],
          [
           0
          ],
          [
           0
          ],
          [
           2
          ],
          [
           2
          ],
          [
           2
          ],
          [
           0
          ],
          [
           0
          ],
          [
           3
          ],
          [
           3
          ],
          [
           0
          ],
          [
           0
          ],
          [
           3
          ],
          [
           1
          ],
          [
           2
          ],
          [
           1
          ],
          [
           0
          ],
          [
           0
          ],
          [
           0
          ],
          [
           2
          ],
          [
           0
          ],
          [
           3
          ],
          [
           1
          ],
          [
           2
          ],
          [
           0
          ],
          [
           2
          ],
          [
           1
          ],
          [
           0
          ],
          [
           0
          ],
          [
           2
          ],
          [
           0
          ],
          [
           1
          ],
          [
           0
          ],
          [
           0
          ],
          [
           0
          ],
          [
           2
          ],
          [
           0
          ],
          [
           3
          ],
          [
           2
          ],
          [
           0
          ],
          [
           1
          ],
          [
           2
          ],
          [
           1
          ],
          [
           2
          ],
          [
           3
          ],
          [
           2
          ],
          [
           2
          ],
          [
           2
          ],
          [
           0
          ],
          [
           1
          ],
          [
           0
          ],
          [
           0
          ],
          [
           0
          ],
          [
           0
          ],
          [
           3
          ],
          [
           0
          ],
          [
           0
          ],
          [
           2
          ],
          [
           2
          ],
          [
           0
          ],
          [
           1
          ],
          [
           2
          ],
          [
           2
          ],
          [
           3
          ],
          [
           0
          ],
          [
           0
          ],
          [
           0
          ],
          [
           0
          ],
          [
           2
          ],
          [
           2
          ],
          [
           0
          ],
          [
           1
          ],
          [
           0
          ],
          [
           2
          ],
          [
           2
          ],
          [
           1
          ],
          [
           3
          ],
          [
           2
          ],
          [
           1
          ],
          [
           0
          ],
          [
           1
          ],
          [
           2
          ],
          [
           3
          ],
          [
           0
          ],
          [
           0
          ],
          [
           1
          ],
          [
           1
          ],
          [
           0
          ],
          [
           0
          ],
          [
           0
          ],
          [
           2
          ],
          [
           0
          ],
          [
           3
          ],
          [
           0
          ],
          [
           1
          ],
          [
           1
          ],
          [
           1
          ],
          [
           2
          ],
          [
           2
          ],
          [
           0
          ],
          [
           2
          ],
          [
           0
          ],
          [
           0
          ],
          [
           1
          ],
          [
           3
          ],
          [
           2
          ],
          [
           0
          ],
          [
           3
          ],
          [
           0
          ],
          [
           2
          ],
          [
           1
          ],
          [
           0
          ],
          [
           2
          ],
          [
           3
          ],
          [
           1
          ],
          [
           0
          ],
          [
           1
          ],
          [
           2
          ],
          [
           1
          ],
          [
           0
          ],
          [
           1
          ],
          [
           0
          ],
          [
           0
          ],
          [
           0
          ],
          [
           0
          ],
          [
           0
          ],
          [
           3
          ],
          [
           2
          ],
          [
           0
          ],
          [
           3
          ],
          [
           2
          ],
          [
           0
          ],
          [
           0
          ],
          [
           2
          ],
          [
           0
          ],
          [
           2
          ],
          [
           0
          ],
          [
           2
          ],
          [
           2
          ],
          [
           3
          ],
          [
           1
          ],
          [
           1
          ],
          [
           0
          ],
          [
           0
          ],
          [
           2
          ],
          [
           2
          ],
          [
           1
          ],
          [
           0
          ],
          [
           2
          ],
          [
           2
          ],
          [
           2
          ],
          [
           0
          ],
          [
           0
          ],
          [
           3
          ],
          [
           1
          ],
          [
           0
          ],
          [
           0
          ],
          [
           3
          ],
          [
           0
          ],
          [
           0
          ],
          [
           1
          ],
          [
           2
          ],
          [
           1
          ],
          [
           0
          ],
          [
           0
          ],
          [
           1
          ],
          [
           3
          ],
          [
           2
          ],
          [
           2
          ],
          [
           2
          ],
          [
           0
          ],
          [
           1
          ],
          [
           1
          ],
          [
           3
          ],
          [
           3
          ],
          [
           0
          ],
          [
           2
          ],
          [
           0
          ],
          [
           2
          ],
          [
           3
          ],
          [
           0
          ],
          [
           2
          ],
          [
           0
          ],
          [
           2
          ],
          [
           3
          ],
          [
           3
          ],
          [
           0
          ],
          [
           0
          ],
          [
           0
          ],
          [
           3
          ],
          [
           3
          ],
          [
           2
          ],
          [
           3
          ],
          [
           0
          ],
          [
           0
          ],
          [
           2
          ],
          [
           0
          ],
          [
           1
          ],
          [
           1
          ],
          [
           0
          ],
          [
           1
          ],
          [
           3
          ],
          [
           0
          ],
          [
           0
          ],
          [
           1
          ],
          [
           0
          ],
          [
           0
          ],
          [
           0
          ],
          [
           0
          ],
          [
           2
          ],
          [
           2
          ],
          [
           0
          ],
          [
           2
          ],
          [
           3
          ],
          [
           2
          ],
          [
           1
          ],
          [
           3
          ],
          [
           0
          ],
          [
           0
          ],
          [
           3
          ],
          [
           1
          ],
          [
           3
          ],
          [
           1
          ],
          [
           1
          ],
          [
           2
          ],
          [
           0
          ],
          [
           0
          ],
          [
           1
          ],
          [
           0
          ],
          [
           2
          ],
          [
           0
          ],
          [
           1
          ],
          [
           0
          ],
          [
           2
          ],
          [
           0
          ],
          [
           2
          ],
          [
           2
          ],
          [
           2
          ],
          [
           2
          ],
          [
           3
          ],
          [
           3
          ],
          [
           1
          ],
          [
           0
          ],
          [
           1
          ],
          [
           2
          ],
          [
           0
          ],
          [
           3
          ],
          [
           1
          ],
          [
           1
          ],
          [
           0
          ],
          [
           3
          ],
          [
           0
          ],
          [
           0
          ],
          [
           2
          ],
          [
           1
          ],
          [
           0
          ],
          [
           1
          ],
          [
           3
          ],
          [
           0
          ],
          [
           1
          ],
          [
           1
          ],
          [
           0
          ],
          [
           0
          ],
          [
           0
          ],
          [
           0
          ],
          [
           2
          ],
          [
           0
          ],
          [
           0
          ],
          [
           1
          ],
          [
           3
          ],
          [
           1
          ],
          [
           0
          ],
          [
           2
          ],
          [
           0
          ],
          [
           0
          ],
          [
           0
          ],
          [
           2
          ],
          [
           2
          ],
          [
           3
          ],
          [
           0
          ],
          [
           0
          ],
          [
           1
          ],
          [
           3
          ],
          [
           1
          ],
          [
           2
          ],
          [
           1
          ],
          [
           3
          ],
          [
           0
          ],
          [
           2
          ],
          [
           2
          ],
          [
           2
          ],
          [
           0
          ],
          [
           0
          ],
          [
           2
          ],
          [
           3
          ],
          [
           0
          ],
          [
           3
          ],
          [
           1
          ],
          [
           2
          ],
          [
           0
          ],
          [
           1
          ],
          [
           0
          ],
          [
           3
          ],
          [
           2
          ],
          [
           0
          ],
          [
           0
          ],
          [
           3
          ],
          [
           2
          ],
          [
           1
          ],
          [
           0
          ],
          [
           0
          ],
          [
           3
          ],
          [
           1
          ],
          [
           0
          ],
          [
           0
          ],
          [
           3
          ],
          [
           1
          ],
          [
           1
          ],
          [
           3
          ],
          [
           3
          ],
          [
           2
          ],
          [
           0
          ],
          [
           0
          ],
          [
           2
          ],
          [
           0
          ],
          [
           2
          ],
          [
           1
          ],
          [
           3
          ],
          [
           2
          ],
          [
           0
          ],
          [
           3
          ],
          [
           2
          ],
          [
           1
          ],
          [
           3
          ],
          [
           0
          ],
          [
           0
          ],
          [
           0
          ],
          [
           1
          ],
          [
           0
          ],
          [
           0
          ],
          [
           2
          ],
          [
           1
          ],
          [
           0
          ],
          [
           3
          ],
          [
           0
          ],
          [
           0
          ],
          [
           1
          ],
          [
           0
          ],
          [
           2
          ],
          [
           1
          ],
          [
           0
          ],
          [
           3
          ],
          [
           0
          ],
          [
           3
          ],
          [
           3
          ],
          [
           0
          ],
          [
           1
          ],
          [
           1
          ],
          [
           2
          ],
          [
           3
          ],
          [
           1
          ],
          [
           0
          ],
          [
           3
          ],
          [
           0
          ],
          [
           3
          ],
          [
           2
          ],
          [
           3
          ],
          [
           1
          ],
          [
           3
          ],
          [
           3
          ],
          [
           0
          ],
          [
           2
          ],
          [
           2
          ],
          [
           1
          ],
          [
           3
          ],
          [
           1
          ],
          [
           0
          ],
          [
           1
          ],
          [
           2
          ],
          [
           0
          ],
          [
           3
          ],
          [
           0
          ],
          [
           1
          ],
          [
           2
          ],
          [
           1
          ],
          [
           3
          ],
          [
           1
          ],
          [
           2
          ],
          [
           0
          ],
          [
           3
          ],
          [
           0
          ],
          [
           3
          ],
          [
           3
          ],
          [
           0
          ],
          [
           0
          ],
          [
           0
          ],
          [
           2
          ],
          [
           0
          ],
          [
           0
          ],
          [
           2
          ],
          [
           2
          ],
          [
           1
          ],
          [
           1
          ],
          [
           1
          ],
          [
           2
          ],
          [
           2
          ],
          [
           3
          ],
          [
           1
          ],
          [
           0
          ],
          [
           0
          ],
          [
           1
          ],
          [
           1
          ],
          [
           0
          ],
          [
           0
          ],
          [
           3
          ],
          [
           0
          ],
          [
           0
          ],
          [
           2
          ],
          [
           2
          ],
          [
           1
          ],
          [
           0
          ],
          [
           1
          ],
          [
           0
          ],
          [
           3
          ],
          [
           0
          ],
          [
           2
          ],
          [
           0
          ],
          [
           0
          ],
          [
           0
          ],
          [
           1
          ],
          [
           2
          ],
          [
           1
          ],
          [
           3
          ],
          [
           0
          ],
          [
           0
          ],
          [
           2
          ],
          [
           0
          ],
          [
           3
          ],
          [
           3
          ],
          [
           0
          ],
          [
           2
          ],
          [
           0
          ],
          [
           0
          ],
          [
           2
          ],
          [
           0
          ],
          [
           0
          ],
          [
           1
          ],
          [
           3
          ],
          [
           0
          ],
          [
           3
          ],
          [
           0
          ],
          [
           0
          ],
          [
           0
          ],
          [
           0
          ],
          [
           0
          ],
          [
           3
          ],
          [
           1
          ],
          [
           0
          ],
          [
           1
          ],
          [
           0
          ],
          [
           2
          ],
          [
           2
          ],
          [
           3
          ],
          [
           1
          ],
          [
           3
          ],
          [
           1
          ],
          [
           2
          ],
          [
           0
          ],
          [
           0
          ],
          [
           2
          ],
          [
           1
          ],
          [
           0
          ],
          [
           0
          ],
          [
           2
          ],
          [
           0
          ],
          [
           0
          ],
          [
           0
          ],
          [
           1
          ],
          [
           2
          ],
          [
           0
          ],
          [
           1
          ],
          [
           1
          ],
          [
           1
          ],
          [
           0
          ],
          [
           0
          ],
          [
           0
          ],
          [
           0
          ],
          [
           1
          ],
          [
           0
          ],
          [
           2
          ],
          [
           2
          ],
          [
           2
          ],
          [
           0
          ],
          [
           1
          ],
          [
           3
          ],
          [
           1
          ],
          [
           2
          ],
          [
           1
          ],
          [
           3
          ],
          [
           0
          ],
          [
           0
          ],
          [
           1
          ],
          [
           2
          ],
          [
           2
          ],
          [
           0
          ],
          [
           3
          ],
          [
           0
          ],
          [
           3
          ],
          [
           0
          ],
          [
           3
          ],
          [
           2
          ],
          [
           2
          ],
          [
           3
          ],
          [
           0
          ],
          [
           1
          ],
          [
           0
          ],
          [
           0
          ],
          [
           0
          ],
          [
           3
          ],
          [
           0
          ],
          [
           0
          ],
          [
           1
          ],
          [
           0
          ],
          [
           0
          ],
          [
           1
          ],
          [
           1
          ],
          [
           2
          ],
          [
           0
          ],
          [
           0
          ],
          [
           0
          ],
          [
           1
          ],
          [
           2
          ],
          [
           1
          ],
          [
           0
          ],
          [
           0
          ],
          [
           1
          ],
          [
           2
          ],
          [
           0
          ],
          [
           3
          ],
          [
           0
          ],
          [
           1
          ],
          [
           0
          ],
          [
           0
          ],
          [
           0
          ],
          [
           2
          ],
          [
           0
          ],
          [
           0
          ],
          [
           1
          ],
          [
           0
          ],
          [
           1
          ],
          [
           1
          ],
          [
           1
          ],
          [
           3
          ],
          [
           3
          ],
          [
           3
          ],
          [
           0
          ],
          [
           0
          ],
          [
           3
          ],
          [
           2
          ],
          [
           3
          ],
          [
           2
          ],
          [
           0
          ],
          [
           3
          ],
          [
           0
          ],
          [
           3
          ],
          [
           3
          ],
          [
           0
          ],
          [
           2
          ],
          [
           3
          ],
          [
           0
          ],
          [
           2
          ],
          [
           0
          ],
          [
           1
          ],
          [
           0
          ],
          [
           2
          ],
          [
           2
          ],
          [
           0
          ],
          [
           0
          ],
          [
           2
          ],
          [
           3
          ],
          [
           0
          ],
          [
           3
          ],
          [
           0
          ],
          [
           3
          ],
          [
           2
          ],
          [
           2
          ],
          [
           0
          ],
          [
           1
          ],
          [
           3
          ],
          [
           0
          ],
          [
           0
          ],
          [
           0
          ],
          [
           0
          ],
          [
           1
          ],
          [
           2
          ],
          [
           0
          ],
          [
           0
          ],
          [
           3
          ],
          [
           1
          ],
          [
           0
          ],
          [
           3
          ],
          [
           2
          ],
          [
           0
          ],
          [
           2
          ],
          [
           2
          ],
          [
           3
          ],
          [
           0
          ],
          [
           3
          ],
          [
           2
          ],
          [
           0
          ],
          [
           0
          ],
          [
           3
          ],
          [
           1
          ],
          [
           1
          ],
          [
           0
          ],
          [
           3
          ],
          [
           0
          ],
          [
           0
          ],
          [
           0
          ],
          [
           0
          ],
          [
           0
          ],
          [
           1
          ],
          [
           0
          ],
          [
           0
          ],
          [
           3
          ],
          [
           2
          ],
          [
           3
          ],
          [
           0
          ],
          [
           2
          ],
          [
           3
          ],
          [
           3
          ],
          [
           0
          ],
          [
           3
          ],
          [
           3
          ],
          [
           1
          ],
          [
           1
          ],
          [
           0
          ],
          [
           1
          ],
          [
           3
          ],
          [
           2
          ]
         ],
         "hovertemplate": "x=%{x}<br>y=%{y}<br>Cluster=%{customdata[0]}<extra></extra>",
         "legendgroup": "",
         "marker": {
          "color": "#636efa",
          "symbol": "circle"
         },
         "mode": "markers",
         "name": "",
         "showlegend": false,
         "type": "scatter",
         "x": [
          19.202625274658203,
          17.185049057006836,
          12.793658256530762,
          -4.253939628601074,
          19.43880271911621,
          -0.034408729523420334,
          -29.057870864868164,
          12.235757827758789,
          -15.176647186279297,
          7.503661632537842,
          5.669941425323486,
          12.186331748962402,
          -22.13188934326172,
          10.962869644165039,
          8.844718933105469,
          3.0893940925598145,
          -25.168493270874023,
          -16.35918426513672,
          -11.189164161682129,
          -0.2129737138748169,
          -15.997671127319336,
          3.070565700531006,
          24.306076049804688,
          -3.0265040397644043,
          15.772157669067383,
          8.439724922180176,
          -18.143577575683594,
          5.354043960571289,
          11.79901123046875,
          7.546687602996826,
          16.383230209350586,
          5.6945719718933105,
          25.839982986450195,
          6.283287525177002,
          -4.259081840515137,
          12.664856910705566,
          -7.154903888702393,
          16.072580337524414,
          14.660881996154785,
          31.823871612548828,
          15.085988998413086,
          -11.587698936462402,
          21.08076286315918,
          -22.32015037536621,
          24.694189071655273,
          18.119340896606445,
          6.7903947830200195,
          8.274276733398438,
          16.917879104614258,
          -19.337377548217773,
          -19.950946807861328,
          -6.369837284088135,
          -23.151193618774414,
          8.127344131469727,
          -14.607564926147461,
          -17.3446044921875,
          -32.725303649902344,
          -27.645193099975586,
          -0.6167911887168884,
          -9.701165199279785,
          13.585500717163086,
          -24.808645248413086,
          -29.02174186706543,
          -16.97319984436035,
          3.320906400680542,
          22.043128967285156,
          16.122488021850586,
          -21.52103042602539,
          1.8400537967681885,
          24.241941452026367,
          11.674108505249023,
          19.87408447265625,
          10.388015747070312,
          8.47973918914795,
          5.402710437774658,
          29.630014419555664,
          15.092306137084961,
          9.156389236450195,
          -7.584991931915283,
          -29.383975982666016,
          13.8257474899292,
          10.533256530761719,
          0.35645636916160583,
          -28.38213348388672,
          31.66990852355957,
          -9.097908020019531,
          10.466931343078613,
          -14.500167846679688,
          -18.992849349975586,
          14.417505264282227,
          4.335892200469971,
          -15.451410293579102,
          10.59945011138916,
          3.2017886638641357,
          -29.369443893432617,
          -2.807258129119873,
          23.04016876220703,
          12.477433204650879,
          -3.6834683418273926,
          -18.465438842773438,
          -26.07316780090332,
          5.922233581542969,
          20.176166534423828,
          -8.615691184997559,
          8.570883750915527,
          -15.71035099029541,
          -13.04288387298584,
          5.360162734985352,
          -4.287123203277588,
          -12.949867248535156,
          -7.583516597747803,
          -31.872007369995117,
          -27.99835968017578,
          16.799846649169922,
          7.289909839630127,
          -17.948654174804688,
          6.601388454437256,
          3.8375399112701416,
          9.905685424804688,
          -7.948876857757568,
          2.583279609680176,
          29.441802978515625,
          24.251800537109375,
          -33.11888885498047,
          -22.535266876220703,
          -21.570661544799805,
          -36.421634674072266,
          -12.734644889831543,
          9.608759880065918,
          -16.649627685546875,
          7.004470348358154,
          -21.997291564941406,
          9.946762084960938,
          11.756793022155762,
          5.099721431732178,
          -35.773868560791016,
          -16.43365478515625,
          0.2549463212490082,
          -7.248824119567871,
          -6.714775562286377,
          10.671006202697754,
          10.704024314880371,
          24.87918472290039,
          4.551594257354736,
          3.7119972705841064,
          -18.72337532043457,
          -11.522591590881348,
          -23.208248138427734,
          18.760568618774414,
          6.538547039031982,
          -9.833998680114746,
          13.956700325012207,
          7.248417854309082,
          11.288878440856934,
          6.202282905578613,
          -12.515999794006348,
          -17.88783073425293,
          -24.512849807739258,
          -6.91811466217041,
          -26.538192749023438,
          -24.671981811523438,
          -35.65156173706055,
          8.711808204650879,
          23.274492263793945,
          -21.007448196411133,
          9.50894546508789,
          -11.49992847442627,
          -18.54410743713379,
          10.029397964477539,
          9.017749786376953,
          -17.327068328857422,
          8.955348014831543,
          -17.6091365814209,
          17.73284912109375,
          -2.8622069358825684,
          13.126928329467773,
          26.145736694335938,
          14.339390754699707,
          14.561415672302246,
          9.931398391723633,
          2.68377685546875,
          9.42735481262207,
          -31.6358699798584,
          -16.003698348999023,
          -6.5531439781188965,
          6.1288676261901855,
          -25.87505531311035,
          5.781773567199707,
          -21.941545486450195,
          21.160030364990234,
          29.267351150512695,
          15.060284614562988,
          10.347333908081055,
          7.879303455352783,
          -14.95722484588623,
          33.19878387451172,
          6.4767560958862305,
          8.49879264831543,
          11.356244087219238,
          -11.024406433105469,
          11.649128913879395,
          16.724063873291016,
          7.722677230834961,
          -1.115535855293274,
          -19.09080696105957,
          19.09761619567871,
          3.5876710414886475,
          -9.894509315490723,
          9.273674964904785,
          12.383840560913086,
          10.871240615844727,
          -12.240912437438965,
          -11.572416305541992,
          -5.838105201721191,
          7.486604690551758,
          -10.061528205871582,
          -21.977506637573242,
          8.567673683166504,
          7.85983419418335,
          7.287511825561523,
          -22.270442962646484,
          -23.199060440063477,
          18.446252822875977,
          -25.67911148071289,
          -29.714488983154297,
          23.934694290161133,
          -16.6204833984375,
          20.22780418395996,
          12.435742378234863,
          -9.538762092590332,
          8.128055572509766,
          -27.14570426940918,
          -0.49200183153152466,
          8.809947967529297,
          -10.634644508361816,
          3.035418748855591,
          -26.92486000061035,
          17.810104370117188,
          3.524906873703003,
          -14.069133758544922,
          -9.660743713378906,
          11.198390007019043,
          2.210062265396118,
          -10.123406410217285,
          4.495405673980713,
          -35.983001708984375,
          18.8664493560791,
          15.04527759552002,
          15.738682746887207,
          16.865419387817383,
          7.163107395172119,
          -24.451831817626953,
          -8.847219467163086,
          -15.34200382232666,
          0.108870729804039,
          -9.70278549194336,
          6.484884738922119,
          12.350056648254395,
          20.768531799316406,
          18.373668670654297,
          -17.721826553344727,
          10.967974662780762,
          26.431264877319336,
          -7.325150012969971,
          9.679312705993652,
          10.86159896850586,
          -10.979936599731445,
          -22.3887882232666,
          5.129537105560303,
          18.33592414855957,
          -8.960944175720215,
          -10.3851318359375,
          2.6599395275115967,
          6.00241231918335,
          19.58028793334961,
          16.35930824279785,
          -18.761808395385742,
          5.233575820922852,
          -32.33261489868164,
          -12.496529579162598,
          -15.68238353729248,
          -17.478557586669922,
          31.19403839111328,
          3.2825088500976562,
          16.638866424560547,
          8.25286865234375,
          8.555044174194336,
          25.184097290039062,
          -5.582859516143799,
          -32.93328094482422,
          12.420015335083008,
          -2.239680290222168,
          -7.8611040115356445,
          -27.889324188232422,
          -28.49541664123535,
          -32.318572998046875,
          -10.757818222045898,
          22.51292610168457,
          -31.01668930053711,
          4.956762313842773,
          -21.461341857910156,
          -2.890705108642578,
          -13.139860153198242,
          17.75132942199707,
          -22.979578018188477,
          4.120680332183838,
          9.666847229003906,
          -28.9620361328125,
          9.496530532836914,
          8.596027374267578,
          -20.197484970092773,
          30.3570613861084,
          25.582670211791992,
          6.9022746086120605,
          -8.965034484863281,
          -12.082107543945312,
          14.660771369934082,
          18.01043701171875,
          21.214275360107422,
          13.359148979187012,
          12.963440895080566,
          10.150345802307129,
          -33.172515869140625,
          1.30565345287323,
          10.699384689331055,
          11.540982246398926,
          5.409336090087891,
          12.10880184173584,
          25.654869079589844,
          3.3374102115631104,
          2.595555543899536,
          10.207500457763672,
          -17.330760955810547,
          1.625566840171814,
          4.926202297210693,
          10.673118591308594,
          16.021556854248047,
          -28.293333053588867,
          -23.750768661499023,
          4.38452672958374,
          5.2542595863342285,
          33.26288604736328,
          -25.443010330200195,
          -0.9301210641860962,
          6.25258731842041,
          -10.816446304321289,
          1.881476879119873,
          -19.435789108276367,
          -10.173995018005371,
          17.756303787231445,
          -10.687232971191406,
          -10.37746810913086,
          5.052953243255615,
          -18.412612915039062,
          22.270801544189453,
          14.090657234191895,
          -16.494651794433594,
          -11.98361873626709,
          -8.627314567565918,
          -15.23642349243164,
          4.886030673980713,
          -28.384510040283203,
          3.191178321838379,
          9.806231498718262,
          8.863533020019531,
          12.836889266967773,
          16.699485778808594,
          -11.792634010314941,
          -28.074684143066406,
          4.333864212036133,
          -28.94852638244629,
          15.621530532836914,
          6.487163066864014,
          -5.73876953125,
          -4.566586017608643,
          -25.114723205566406,
          8.53890609741211,
          2.3261144161224365,
          -24.53911781311035,
          -0.9576524496078491,
          7.522565841674805,
          -27.706863403320312,
          9.057378768920898,
          10.465368270874023,
          9.670303344726562,
          -12.99597454071045,
          6.704294204711914,
          -11.850428581237793,
          -16.427322387695312,
          -20.940250396728516,
          -10.852190017700195,
          -20.8126220703125,
          -23.55402183532715,
          -1.6353931427001953,
          23.546695709228516,
          1.2825655937194824,
          6.389156341552734,
          6.318550109863281,
          5.42673921585083,
          30.191022872924805,
          13.906744003295898,
          12.118964195251465,
          -15.906184196472168,
          -9.674134254455566,
          -34.03791427612305,
          17.845294952392578,
          18.73459815979004,
          13.509196281433105,
          6.327365875244141,
          -25.469013214111328,
          -27.74359893798828,
          -26.680883407592773,
          -20.654630661010742,
          -10.995328903198242,
          -0.5221207141876221,
          6.000184059143066,
          15.000232696533203,
          -34.682952880859375,
          11.429844856262207,
          14.188136100769043,
          -13.778888702392578,
          5.149567604064941,
          20.610754013061523,
          32.57612991333008,
          12.52800464630127,
          -27.533676147460938,
          -27.0268497467041,
          8.414422988891602,
          22.114728927612305,
          -10.873979568481445,
          17.979772567749023,
          18.889230728149414,
          29.592758178710938,
          -12.303359985351562,
          -23.812294006347656,
          18.413986206054688,
          13.271500587463379,
          7.882717609405518,
          -18.609655380249023,
          2.917811632156372,
          -14.665342330932617,
          6.195528030395508,
          12.165788650512695,
          12.591711044311523,
          19.891733169555664,
          10.240309715270996,
          19.581552505493164,
          1.8537856340408325,
          4.012568950653076,
          -14.14228630065918,
          5.251354217529297,
          13.779478073120117,
          -17.627927780151367,
          -25.7470760345459,
          9.528240203857422,
          5.971187591552734,
          21.504364013671875,
          -36.77348327636719,
          4.112331867218018,
          2.516479969024658,
          25.176000595092773,
          -16.8013916015625,
          -24.0734920501709,
          3.39332914352417,
          9.171181678771973,
          -14.621598243713379,
          21.483434677124023,
          -16.096323013305664,
          6.160597324371338,
          -27.4376220703125,
          -0.20566102862358093,
          -7.117023468017578,
          9.345264434814453,
          3.156257152557373,
          11.342902183532715,
          -8.7929105758667,
          9.491259574890137,
          3.9273593425750732,
          -17.027915954589844,
          -28.096559524536133,
          -16.588254928588867,
          30.46516990661621,
          -13.710672378540039,
          11.063761711120605,
          19.010419845581055,
          6.017395496368408,
          3.378208637237549,
          8.302213668823242,
          17.811717987060547,
          -18.502317428588867,
          13.366446495056152,
          20.643291473388672,
          -1.623857855796814,
          -28.35233497619629,
          7.084880828857422,
          12.121123313903809,
          -23.61358642578125,
          -23.913883209228516,
          22.902515411376953,
          -5.825612545013428,
          -0.7624511122703552,
          5.08030891418457,
          15.356389999389648,
          21.87346839904785,
          9.941994667053223,
          1.8035151958465576,
          -14.316967964172363,
          9.656499862670898,
          -14.469675064086914,
          -19.496959686279297,
          -4.315619945526123,
          7.153507709503174,
          -21.286827087402344,
          -10.139053344726562,
          11.37087345123291,
          2.9050776958465576,
          11.751091957092285,
          -27.70758628845215,
          -23.123327255249023,
          -24.082569122314453,
          7.225951671600342,
          -33.00655746459961,
          -21.8674373626709,
          -15.18547248840332,
          17.903139114379883,
          -18.615873336791992,
          8.233596801757812,
          13.251045227050781,
          -23.992286682128906,
          -13.94942569732666,
          -6.255815029144287,
          -19.894386291503906,
          4.282689571380615,
          10.401177406311035,
          -8.335006713867188,
          -31.251911163330078,
          -27.077470779418945,
          6.58941650390625,
          20.94599723815918,
          24.804187774658203,
          17.72177505493164,
          1.802984356880188,
          21.661256790161133,
          -3.0320000648498535,
          -22.326141357421875,
          4.02890157699585,
          -5.774445533752441,
          18.596511840820312,
          -13.385272026062012,
          24.557722091674805,
          -13.820981979370117,
          13.043469429016113,
          -10.056264877319336,
          3.749112367630005,
          -14.069000244140625,
          6.139105796813965,
          -34.22672653198242,
          -6.73570442199707,
          -4.322713851928711,
          -25.533390045166016,
          8.845921516418457,
          30.45553970336914,
          -36.08234405517578,
          10.26661491394043,
          11.171853065490723,
          2.3974814414978027,
          -24.863697052001953,
          6.708142280578613,
          0.2321847677230835,
          16.260860443115234,
          10.102141380310059,
          23.85256576538086,
          14.257159233093262,
          19.73451042175293,
          16.08370018005371,
          -11.905692100524902,
          -7.704479694366455,
          23.885284423828125,
          19.375076293945312,
          32.4825325012207,
          7.047800064086914,
          10.59914493560791,
          -24.019325256347656,
          23.436994552612305,
          -8.745414733886719,
          -16.841564178466797,
          20.237354278564453,
          5.256231784820557,
          23.742610931396484,
          -8.84792423248291,
          -2.8155484199523926,
          1.9445552825927734,
          -4.322903633117676,
          10.765307426452637,
          8.193979263305664,
          -3.239623546600342,
          -34.17578125,
          -18.234752655029297,
          11.047463417053223,
          23.30577278137207,
          6.003969192504883,
          -8.877595901489258,
          12.476241111755371,
          -11.91208267211914,
          18.99102783203125,
          -15.797969818115234,
          -19.965723037719727,
          4.169403553009033,
          11.417069435119629,
          -14.467915534973145,
          15.589319229125977,
          4.788165092468262,
          -19.8369140625,
          16.409332275390625,
          12.990154266357422,
          -13.524148941040039,
          -16.658126831054688,
          -14.771045684814453,
          10.170050621032715,
          32.078102111816406,
          8.543039321899414,
          -13.200142860412598,
          -31.973413467407227,
          15.624822616577148,
          -26.474014282226562,
          -17.756784439086914,
          6.315405368804932,
          16.26165771484375,
          -23.49053382873535,
          16.980209350585938,
          8.598345756530762,
          9.322905540466309,
          -24.027435302734375,
          17.718765258789062,
          26.15382957458496,
          -5.42638635635376,
          29.90777015686035,
          -6.873159885406494,
          14.395733833312988,
          30.33428382873535,
          -28.162504196166992,
          18.031679153442383,
          -7.936453342437744,
          -19.027257919311523,
          -28.335853576660156,
          6.066200256347656,
          4.7455925941467285,
          6.04296875,
          16.689861297607422,
          2.5557472705841064,
          13.585123062133789,
          -19.0617733001709,
          2.3076484203338623,
          11.349298477172852,
          -20.864009857177734,
          -24.83570671081543,
          -16.807071685791016,
          -27.484493255615234,
          -16.13166046142578,
          18.847566604614258,
          -15.589034080505371,
          3.7371349334716797,
          13.419800758361816,
          6.664865493774414,
          -14.424848556518555,
          -21.576711654663086,
          -24.37818717956543,
          3.0371830463409424,
          9.811063766479492,
          -17.852357864379883,
          4.27291202545166,
          -3.112668037414551,
          -16.241722106933594,
          7.946263790130615,
          16.55336570739746,
          6.940820217132568,
          19.651809692382812,
          11.234715461730957,
          2.7174670696258545,
          -7.546810150146484,
          4.906922340393066,
          -26.473379135131836
         ],
         "xaxis": "x",
         "y": [
          9.29369831085205,
          7.877676486968994,
          25.974828720092773,
          0.8120251893997192,
          -5.585900783538818,
          -7.472454071044922,
          -2.2084734439849854,
          -13.773509979248047,
          -7.232271671295166,
          -19.873794555664062,
          15.468786239624023,
          27.66967010498047,
          -5.396358489990234,
          -34.58554458618164,
          3.394352436065674,
          29.25457191467285,
          12.561423301696777,
          4.2745842933654785,
          -0.18035130202770233,
          -23.206222534179688,
          -10.25384521484375,
          -8.449334144592285,
          -11.107763290405273,
          35.60254669189453,
          -24.078279495239258,
          -10.392313003540039,
          2.4301095008850098,
          -19.490968704223633,
          -7.598714351654053,
          34.916595458984375,
          -22.335134506225586,
          14.334393501281738,
          -2.4318056106567383,
          -6.905478477478027,
          -0.09738566726446152,
          -6.031584739685059,
          16.11920928955078,
          -12.057619094848633,
          -16.449827194213867,
          5.586395263671875,
          27.41708755493164,
          -20.03192138671875,
          28.861377716064453,
          -10.900601387023926,
          -1.4336597919464111,
          5.715780258178711,
          -19.406795501708984,
          2.9253761768341064,
          -22.53566551208496,
          -3.1475560665130615,
          3.0524966716766357,
          0.4222782254219055,
          1.7638252973556519,
          -5.089141368865967,
          -11.42872428894043,
          15.214201927185059,
          2.9253060817718506,
          -17.76878547668457,
          8.294631004333496,
          5.0317487716674805,
          -6.2396769523620605,
          -9.071642875671387,
          -16.182849884033203,
          -5.175711631774902,
          -12.442832946777344,
          28.35806655883789,
          -27.114139556884766,
          2.0816903114318848,
          34.7393798828125,
          -10.491353034973145,
          32.76776123046875,
          5.585409641265869,
          -18.46796989440918,
          -16.018278121948242,
          -10.52324390411377,
          10.797483444213867,
          -20.75554656982422,
          -34.30335998535156,
          15.483717918395996,
          10.666362762451172,
          16.49990463256836,
          -24.474178314208984,
          -23.12978744506836,
          11.803929328918457,
          6.417654991149902,
          6.491036415100098,
          -12.044017791748047,
          -11.355945587158203,
          2.503781318664551,
          -17.12135887145996,
          24.30933952331543,
          -0.06414523720741272,
          -34.41335678100586,
          -11.37050724029541,
          11.112756729125977,
          -16.066024780273438,
          -26.04645538330078,
          -2.2978432178497314,
          0.9216984510421753,
          -15.960275650024414,
          11.020262718200684,
          -5.900551795959473,
          9.988715171813965,
          12.458680152893066,
          -10.940596580505371,
          6.818328857421875,
          -2.5824637413024902,
          39.19907760620117,
          0.1907186657190323,
          5.793530464172363,
          1.8768482208251953,
          -0.5330420136451721,
          -6.798957347869873,
          31.433635711669922,
          -6.305319309234619,
          0.6807364821434021,
          40.64976119995117,
          -14.536524772644043,
          -19.740264892578125,
          13.789229393005371,
          31.87397575378418,
          11.341291427612305,
          -24.677932739257812,
          -0.2943085730075836,
          -10.71979808807373,
          -1.700089931488037,
          -8.150459289550781,
          -3.272213935852051,
          34.52303695678711,
          12.743659973144531,
          -25.97417449951172,
          -6.855345249176025,
          35.26675796508789,
          -1.4276422262191772,
          -7.872696399688721,
          -8.603475570678711,
          16.12139129638672,
          -23.400665283203125,
          9.0791654586792,
          -3.58139967918396,
          -4.077315807342529,
          -21.94003677368164,
          -2.868401050567627,
          26.443086624145508,
          23.63916778564453,
          -7.392784595489502,
          -1.7821754217147827,
          -3.0377449989318848,
          4.99867057800293,
          -4.2537713050842285,
          -0.9669509530067444,
          16.321033477783203,
          33.90391540527344,
          35.71371078491211,
          -15.567121505737305,
          1.9061529636383057,
          -2.6833250522613525,
          -10.699921607971191,
          8.22882080078125,
          1.4591538906097412,
          10.564425468444824,
          -9.556319236755371,
          27.75941276550293,
          -24.934986114501953,
          0.7746245265007019,
          31.90314292907715,
          -12.119723320007324,
          -16.005184173583984,
          3.947115659713745,
          30.70150375366211,
          12.620579719543457,
          -33.55911636352539,
          -1.1392920017242432,
          1.5004576444625854,
          -15.77517032623291,
          35.64734649658203,
          -2.915860414505005,
          28.454078674316406,
          -23.10791015625,
          -34.72440719604492,
          36.59347152709961,
          -22.641063690185547,
          1.491456151008606,
          -9.758883476257324,
          13.185429573059082,
          31.264812469482422,
          -15.1124267578125,
          -26.673818588256836,
          9.889162063598633,
          -23.759849548339844,
          8.067872047424316,
          -6.183943271636963,
          31.196151733398438,
          -16.503395080566406,
          1.4935438632965088,
          4.751923084259033,
          -27.296585083007812,
          -34.79903030395508,
          -16.409496307373047,
          -19.47427749633789,
          -2.3192646503448486,
          -27.110031127929688,
          32.29825210571289,
          -7.360762119293213,
          -8.960606575012207,
          5.15640115737915,
          -22.20572280883789,
          -19.707300186157227,
          -21.878768920898438,
          36.3726692199707,
          -7.774364471435547,
          -12.346823692321777,
          -17.814603805541992,
          5.948634147644043,
          -27.677518844604492,
          -3.5021347999572754,
          -6.473999500274658,
          34.3963737487793,
          -13.268441200256348,
          -8.475295066833496,
          -4.659031391143799,
          -4.518258094787598,
          9.107478141784668,
          6.047461986541748,
          2.8328514099121094,
          -3.638761520385742,
          -1.184510350227356,
          9.11123275756836,
          25.092174530029297,
          -1.1183803081512451,
          31.716415405273438,
          9.822332382202148,
          -7.0368757247924805,
          26.93453025817871,
          1.6052601337432861,
          29.804414749145508,
          -16.104429244995117,
          -4.378457069396973,
          22.823572158813477,
          2.22330379486084,
          -21.56275749206543,
          30.920743942260742,
          -2.3249740600585938,
          0.24733351171016693,
          -7.998618125915527,
          -9.176916122436523,
          -5.646620273590088,
          -16.976482391357422,
          -26.347198486328125,
          -24.601415634155273,
          -25.6285457611084,
          8.105984687805176,
          17.154478073120117,
          1.1776721477508545,
          35.57855224609375,
          -3.618619441986084,
          33.9100341796875,
          -1.537365198135376,
          29.166419982910156,
          6.53596305847168,
          12.438291549682617,
          -3.231996774673462,
          -2.1464040279388428,
          13.81054401397705,
          -35.4294548034668,
          -33.60069274902344,
          -5.06930685043335,
          0.16296298801898956,
          38.4154167175293,
          10.125489234924316,
          17.211339950561523,
          -21.110565185546875,
          4.562752723693848,
          -25.46647071838379,
          -23.808977127075195,
          -20.283281326293945,
          8.0618314743042,
          33.711727142333984,
          0.5580825209617615,
          4.294503211975098,
          -7.786910057067871,
          -1.3729419708251953,
          8.834282875061035,
          3.3455581665039062,
          7.846328258514404,
          -35.928836822509766,
          -17.740558624267578,
          -2.368056535720825,
          4.84075927734375,
          3.574629783630371,
          35.299293518066406,
          -0.3206178843975067,
          10.768686294555664,
          -5.503957271575928,
          10.718664169311523,
          3.268981456756592,
          13.585132598876953,
          -10.70490550994873,
          0.5872452855110168,
          -6.383241653442383,
          4.195968151092529,
          35.12662887573242,
          -1.5246158838272095,
          -22.120296478271484,
          -5.821297645568848,
          24.911008834838867,
          -36.52348327636719,
          -2.2348947525024414,
          26.49044418334961,
          -18.317697525024414,
          -5.203394889831543,
          11.936080932617188,
          -1.4219245910644531,
          0.0692075565457344,
          -2.669207811355591,
          5.47118616104126,
          29.648059844970703,
          -23.893020629882812,
          -24.573537826538086,
          27.819849014282227,
          24.821590423583984,
          36.025596618652344,
          3.351719617843628,
          -3.5174953937530518,
          26.79674530029297,
          30.104970932006836,
          34.19929504394531,
          32.517845153808594,
          -3.073288679122925,
          -13.258373260498047,
          37.60177230834961,
          3.436068534851074,
          14.193758010864258,
          30.86411476135254,
          36.681915283203125,
          29.58655548095703,
          -22.447731018066406,
          -6.329858303070068,
          5.5154290199279785,
          -22.785232543945312,
          15.106781005859375,
          5.014379978179932,
          12.005285263061523,
          35.811363220214844,
          -8.25571060180664,
          -20.14223289489746,
          35.96572494506836,
          -3.200571060180664,
          -20.349327087402344,
          -26.706560134887695,
          13.785534858703613,
          11.541074752807617,
          -14.594197273254395,
          -4.277365207672119,
          28.392242431640625,
          28.346288681030273,
          -2.169940948486328,
          11.612508773803711,
          -19.15003776550293,
          -12.465400695800781,
          33.394508361816406,
          -15.889159202575684,
          4.650125026702881,
          -25.238555908203125,
          -20.105356216430664,
          -19.964570999145508,
          -6.895277976989746,
          2.747323513031006,
          -7.111426830291748,
          -22.702226638793945,
          1.4888516664505005,
          31.88844108581543,
          40.543067932128906,
          3.518373727798462,
          12.371163368225098,
          5.572414875030518,
          37.10710906982422,
          -1.5661966800689697,
          -4.694498538970947,
          -6.976497650146484,
          -23.189342498779297,
          0.016163524240255356,
          -24.64580535888672,
          34.074859619140625,
          33.36833953857422,
          -0.8498793840408325,
          -1.4236458539962769,
          -12.734539985656738,
          0.4377375543117523,
          5.800771713256836,
          3.256655216217041,
          -11.433247566223145,
          11.45444393157959,
          -0.503017246723175,
          -10.318289756774902,
          28.2596435546875,
          15.32673454284668,
          14.473746299743652,
          -10.378891944885254,
          11.036354064941406,
          -16.50616455078125,
          -19.69021987915039,
          3.3344404697418213,
          2.176638603210449,
          0.3679535686969757,
          7.141952037811279,
          -5.542250633239746,
          -6.234035015106201,
          35.065467834472656,
          5.874930381774902,
          11.385452270507812,
          -15.757508277893066,
          5.126741409301758,
          2.4230661392211914,
          8.244879722595215,
          37.638153076171875,
          -21.2283935546875,
          -8.694271087646484,
          -7.841554641723633,
          31.345287322998047,
          -4.158279895782471,
          30.963966369628906,
          31.13921546936035,
          5.636919975280762,
          -1.7188360691070557,
          2.5037126541137695,
          -7.826664447784424,
          29.01930809020996,
          28.336957931518555,
          -3.1864914894104004,
          -22.975170135498047,
          -6.467688083648682,
          11.532849311828613,
          0.3924608826637268,
          2.7229886054992676,
          -24.365970611572266,
          -9.121322631835938,
          29.13530731201172,
          -16.012290954589844,
          35.7676887512207,
          -11.976905822753906,
          -16.873817443847656,
          24.37840461730957,
          32.607913970947266,
          6.149770259857178,
          -4.744495391845703,
          10.716131210327148,
          28.9202880859375,
          32.92103958129883,
          7.016760349273682,
          14.585311889648438,
          16.659605026245117,
          4.541158199310303,
          -14.956843376159668,
          25.058456420898438,
          14.931975364685059,
          25.435537338256836,
          -8.219035148620605,
          -14.522247314453125,
          28.480451583862305,
          -24.169631958007812,
          15.790644645690918,
          -6.008629322052002,
          -8.08083724975586,
          3.826819896697998,
          4.8935370445251465,
          25.879716873168945,
          -2.806943893432617,
          -13.019207954406738,
          -18.763595581054688,
          -23.15113067626953,
          15.577610969543457,
          -13.556863784790039,
          31.04103660583496,
          28.375873565673828,
          6.956571578979492,
          4.301818370819092,
          22.35199737548828,
          -9.246689796447754,
          2.0279722213745117,
          1.9389288425445557,
          12.054715156555176,
          3.2854363918304443,
          34.818031311035156,
          8.517765998840332,
          -12.744182586669922,
          4.224966049194336,
          29.6036376953125,
          5.332547664642334,
          -10.647629737854004,
          -22.07831382751465,
          25.125019073486328,
          35.6881103515625,
          11.822300910949707,
          28.312238693237305,
          -22.595449447631836,
          -5.459380149841309,
          9.493452072143555,
          -9.58405590057373,
          9.915349006652832,
          -7.521006107330322,
          -19.367250442504883,
          32.1702766418457,
          -25.450632095336914,
          -6.3871941566467285,
          -11.657894134521484,
          -9.930591583251953,
          32.85076904296875,
          -1.3573029041290283,
          7.758192539215088,
          -10.135570526123047,
          29.964588165283203,
          -1.6837741136550903,
          9.967428207397461,
          36.56198501586914,
          3.8706955909729004,
          33.88660430908203,
          -17.438968658447266,
          -2.4558539390563965,
          10.441618919372559,
          -27.713275909423828,
          1.1148475408554077,
          -11.853533744812012,
          -5.09573221206665,
          2.0771069526672363,
          -0.2818523049354553,
          35.77600860595703,
          -8.910735130310059,
          -4.61981201171875,
          -3.2060930728912354,
          0.34376007318496704,
          -9.731850624084473,
          35.28651809692383,
          -22.500490188598633,
          -20.840993881225586,
          1.6763172149658203,
          9.58553409576416,
          37.15228271484375,
          25.518260955810547,
          -24.79288673400879,
          1.457381248474121,
          -11.65818977355957,
          26.906007766723633,
          -16.11985969543457,
          4.7290802001953125,
          -19.024965286254883,
          5.500873565673828,
          7.57181453704834,
          -12.580940246582031,
          -24.74012565612793,
          5.9331159591674805,
          30.640623092651367,
          10.57240104675293,
          29.889616012573242,
          7.96090030670166,
          -15.90497875213623,
          -1.7490431070327759,
          6.163821697235107,
          -10.130938529968262,
          11.159130096435547,
          -35.92990493774414,
          8.309723854064941,
          -7.721416473388672,
          3.8611278533935547,
          -8.264135360717773,
          37.282413482666016,
          -2.7599124908447266,
          -24.27180290222168,
          35.872802734375,
          -7.948968410491943,
          28.866294860839844,
          -26.154672622680664,
          -21.926074981689453,
          9.514848709106445,
          -12.04817008972168,
          -12.532096862792969,
          12.992741584777832,
          -10.03355598449707,
          -6.4804368019104,
          5.173478126525879,
          28.240650177001953,
          32.81922149658203,
          3.0420212745666504,
          -10.842391967773438,
          -21.274747848510742,
          -9.468903541564941,
          24.082294464111328,
          -4.356863975524902,
          -11.232874870300293,
          -19.871618270874023,
          35.22344207763672,
          -2.9459378719329834,
          -10.132274627685547,
          -35.36550521850586,
          -5.474994659423828,
          -3.358278274536133,
          -8.645745277404785,
          14.418319702148438,
          -23.74306869506836,
          -26.364086151123047,
          -5.6081719398498535,
          4.771385192871094,
          -15.671919822692871,
          0.8694062829017639,
          10.322831153869629,
          -3.264194965362549,
          -12.330303192138672,
          -5.255799770355225,
          -16.275056838989258,
          3.558781862258911,
          34.93533706665039,
          -26.414888381958008,
          -9.590324401855469,
          -25.277666091918945,
          29.803436279296875,
          7.825976371765137,
          1.7802664041519165,
          9.241170883178711,
          -18.79727554321289,
          4.939371109008789,
          -16.445375442504883,
          6.523118495941162,
          -0.6569361686706543,
          -19.003841400146484,
          0.22010788321495056,
          -5.450753688812256,
          -20.54261589050293,
          -25.05263900756836,
          -1.0146827697753906,
          -6.977787494659424,
          -36.79606628417969,
          -36.71651840209961,
          0.6385347843170166,
          -4.285872459411621,
          -1.778114914894104,
          10.011520385742188,
          8.705984115600586,
          16.45631980895996,
          -17.823158264160156,
          8.154468536376953,
          -16.05898094177246,
          -25.47488021850586,
          9.465057373046875,
          7.824492454528809,
          -7.734826564788818,
          -12.305441856384277,
          -26.416948318481445,
          -19.39379119873047,
          -26.544641494750977,
          4.245512008666992,
          -23.684743881225586,
          -1.9638997316360474,
          -1.6315453052520752,
          -1.762620210647583,
          -4.026040077209473,
          11.961116790771484,
          13.045044898986816,
          -18.501239776611328,
          3.0672810077667236,
          -25.901784896850586,
          -0.40276995301246643,
          36.22721862792969,
          16.305335998535156,
          -1.583480715751648,
          8.847603797912598,
          1.2084453105926514,
          -9.88371753692627,
          -12.605826377868652,
          -33.67894744873047,
          14.924293518066406,
          25.461442947387695,
          -15.884222984313965,
          6.813220977783203,
          -36.529380798339844,
          -6.426414489746094,
          -26.843320846557617,
          8.230384826660156,
          31.65454864501953,
          -6.188789367675781,
          12.074482917785645,
          -6.254769325256348,
          0.12634554505348206
         ],
         "yaxis": "y"
        }
       ],
       "layout": {
        "legend": {
         "tracegroupgap": 0
        },
        "margin": {
         "t": 60
        },
        "template": {
         "data": {
          "bar": [
           {
            "error_x": {
             "color": "#2a3f5f"
            },
            "error_y": {
             "color": "#2a3f5f"
            },
            "marker": {
             "line": {
              "color": "#E5ECF6",
              "width": 0.5
             }
            },
            "type": "bar"
           }
          ],
          "barpolar": [
           {
            "marker": {
             "line": {
              "color": "#E5ECF6",
              "width": 0.5
             }
            },
            "type": "barpolar"
           }
          ],
          "carpet": [
           {
            "aaxis": {
             "endlinecolor": "#2a3f5f",
             "gridcolor": "white",
             "linecolor": "white",
             "minorgridcolor": "white",
             "startlinecolor": "#2a3f5f"
            },
            "baxis": {
             "endlinecolor": "#2a3f5f",
             "gridcolor": "white",
             "linecolor": "white",
             "minorgridcolor": "white",
             "startlinecolor": "#2a3f5f"
            },
            "type": "carpet"
           }
          ],
          "choropleth": [
           {
            "colorbar": {
             "outlinewidth": 0,
             "ticks": ""
            },
            "type": "choropleth"
           }
          ],
          "contour": [
           {
            "colorbar": {
             "outlinewidth": 0,
             "ticks": ""
            },
            "colorscale": [
             [
              0,
              "#0d0887"
             ],
             [
              0.1111111111111111,
              "#46039f"
             ],
             [
              0.2222222222222222,
              "#7201a8"
             ],
             [
              0.3333333333333333,
              "#9c179e"
             ],
             [
              0.4444444444444444,
              "#bd3786"
             ],
             [
              0.5555555555555556,
              "#d8576b"
             ],
             [
              0.6666666666666666,
              "#ed7953"
             ],
             [
              0.7777777777777778,
              "#fb9f3a"
             ],
             [
              0.8888888888888888,
              "#fdca26"
             ],
             [
              1,
              "#f0f921"
             ]
            ],
            "type": "contour"
           }
          ],
          "contourcarpet": [
           {
            "colorbar": {
             "outlinewidth": 0,
             "ticks": ""
            },
            "type": "contourcarpet"
           }
          ],
          "heatmap": [
           {
            "colorbar": {
             "outlinewidth": 0,
             "ticks": ""
            },
            "colorscale": [
             [
              0,
              "#0d0887"
             ],
             [
              0.1111111111111111,
              "#46039f"
             ],
             [
              0.2222222222222222,
              "#7201a8"
             ],
             [
              0.3333333333333333,
              "#9c179e"
             ],
             [
              0.4444444444444444,
              "#bd3786"
             ],
             [
              0.5555555555555556,
              "#d8576b"
             ],
             [
              0.6666666666666666,
              "#ed7953"
             ],
             [
              0.7777777777777778,
              "#fb9f3a"
             ],
             [
              0.8888888888888888,
              "#fdca26"
             ],
             [
              1,
              "#f0f921"
             ]
            ],
            "type": "heatmap"
           }
          ],
          "heatmapgl": [
           {
            "colorbar": {
             "outlinewidth": 0,
             "ticks": ""
            },
            "colorscale": [
             [
              0,
              "#0d0887"
             ],
             [
              0.1111111111111111,
              "#46039f"
             ],
             [
              0.2222222222222222,
              "#7201a8"
             ],
             [
              0.3333333333333333,
              "#9c179e"
             ],
             [
              0.4444444444444444,
              "#bd3786"
             ],
             [
              0.5555555555555556,
              "#d8576b"
             ],
             [
              0.6666666666666666,
              "#ed7953"
             ],
             [
              0.7777777777777778,
              "#fb9f3a"
             ],
             [
              0.8888888888888888,
              "#fdca26"
             ],
             [
              1,
              "#f0f921"
             ]
            ],
            "type": "heatmapgl"
           }
          ],
          "histogram": [
           {
            "marker": {
             "colorbar": {
              "outlinewidth": 0,
              "ticks": ""
             }
            },
            "type": "histogram"
           }
          ],
          "histogram2d": [
           {
            "colorbar": {
             "outlinewidth": 0,
             "ticks": ""
            },
            "colorscale": [
             [
              0,
              "#0d0887"
             ],
             [
              0.1111111111111111,
              "#46039f"
             ],
             [
              0.2222222222222222,
              "#7201a8"
             ],
             [
              0.3333333333333333,
              "#9c179e"
             ],
             [
              0.4444444444444444,
              "#bd3786"
             ],
             [
              0.5555555555555556,
              "#d8576b"
             ],
             [
              0.6666666666666666,
              "#ed7953"
             ],
             [
              0.7777777777777778,
              "#fb9f3a"
             ],
             [
              0.8888888888888888,
              "#fdca26"
             ],
             [
              1,
              "#f0f921"
             ]
            ],
            "type": "histogram2d"
           }
          ],
          "histogram2dcontour": [
           {
            "colorbar": {
             "outlinewidth": 0,
             "ticks": ""
            },
            "colorscale": [
             [
              0,
              "#0d0887"
             ],
             [
              0.1111111111111111,
              "#46039f"
             ],
             [
              0.2222222222222222,
              "#7201a8"
             ],
             [
              0.3333333333333333,
              "#9c179e"
             ],
             [
              0.4444444444444444,
              "#bd3786"
             ],
             [
              0.5555555555555556,
              "#d8576b"
             ],
             [
              0.6666666666666666,
              "#ed7953"
             ],
             [
              0.7777777777777778,
              "#fb9f3a"
             ],
             [
              0.8888888888888888,
              "#fdca26"
             ],
             [
              1,
              "#f0f921"
             ]
            ],
            "type": "histogram2dcontour"
           }
          ],
          "mesh3d": [
           {
            "colorbar": {
             "outlinewidth": 0,
             "ticks": ""
            },
            "type": "mesh3d"
           }
          ],
          "parcoords": [
           {
            "line": {
             "colorbar": {
              "outlinewidth": 0,
              "ticks": ""
             }
            },
            "type": "parcoords"
           }
          ],
          "pie": [
           {
            "automargin": true,
            "type": "pie"
           }
          ],
          "scatter": [
           {
            "marker": {
             "colorbar": {
              "outlinewidth": 0,
              "ticks": ""
             }
            },
            "type": "scatter"
           }
          ],
          "scatter3d": [
           {
            "line": {
             "colorbar": {
              "outlinewidth": 0,
              "ticks": ""
             }
            },
            "marker": {
             "colorbar": {
              "outlinewidth": 0,
              "ticks": ""
             }
            },
            "type": "scatter3d"
           }
          ],
          "scattercarpet": [
           {
            "marker": {
             "colorbar": {
              "outlinewidth": 0,
              "ticks": ""
             }
            },
            "type": "scattercarpet"
           }
          ],
          "scattergeo": [
           {
            "marker": {
             "colorbar": {
              "outlinewidth": 0,
              "ticks": ""
             }
            },
            "type": "scattergeo"
           }
          ],
          "scattergl": [
           {
            "marker": {
             "colorbar": {
              "outlinewidth": 0,
              "ticks": ""
             }
            },
            "type": "scattergl"
           }
          ],
          "scattermapbox": [
           {
            "marker": {
             "colorbar": {
              "outlinewidth": 0,
              "ticks": ""
             }
            },
            "type": "scattermapbox"
           }
          ],
          "scatterpolar": [
           {
            "marker": {
             "colorbar": {
              "outlinewidth": 0,
              "ticks": ""
             }
            },
            "type": "scatterpolar"
           }
          ],
          "scatterpolargl": [
           {
            "marker": {
             "colorbar": {
              "outlinewidth": 0,
              "ticks": ""
             }
            },
            "type": "scatterpolargl"
           }
          ],
          "scatterternary": [
           {
            "marker": {
             "colorbar": {
              "outlinewidth": 0,
              "ticks": ""
             }
            },
            "type": "scatterternary"
           }
          ],
          "surface": [
           {
            "colorbar": {
             "outlinewidth": 0,
             "ticks": ""
            },
            "colorscale": [
             [
              0,
              "#0d0887"
             ],
             [
              0.1111111111111111,
              "#46039f"
             ],
             [
              0.2222222222222222,
              "#7201a8"
             ],
             [
              0.3333333333333333,
              "#9c179e"
             ],
             [
              0.4444444444444444,
              "#bd3786"
             ],
             [
              0.5555555555555556,
              "#d8576b"
             ],
             [
              0.6666666666666666,
              "#ed7953"
             ],
             [
              0.7777777777777778,
              "#fb9f3a"
             ],
             [
              0.8888888888888888,
              "#fdca26"
             ],
             [
              1,
              "#f0f921"
             ]
            ],
            "type": "surface"
           }
          ],
          "table": [
           {
            "cells": {
             "fill": {
              "color": "#EBF0F8"
             },
             "line": {
              "color": "white"
             }
            },
            "header": {
             "fill": {
              "color": "#C8D4E3"
             },
             "line": {
              "color": "white"
             }
            },
            "type": "table"
           }
          ]
         },
         "layout": {
          "annotationdefaults": {
           "arrowcolor": "#2a3f5f",
           "arrowhead": 0,
           "arrowwidth": 1
          },
          "coloraxis": {
           "colorbar": {
            "outlinewidth": 0,
            "ticks": ""
           }
          },
          "colorscale": {
           "diverging": [
            [
             0,
             "#8e0152"
            ],
            [
             0.1,
             "#c51b7d"
            ],
            [
             0.2,
             "#de77ae"
            ],
            [
             0.3,
             "#f1b6da"
            ],
            [
             0.4,
             "#fde0ef"
            ],
            [
             0.5,
             "#f7f7f7"
            ],
            [
             0.6,
             "#e6f5d0"
            ],
            [
             0.7,
             "#b8e186"
            ],
            [
             0.8,
             "#7fbc41"
            ],
            [
             0.9,
             "#4d9221"
            ],
            [
             1,
             "#276419"
            ]
           ],
           "sequential": [
            [
             0,
             "#0d0887"
            ],
            [
             0.1111111111111111,
             "#46039f"
            ],
            [
             0.2222222222222222,
             "#7201a8"
            ],
            [
             0.3333333333333333,
             "#9c179e"
            ],
            [
             0.4444444444444444,
             "#bd3786"
            ],
            [
             0.5555555555555556,
             "#d8576b"
            ],
            [
             0.6666666666666666,
             "#ed7953"
            ],
            [
             0.7777777777777778,
             "#fb9f3a"
            ],
            [
             0.8888888888888888,
             "#fdca26"
            ],
            [
             1,
             "#f0f921"
            ]
           ],
           "sequentialminus": [
            [
             0,
             "#0d0887"
            ],
            [
             0.1111111111111111,
             "#46039f"
            ],
            [
             0.2222222222222222,
             "#7201a8"
            ],
            [
             0.3333333333333333,
             "#9c179e"
            ],
            [
             0.4444444444444444,
             "#bd3786"
            ],
            [
             0.5555555555555556,
             "#d8576b"
            ],
            [
             0.6666666666666666,
             "#ed7953"
            ],
            [
             0.7777777777777778,
             "#fb9f3a"
            ],
            [
             0.8888888888888888,
             "#fdca26"
            ],
            [
             1,
             "#f0f921"
            ]
           ]
          },
          "colorway": [
           "#636efa",
           "#EF553B",
           "#00cc96",
           "#ab63fa",
           "#FFA15A",
           "#19d3f3",
           "#FF6692",
           "#B6E880",
           "#FF97FF",
           "#FECB52"
          ],
          "font": {
           "color": "#2a3f5f"
          },
          "geo": {
           "bgcolor": "white",
           "lakecolor": "white",
           "landcolor": "#E5ECF6",
           "showlakes": true,
           "showland": true,
           "subunitcolor": "white"
          },
          "hoverlabel": {
           "align": "left"
          },
          "hovermode": "closest",
          "mapbox": {
           "style": "light"
          },
          "paper_bgcolor": "white",
          "plot_bgcolor": "#E5ECF6",
          "polar": {
           "angularaxis": {
            "gridcolor": "white",
            "linecolor": "white",
            "ticks": ""
           },
           "bgcolor": "#E5ECF6",
           "radialaxis": {
            "gridcolor": "white",
            "linecolor": "white",
            "ticks": ""
           }
          },
          "scene": {
           "xaxis": {
            "backgroundcolor": "#E5ECF6",
            "gridcolor": "white",
            "gridwidth": 2,
            "linecolor": "white",
            "showbackground": true,
            "ticks": "",
            "zerolinecolor": "white"
           },
           "yaxis": {
            "backgroundcolor": "#E5ECF6",
            "gridcolor": "white",
            "gridwidth": 2,
            "linecolor": "white",
            "showbackground": true,
            "ticks": "",
            "zerolinecolor": "white"
           },
           "zaxis": {
            "backgroundcolor": "#E5ECF6",
            "gridcolor": "white",
            "gridwidth": 2,
            "linecolor": "white",
            "showbackground": true,
            "ticks": "",
            "zerolinecolor": "white"
           }
          },
          "shapedefaults": {
           "line": {
            "color": "#2a3f5f"
           }
          },
          "ternary": {
           "aaxis": {
            "gridcolor": "white",
            "linecolor": "white",
            "ticks": ""
           },
           "baxis": {
            "gridcolor": "white",
            "linecolor": "white",
            "ticks": ""
           },
           "bgcolor": "#E5ECF6",
           "caxis": {
            "gridcolor": "white",
            "linecolor": "white",
            "ticks": ""
           }
          },
          "title": {
           "x": 0.05
          },
          "xaxis": {
           "automargin": true,
           "gridcolor": "white",
           "linecolor": "white",
           "ticks": "",
           "title": {
            "standoff": 15
           },
           "zerolinecolor": "white",
           "zerolinewidth": 2
          },
          "yaxis": {
           "automargin": true,
           "gridcolor": "white",
           "linecolor": "white",
           "ticks": "",
           "title": {
            "standoff": 15
           },
           "zerolinecolor": "white",
           "zerolinewidth": 2
          }
         }
        },
        "xaxis": {
         "anchor": "y",
         "domain": [
          0,
          1
         ],
         "title": {
          "text": "x"
         }
        },
        "yaxis": {
         "anchor": "x",
         "domain": [
          0,
          1
         ],
         "title": {
          "text": "y"
         }
        }
       }
      },
      "text/html": [
       "<div>\n",
       "        \n",
       "        \n",
       "            <div id=\"149f1bad-31e2-474d-aee9-fe455c4cd3a0\" class=\"plotly-graph-div\" style=\"height:525px; width:100%;\"></div>\n",
       "            <script type=\"text/javascript\">\n",
       "                require([\"plotly\"], function(Plotly) {\n",
       "                    window.PLOTLYENV=window.PLOTLYENV || {};\n",
       "                    \n",
       "                if (document.getElementById(\"149f1bad-31e2-474d-aee9-fe455c4cd3a0\")) {\n",
       "                    Plotly.newPlot(\n",
       "                        '149f1bad-31e2-474d-aee9-fe455c4cd3a0',\n",
       "                        [{\"customdata\": [[0], [1], [0], [0], [2], [3], [1], [3], [1], [1], [2], [0], [2], [2], [1], [0], [3], [0], [3], [2], [0], [3], [3], [1], [3], [2], [0], [1], [1], [3], [2], [0], [3], [1], [2], [3], [2], [3], [3], [2], [3], [3], [2], [0], [0], [2], [2], [2], [0], [0], [3], [3], [0], [0], [3], [1], [2], [1], [0], [0], [0], [2], [0], [3], [1], [2], [0], [2], [1], [0], [0], [2], [0], [1], [0], [0], [0], [2], [0], [3], [2], [0], [1], [2], [1], [2], [3], [2], [2], [2], [0], [1], [0], [0], [0], [0], [3], [0], [0], [2], [2], [0], [1], [2], [2], [3], [0], [0], [0], [0], [2], [2], [0], [1], [0], [2], [2], [1], [3], [2], [1], [0], [1], [2], [3], [0], [0], [1], [1], [0], [0], [0], [2], [0], [3], [0], [1], [1], [1], [2], [2], [0], [2], [0], [0], [1], [3], [2], [0], [3], [0], [2], [1], [0], [2], [3], [1], [0], [1], [2], [1], [0], [1], [0], [0], [0], [0], [0], [3], [2], [0], [3], [2], [0], [0], [2], [0], [2], [0], [2], [2], [3], [1], [1], [0], [0], [2], [2], [1], [0], [2], [2], [2], [0], [0], [3], [1], [0], [0], [3], [0], [0], [1], [2], [1], [0], [0], [1], [3], [2], [2], [2], [0], [1], [1], [3], [3], [0], [2], [0], [2], [3], [0], [2], [0], [2], [3], [3], [0], [0], [0], [3], [3], [2], [3], [0], [0], [2], [0], [1], [1], [0], [1], [3], [0], [0], [1], [0], [0], [0], [0], [2], [2], [0], [2], [3], [2], [1], [3], [0], [0], [3], [1], [3], [1], [1], [2], [0], [0], [1], [0], [2], [0], [1], [0], [2], [0], [2], [2], [2], [2], [3], [3], [1], [0], [1], [2], [0], [3], [1], [1], [0], [3], [0], [0], [2], [1], [0], [1], [3], [0], [1], [1], [0], [0], [0], [0], [2], [0], [0], [1], [3], [1], [0], [2], [0], [0], [0], [2], [2], [3], [0], [0], [1], [3], [1], [2], [1], [3], [0], [2], [2], [2], [0], [0], [2], [3], [0], [3], [1], [2], [0], [1], [0], [3], [2], [0], [0], [3], [2], [1], [0], [0], [3], [1], [0], [0], [3], [1], [1], [3], [3], [2], [0], [0], [2], [0], [2], [1], [3], [2], [0], [3], [2], [1], [3], [0], [0], [0], [1], [0], [0], [2], [1], [0], [3], [0], [0], [1], [0], [2], [1], [0], [3], [0], [3], [3], [0], [1], [1], [2], [3], [1], [0], [3], [0], [3], [2], [3], [1], [3], [3], [0], [2], [2], [1], [3], [1], [0], [1], [2], [0], [3], [0], [1], [2], [1], [3], [1], [2], [0], [3], [0], [3], [3], [0], [0], [0], [2], [0], [0], [2], [2], [1], [1], [1], [2], [2], [3], [1], [0], [0], [1], [1], [0], [0], [3], [0], [0], [2], [2], [1], [0], [1], [0], [3], [0], [2], [0], [0], [0], [1], [2], [1], [3], [0], [0], [2], [0], [3], [3], [0], [2], [0], [0], [2], [0], [0], [1], [3], [0], [3], [0], [0], [0], [0], [0], [3], [1], [0], [1], [0], [2], [2], [3], [1], [3], [1], [2], [0], [0], [2], [1], [0], [0], [2], [0], [0], [0], [1], [2], [0], [1], [1], [1], [0], [0], [0], [0], [1], [0], [2], [2], [2], [0], [1], [3], [1], [2], [1], [3], [0], [0], [1], [2], [2], [0], [3], [0], [3], [0], [3], [2], [2], [3], [0], [1], [0], [0], [0], [3], [0], [0], [1], [0], [0], [1], [1], [2], [0], [0], [0], [1], [2], [1], [0], [0], [1], [2], [0], [3], [0], [1], [0], [0], [0], [2], [0], [0], [1], [0], [1], [1], [1], [3], [3], [3], [0], [0], [3], [2], [3], [2], [0], [3], [0], [3], [3], [0], [2], [3], [0], [2], [0], [1], [0], [2], [2], [0], [0], [2], [3], [0], [3], [0], [3], [2], [2], [0], [1], [3], [0], [0], [0], [0], [1], [2], [0], [0], [3], [1], [0], [3], [2], [0], [2], [2], [3], [0], [3], [2], [0], [0], [3], [1], [1], [0], [3], [0], [0], [0], [0], [0], [1], [0], [0], [3], [2], [3], [0], [2], [3], [3], [0], [3], [3], [1], [1], [0], [1], [3], [2]], \"hovertemplate\": \"x=%{x}<br>y=%{y}<br>Cluster=%{customdata[0]}<extra></extra>\", \"legendgroup\": \"\", \"marker\": {\"color\": \"#636efa\", \"symbol\": \"circle\"}, \"mode\": \"markers\", \"name\": \"\", \"showlegend\": false, \"type\": \"scatter\", \"x\": [19.202625274658203, 17.185049057006836, 12.793658256530762, -4.253939628601074, 19.43880271911621, -0.034408729523420334, -29.057870864868164, 12.235757827758789, -15.176647186279297, 7.503661632537842, 5.669941425323486, 12.186331748962402, -22.13188934326172, 10.962869644165039, 8.844718933105469, 3.0893940925598145, -25.168493270874023, -16.35918426513672, -11.189164161682129, -0.2129737138748169, -15.997671127319336, 3.070565700531006, 24.306076049804688, -3.0265040397644043, 15.772157669067383, 8.439724922180176, -18.143577575683594, 5.354043960571289, 11.79901123046875, 7.546687602996826, 16.383230209350586, 5.6945719718933105, 25.839982986450195, 6.283287525177002, -4.259081840515137, 12.664856910705566, -7.154903888702393, 16.072580337524414, 14.660881996154785, 31.823871612548828, 15.085988998413086, -11.587698936462402, 21.08076286315918, -22.32015037536621, 24.694189071655273, 18.119340896606445, 6.7903947830200195, 8.274276733398438, 16.917879104614258, -19.337377548217773, -19.950946807861328, -6.369837284088135, -23.151193618774414, 8.127344131469727, -14.607564926147461, -17.3446044921875, -32.725303649902344, -27.645193099975586, -0.6167911887168884, -9.701165199279785, 13.585500717163086, -24.808645248413086, -29.02174186706543, -16.97319984436035, 3.320906400680542, 22.043128967285156, 16.122488021850586, -21.52103042602539, 1.8400537967681885, 24.241941452026367, 11.674108505249023, 19.87408447265625, 10.388015747070312, 8.47973918914795, 5.402710437774658, 29.630014419555664, 15.092306137084961, 9.156389236450195, -7.584991931915283, -29.383975982666016, 13.8257474899292, 10.533256530761719, 0.35645636916160583, -28.38213348388672, 31.66990852355957, -9.097908020019531, 10.466931343078613, -14.500167846679688, -18.992849349975586, 14.417505264282227, 4.335892200469971, -15.451410293579102, 10.59945011138916, 3.2017886638641357, -29.369443893432617, -2.807258129119873, 23.04016876220703, 12.477433204650879, -3.6834683418273926, -18.465438842773438, -26.07316780090332, 5.922233581542969, 20.176166534423828, -8.615691184997559, 8.570883750915527, -15.71035099029541, -13.04288387298584, 5.360162734985352, -4.287123203277588, -12.949867248535156, -7.583516597747803, -31.872007369995117, -27.99835968017578, 16.799846649169922, 7.289909839630127, -17.948654174804688, 6.601388454437256, 3.8375399112701416, 9.905685424804688, -7.948876857757568, 2.583279609680176, 29.441802978515625, 24.251800537109375, -33.11888885498047, -22.535266876220703, -21.570661544799805, -36.421634674072266, -12.734644889831543, 9.608759880065918, -16.649627685546875, 7.004470348358154, -21.997291564941406, 9.946762084960938, 11.756793022155762, 5.099721431732178, -35.773868560791016, -16.43365478515625, 0.2549463212490082, -7.248824119567871, -6.714775562286377, 10.671006202697754, 10.704024314880371, 24.87918472290039, 4.551594257354736, 3.7119972705841064, -18.72337532043457, -11.522591590881348, -23.208248138427734, 18.760568618774414, 6.538547039031982, -9.833998680114746, 13.956700325012207, 7.248417854309082, 11.288878440856934, 6.202282905578613, -12.515999794006348, -17.88783073425293, -24.512849807739258, -6.91811466217041, -26.538192749023438, -24.671981811523438, -35.65156173706055, 8.711808204650879, 23.274492263793945, -21.007448196411133, 9.50894546508789, -11.49992847442627, -18.54410743713379, 10.029397964477539, 9.017749786376953, -17.327068328857422, 8.955348014831543, -17.6091365814209, 17.73284912109375, -2.8622069358825684, 13.126928329467773, 26.145736694335938, 14.339390754699707, 14.561415672302246, 9.931398391723633, 2.68377685546875, 9.42735481262207, -31.6358699798584, -16.003698348999023, -6.5531439781188965, 6.1288676261901855, -25.87505531311035, 5.781773567199707, -21.941545486450195, 21.160030364990234, 29.267351150512695, 15.060284614562988, 10.347333908081055, 7.879303455352783, -14.95722484588623, 33.19878387451172, 6.4767560958862305, 8.49879264831543, 11.356244087219238, -11.024406433105469, 11.649128913879395, 16.724063873291016, 7.722677230834961, -1.115535855293274, -19.09080696105957, 19.09761619567871, 3.5876710414886475, -9.894509315490723, 9.273674964904785, 12.383840560913086, 10.871240615844727, -12.240912437438965, -11.572416305541992, -5.838105201721191, 7.486604690551758, -10.061528205871582, -21.977506637573242, 8.567673683166504, 7.85983419418335, 7.287511825561523, -22.270442962646484, -23.199060440063477, 18.446252822875977, -25.67911148071289, -29.714488983154297, 23.934694290161133, -16.6204833984375, 20.22780418395996, 12.435742378234863, -9.538762092590332, 8.128055572509766, -27.14570426940918, -0.49200183153152466, 8.809947967529297, -10.634644508361816, 3.035418748855591, -26.92486000061035, 17.810104370117188, 3.524906873703003, -14.069133758544922, -9.660743713378906, 11.198390007019043, 2.210062265396118, -10.123406410217285, 4.495405673980713, -35.983001708984375, 18.8664493560791, 15.04527759552002, 15.738682746887207, 16.865419387817383, 7.163107395172119, -24.451831817626953, -8.847219467163086, -15.34200382232666, 0.108870729804039, -9.70278549194336, 6.484884738922119, 12.350056648254395, 20.768531799316406, 18.373668670654297, -17.721826553344727, 10.967974662780762, 26.431264877319336, -7.325150012969971, 9.679312705993652, 10.86159896850586, -10.979936599731445, -22.3887882232666, 5.129537105560303, 18.33592414855957, -8.960944175720215, -10.3851318359375, 2.6599395275115967, 6.00241231918335, 19.58028793334961, 16.35930824279785, -18.761808395385742, 5.233575820922852, -32.33261489868164, -12.496529579162598, -15.68238353729248, -17.478557586669922, 31.19403839111328, 3.2825088500976562, 16.638866424560547, 8.25286865234375, 8.555044174194336, 25.184097290039062, -5.582859516143799, -32.93328094482422, 12.420015335083008, -2.239680290222168, -7.8611040115356445, -27.889324188232422, -28.49541664123535, -32.318572998046875, -10.757818222045898, 22.51292610168457, -31.01668930053711, 4.956762313842773, -21.461341857910156, -2.890705108642578, -13.139860153198242, 17.75132942199707, -22.979578018188477, 4.120680332183838, 9.666847229003906, -28.9620361328125, 9.496530532836914, 8.596027374267578, -20.197484970092773, 30.3570613861084, 25.582670211791992, 6.9022746086120605, -8.965034484863281, -12.082107543945312, 14.660771369934082, 18.01043701171875, 21.214275360107422, 13.359148979187012, 12.963440895080566, 10.150345802307129, -33.172515869140625, 1.30565345287323, 10.699384689331055, 11.540982246398926, 5.409336090087891, 12.10880184173584, 25.654869079589844, 3.3374102115631104, 2.595555543899536, 10.207500457763672, -17.330760955810547, 1.625566840171814, 4.926202297210693, 10.673118591308594, 16.021556854248047, -28.293333053588867, -23.750768661499023, 4.38452672958374, 5.2542595863342285, 33.26288604736328, -25.443010330200195, -0.9301210641860962, 6.25258731842041, -10.816446304321289, 1.881476879119873, -19.435789108276367, -10.173995018005371, 17.756303787231445, -10.687232971191406, -10.37746810913086, 5.052953243255615, -18.412612915039062, 22.270801544189453, 14.090657234191895, -16.494651794433594, -11.98361873626709, -8.627314567565918, -15.23642349243164, 4.886030673980713, -28.384510040283203, 3.191178321838379, 9.806231498718262, 8.863533020019531, 12.836889266967773, 16.699485778808594, -11.792634010314941, -28.074684143066406, 4.333864212036133, -28.94852638244629, 15.621530532836914, 6.487163066864014, -5.73876953125, -4.566586017608643, -25.114723205566406, 8.53890609741211, 2.3261144161224365, -24.53911781311035, -0.9576524496078491, 7.522565841674805, -27.706863403320312, 9.057378768920898, 10.465368270874023, 9.670303344726562, -12.99597454071045, 6.704294204711914, -11.850428581237793, -16.427322387695312, -20.940250396728516, -10.852190017700195, -20.8126220703125, -23.55402183532715, -1.6353931427001953, 23.546695709228516, 1.2825655937194824, 6.389156341552734, 6.318550109863281, 5.42673921585083, 30.191022872924805, 13.906744003295898, 12.118964195251465, -15.906184196472168, -9.674134254455566, -34.03791427612305, 17.845294952392578, 18.73459815979004, 13.509196281433105, 6.327365875244141, -25.469013214111328, -27.74359893798828, -26.680883407592773, -20.654630661010742, -10.995328903198242, -0.5221207141876221, 6.000184059143066, 15.000232696533203, -34.682952880859375, 11.429844856262207, 14.188136100769043, -13.778888702392578, 5.149567604064941, 20.610754013061523, 32.57612991333008, 12.52800464630127, -27.533676147460938, -27.0268497467041, 8.414422988891602, 22.114728927612305, -10.873979568481445, 17.979772567749023, 18.889230728149414, 29.592758178710938, -12.303359985351562, -23.812294006347656, 18.413986206054688, 13.271500587463379, 7.882717609405518, -18.609655380249023, 2.917811632156372, -14.665342330932617, 6.195528030395508, 12.165788650512695, 12.591711044311523, 19.891733169555664, 10.240309715270996, 19.581552505493164, 1.8537856340408325, 4.012568950653076, -14.14228630065918, 5.251354217529297, 13.779478073120117, -17.627927780151367, -25.7470760345459, 9.528240203857422, 5.971187591552734, 21.504364013671875, -36.77348327636719, 4.112331867218018, 2.516479969024658, 25.176000595092773, -16.8013916015625, -24.0734920501709, 3.39332914352417, 9.171181678771973, -14.621598243713379, 21.483434677124023, -16.096323013305664, 6.160597324371338, -27.4376220703125, -0.20566102862358093, -7.117023468017578, 9.345264434814453, 3.156257152557373, 11.342902183532715, -8.7929105758667, 9.491259574890137, 3.9273593425750732, -17.027915954589844, -28.096559524536133, -16.588254928588867, 30.46516990661621, -13.710672378540039, 11.063761711120605, 19.010419845581055, 6.017395496368408, 3.378208637237549, 8.302213668823242, 17.811717987060547, -18.502317428588867, 13.366446495056152, 20.643291473388672, -1.623857855796814, -28.35233497619629, 7.084880828857422, 12.121123313903809, -23.61358642578125, -23.913883209228516, 22.902515411376953, -5.825612545013428, -0.7624511122703552, 5.08030891418457, 15.356389999389648, 21.87346839904785, 9.941994667053223, 1.8035151958465576, -14.316967964172363, 9.656499862670898, -14.469675064086914, -19.496959686279297, -4.315619945526123, 7.153507709503174, -21.286827087402344, -10.139053344726562, 11.37087345123291, 2.9050776958465576, 11.751091957092285, -27.70758628845215, -23.123327255249023, -24.082569122314453, 7.225951671600342, -33.00655746459961, -21.8674373626709, -15.18547248840332, 17.903139114379883, -18.615873336791992, 8.233596801757812, 13.251045227050781, -23.992286682128906, -13.94942569732666, -6.255815029144287, -19.894386291503906, 4.282689571380615, 10.401177406311035, -8.335006713867188, -31.251911163330078, -27.077470779418945, 6.58941650390625, 20.94599723815918, 24.804187774658203, 17.72177505493164, 1.802984356880188, 21.661256790161133, -3.0320000648498535, -22.326141357421875, 4.02890157699585, -5.774445533752441, 18.596511840820312, -13.385272026062012, 24.557722091674805, -13.820981979370117, 13.043469429016113, -10.056264877319336, 3.749112367630005, -14.069000244140625, 6.139105796813965, -34.22672653198242, -6.73570442199707, -4.322713851928711, -25.533390045166016, 8.845921516418457, 30.45553970336914, -36.08234405517578, 10.26661491394043, 11.171853065490723, 2.3974814414978027, -24.863697052001953, 6.708142280578613, 0.2321847677230835, 16.260860443115234, 10.102141380310059, 23.85256576538086, 14.257159233093262, 19.73451042175293, 16.08370018005371, -11.905692100524902, -7.704479694366455, 23.885284423828125, 19.375076293945312, 32.4825325012207, 7.047800064086914, 10.59914493560791, -24.019325256347656, 23.436994552612305, -8.745414733886719, -16.841564178466797, 20.237354278564453, 5.256231784820557, 23.742610931396484, -8.84792423248291, -2.8155484199523926, 1.9445552825927734, -4.322903633117676, 10.765307426452637, 8.193979263305664, -3.239623546600342, -34.17578125, -18.234752655029297, 11.047463417053223, 23.30577278137207, 6.003969192504883, -8.877595901489258, 12.476241111755371, -11.91208267211914, 18.99102783203125, -15.797969818115234, -19.965723037719727, 4.169403553009033, 11.417069435119629, -14.467915534973145, 15.589319229125977, 4.788165092468262, -19.8369140625, 16.409332275390625, 12.990154266357422, -13.524148941040039, -16.658126831054688, -14.771045684814453, 10.170050621032715, 32.078102111816406, 8.543039321899414, -13.200142860412598, -31.973413467407227, 15.624822616577148, -26.474014282226562, -17.756784439086914, 6.315405368804932, 16.26165771484375, -23.49053382873535, 16.980209350585938, 8.598345756530762, 9.322905540466309, -24.027435302734375, 17.718765258789062, 26.15382957458496, -5.42638635635376, 29.90777015686035, -6.873159885406494, 14.395733833312988, 30.33428382873535, -28.162504196166992, 18.031679153442383, -7.936453342437744, -19.027257919311523, -28.335853576660156, 6.066200256347656, 4.7455925941467285, 6.04296875, 16.689861297607422, 2.5557472705841064, 13.585123062133789, -19.0617733001709, 2.3076484203338623, 11.349298477172852, -20.864009857177734, -24.83570671081543, -16.807071685791016, -27.484493255615234, -16.13166046142578, 18.847566604614258, -15.589034080505371, 3.7371349334716797, 13.419800758361816, 6.664865493774414, -14.424848556518555, -21.576711654663086, -24.37818717956543, 3.0371830463409424, 9.811063766479492, -17.852357864379883, 4.27291202545166, -3.112668037414551, -16.241722106933594, 7.946263790130615, 16.55336570739746, 6.940820217132568, 19.651809692382812, 11.234715461730957, 2.7174670696258545, -7.546810150146484, 4.906922340393066, -26.473379135131836], \"xaxis\": \"x\", \"y\": [9.29369831085205, 7.877676486968994, 25.974828720092773, 0.8120251893997192, -5.585900783538818, -7.472454071044922, -2.2084734439849854, -13.773509979248047, -7.232271671295166, -19.873794555664062, 15.468786239624023, 27.66967010498047, -5.396358489990234, -34.58554458618164, 3.394352436065674, 29.25457191467285, 12.561423301696777, 4.2745842933654785, -0.18035130202770233, -23.206222534179688, -10.25384521484375, -8.449334144592285, -11.107763290405273, 35.60254669189453, -24.078279495239258, -10.392313003540039, 2.4301095008850098, -19.490968704223633, -7.598714351654053, 34.916595458984375, -22.335134506225586, 14.334393501281738, -2.4318056106567383, -6.905478477478027, -0.09738566726446152, -6.031584739685059, 16.11920928955078, -12.057619094848633, -16.449827194213867, 5.586395263671875, 27.41708755493164, -20.03192138671875, 28.861377716064453, -10.900601387023926, -1.4336597919464111, 5.715780258178711, -19.406795501708984, 2.9253761768341064, -22.53566551208496, -3.1475560665130615, 3.0524966716766357, 0.4222782254219055, 1.7638252973556519, -5.089141368865967, -11.42872428894043, 15.214201927185059, 2.9253060817718506, -17.76878547668457, 8.294631004333496, 5.0317487716674805, -6.2396769523620605, -9.071642875671387, -16.182849884033203, -5.175711631774902, -12.442832946777344, 28.35806655883789, -27.114139556884766, 2.0816903114318848, 34.7393798828125, -10.491353034973145, 32.76776123046875, 5.585409641265869, -18.46796989440918, -16.018278121948242, -10.52324390411377, 10.797483444213867, -20.75554656982422, -34.30335998535156, 15.483717918395996, 10.666362762451172, 16.49990463256836, -24.474178314208984, -23.12978744506836, 11.803929328918457, 6.417654991149902, 6.491036415100098, -12.044017791748047, -11.355945587158203, 2.503781318664551, -17.12135887145996, 24.30933952331543, -0.06414523720741272, -34.41335678100586, -11.37050724029541, 11.112756729125977, -16.066024780273438, -26.04645538330078, -2.2978432178497314, 0.9216984510421753, -15.960275650024414, 11.020262718200684, -5.900551795959473, 9.988715171813965, 12.458680152893066, -10.940596580505371, 6.818328857421875, -2.5824637413024902, 39.19907760620117, 0.1907186657190323, 5.793530464172363, 1.8768482208251953, -0.5330420136451721, -6.798957347869873, 31.433635711669922, -6.305319309234619, 0.6807364821434021, 40.64976119995117, -14.536524772644043, -19.740264892578125, 13.789229393005371, 31.87397575378418, 11.341291427612305, -24.677932739257812, -0.2943085730075836, -10.71979808807373, -1.700089931488037, -8.150459289550781, -3.272213935852051, 34.52303695678711, 12.743659973144531, -25.97417449951172, -6.855345249176025, 35.26675796508789, -1.4276422262191772, -7.872696399688721, -8.603475570678711, 16.12139129638672, -23.400665283203125, 9.0791654586792, -3.58139967918396, -4.077315807342529, -21.94003677368164, -2.868401050567627, 26.443086624145508, 23.63916778564453, -7.392784595489502, -1.7821754217147827, -3.0377449989318848, 4.99867057800293, -4.2537713050842285, -0.9669509530067444, 16.321033477783203, 33.90391540527344, 35.71371078491211, -15.567121505737305, 1.9061529636383057, -2.6833250522613525, -10.699921607971191, 8.22882080078125, 1.4591538906097412, 10.564425468444824, -9.556319236755371, 27.75941276550293, -24.934986114501953, 0.7746245265007019, 31.90314292907715, -12.119723320007324, -16.005184173583984, 3.947115659713745, 30.70150375366211, 12.620579719543457, -33.55911636352539, -1.1392920017242432, 1.5004576444625854, -15.77517032623291, 35.64734649658203, -2.915860414505005, 28.454078674316406, -23.10791015625, -34.72440719604492, 36.59347152709961, -22.641063690185547, 1.491456151008606, -9.758883476257324, 13.185429573059082, 31.264812469482422, -15.1124267578125, -26.673818588256836, 9.889162063598633, -23.759849548339844, 8.067872047424316, -6.183943271636963, 31.196151733398438, -16.503395080566406, 1.4935438632965088, 4.751923084259033, -27.296585083007812, -34.79903030395508, -16.409496307373047, -19.47427749633789, -2.3192646503448486, -27.110031127929688, 32.29825210571289, -7.360762119293213, -8.960606575012207, 5.15640115737915, -22.20572280883789, -19.707300186157227, -21.878768920898438, 36.3726692199707, -7.774364471435547, -12.346823692321777, -17.814603805541992, 5.948634147644043, -27.677518844604492, -3.5021347999572754, -6.473999500274658, 34.3963737487793, -13.268441200256348, -8.475295066833496, -4.659031391143799, -4.518258094787598, 9.107478141784668, 6.047461986541748, 2.8328514099121094, -3.638761520385742, -1.184510350227356, 9.11123275756836, 25.092174530029297, -1.1183803081512451, 31.716415405273438, 9.822332382202148, -7.0368757247924805, 26.93453025817871, 1.6052601337432861, 29.804414749145508, -16.104429244995117, -4.378457069396973, 22.823572158813477, 2.22330379486084, -21.56275749206543, 30.920743942260742, -2.3249740600585938, 0.24733351171016693, -7.998618125915527, -9.176916122436523, -5.646620273590088, -16.976482391357422, -26.347198486328125, -24.601415634155273, -25.6285457611084, 8.105984687805176, 17.154478073120117, 1.1776721477508545, 35.57855224609375, -3.618619441986084, 33.9100341796875, -1.537365198135376, 29.166419982910156, 6.53596305847168, 12.438291549682617, -3.231996774673462, -2.1464040279388428, 13.81054401397705, -35.4294548034668, -33.60069274902344, -5.06930685043335, 0.16296298801898956, 38.4154167175293, 10.125489234924316, 17.211339950561523, -21.110565185546875, 4.562752723693848, -25.46647071838379, -23.808977127075195, -20.283281326293945, 8.0618314743042, 33.711727142333984, 0.5580825209617615, 4.294503211975098, -7.786910057067871, -1.3729419708251953, 8.834282875061035, 3.3455581665039062, 7.846328258514404, -35.928836822509766, -17.740558624267578, -2.368056535720825, 4.84075927734375, 3.574629783630371, 35.299293518066406, -0.3206178843975067, 10.768686294555664, -5.503957271575928, 10.718664169311523, 3.268981456756592, 13.585132598876953, -10.70490550994873, 0.5872452855110168, -6.383241653442383, 4.195968151092529, 35.12662887573242, -1.5246158838272095, -22.120296478271484, -5.821297645568848, 24.911008834838867, -36.52348327636719, -2.2348947525024414, 26.49044418334961, -18.317697525024414, -5.203394889831543, 11.936080932617188, -1.4219245910644531, 0.0692075565457344, -2.669207811355591, 5.47118616104126, 29.648059844970703, -23.893020629882812, -24.573537826538086, 27.819849014282227, 24.821590423583984, 36.025596618652344, 3.351719617843628, -3.5174953937530518, 26.79674530029297, 30.104970932006836, 34.19929504394531, 32.517845153808594, -3.073288679122925, -13.258373260498047, 37.60177230834961, 3.436068534851074, 14.193758010864258, 30.86411476135254, 36.681915283203125, 29.58655548095703, -22.447731018066406, -6.329858303070068, 5.5154290199279785, -22.785232543945312, 15.106781005859375, 5.014379978179932, 12.005285263061523, 35.811363220214844, -8.25571060180664, -20.14223289489746, 35.96572494506836, -3.200571060180664, -20.349327087402344, -26.706560134887695, 13.785534858703613, 11.541074752807617, -14.594197273254395, -4.277365207672119, 28.392242431640625, 28.346288681030273, -2.169940948486328, 11.612508773803711, -19.15003776550293, -12.465400695800781, 33.394508361816406, -15.889159202575684, 4.650125026702881, -25.238555908203125, -20.105356216430664, -19.964570999145508, -6.895277976989746, 2.747323513031006, -7.111426830291748, -22.702226638793945, 1.4888516664505005, 31.88844108581543, 40.543067932128906, 3.518373727798462, 12.371163368225098, 5.572414875030518, 37.10710906982422, -1.5661966800689697, -4.694498538970947, -6.976497650146484, -23.189342498779297, 0.016163524240255356, -24.64580535888672, 34.074859619140625, 33.36833953857422, -0.8498793840408325, -1.4236458539962769, -12.734539985656738, 0.4377375543117523, 5.800771713256836, 3.256655216217041, -11.433247566223145, 11.45444393157959, -0.503017246723175, -10.318289756774902, 28.2596435546875, 15.32673454284668, 14.473746299743652, -10.378891944885254, 11.036354064941406, -16.50616455078125, -19.69021987915039, 3.3344404697418213, 2.176638603210449, 0.3679535686969757, 7.141952037811279, -5.542250633239746, -6.234035015106201, 35.065467834472656, 5.874930381774902, 11.385452270507812, -15.757508277893066, 5.126741409301758, 2.4230661392211914, 8.244879722595215, 37.638153076171875, -21.2283935546875, -8.694271087646484, -7.841554641723633, 31.345287322998047, -4.158279895782471, 30.963966369628906, 31.13921546936035, 5.636919975280762, -1.7188360691070557, 2.5037126541137695, -7.826664447784424, 29.01930809020996, 28.336957931518555, -3.1864914894104004, -22.975170135498047, -6.467688083648682, 11.532849311828613, 0.3924608826637268, 2.7229886054992676, -24.365970611572266, -9.121322631835938, 29.13530731201172, -16.012290954589844, 35.7676887512207, -11.976905822753906, -16.873817443847656, 24.37840461730957, 32.607913970947266, 6.149770259857178, -4.744495391845703, 10.716131210327148, 28.9202880859375, 32.92103958129883, 7.016760349273682, 14.585311889648438, 16.659605026245117, 4.541158199310303, -14.956843376159668, 25.058456420898438, 14.931975364685059, 25.435537338256836, -8.219035148620605, -14.522247314453125, 28.480451583862305, -24.169631958007812, 15.790644645690918, -6.008629322052002, -8.08083724975586, 3.826819896697998, 4.8935370445251465, 25.879716873168945, -2.806943893432617, -13.019207954406738, -18.763595581054688, -23.15113067626953, 15.577610969543457, -13.556863784790039, 31.04103660583496, 28.375873565673828, 6.956571578979492, 4.301818370819092, 22.35199737548828, -9.246689796447754, 2.0279722213745117, 1.9389288425445557, 12.054715156555176, 3.2854363918304443, 34.818031311035156, 8.517765998840332, -12.744182586669922, 4.224966049194336, 29.6036376953125, 5.332547664642334, -10.647629737854004, -22.07831382751465, 25.125019073486328, 35.6881103515625, 11.822300910949707, 28.312238693237305, -22.595449447631836, -5.459380149841309, 9.493452072143555, -9.58405590057373, 9.915349006652832, -7.521006107330322, -19.367250442504883, 32.1702766418457, -25.450632095336914, -6.3871941566467285, -11.657894134521484, -9.930591583251953, 32.85076904296875, -1.3573029041290283, 7.758192539215088, -10.135570526123047, 29.964588165283203, -1.6837741136550903, 9.967428207397461, 36.56198501586914, 3.8706955909729004, 33.88660430908203, -17.438968658447266, -2.4558539390563965, 10.441618919372559, -27.713275909423828, 1.1148475408554077, -11.853533744812012, -5.09573221206665, 2.0771069526672363, -0.2818523049354553, 35.77600860595703, -8.910735130310059, -4.61981201171875, -3.2060930728912354, 0.34376007318496704, -9.731850624084473, 35.28651809692383, -22.500490188598633, -20.840993881225586, 1.6763172149658203, 9.58553409576416, 37.15228271484375, 25.518260955810547, -24.79288673400879, 1.457381248474121, -11.65818977355957, 26.906007766723633, -16.11985969543457, 4.7290802001953125, -19.024965286254883, 5.500873565673828, 7.57181453704834, -12.580940246582031, -24.74012565612793, 5.9331159591674805, 30.640623092651367, 10.57240104675293, 29.889616012573242, 7.96090030670166, -15.90497875213623, -1.7490431070327759, 6.163821697235107, -10.130938529968262, 11.159130096435547, -35.92990493774414, 8.309723854064941, -7.721416473388672, 3.8611278533935547, -8.264135360717773, 37.282413482666016, -2.7599124908447266, -24.27180290222168, 35.872802734375, -7.948968410491943, 28.866294860839844, -26.154672622680664, -21.926074981689453, 9.514848709106445, -12.04817008972168, -12.532096862792969, 12.992741584777832, -10.03355598449707, -6.4804368019104, 5.173478126525879, 28.240650177001953, 32.81922149658203, 3.0420212745666504, -10.842391967773438, -21.274747848510742, -9.468903541564941, 24.082294464111328, -4.356863975524902, -11.232874870300293, -19.871618270874023, 35.22344207763672, -2.9459378719329834, -10.132274627685547, -35.36550521850586, -5.474994659423828, -3.358278274536133, -8.645745277404785, 14.418319702148438, -23.74306869506836, -26.364086151123047, -5.6081719398498535, 4.771385192871094, -15.671919822692871, 0.8694062829017639, 10.322831153869629, -3.264194965362549, -12.330303192138672, -5.255799770355225, -16.275056838989258, 3.558781862258911, 34.93533706665039, -26.414888381958008, -9.590324401855469, -25.277666091918945, 29.803436279296875, 7.825976371765137, 1.7802664041519165, 9.241170883178711, -18.79727554321289, 4.939371109008789, -16.445375442504883, 6.523118495941162, -0.6569361686706543, -19.003841400146484, 0.22010788321495056, -5.450753688812256, -20.54261589050293, -25.05263900756836, -1.0146827697753906, -6.977787494659424, -36.79606628417969, -36.71651840209961, 0.6385347843170166, -4.285872459411621, -1.778114914894104, 10.011520385742188, 8.705984115600586, 16.45631980895996, -17.823158264160156, 8.154468536376953, -16.05898094177246, -25.47488021850586, 9.465057373046875, 7.824492454528809, -7.734826564788818, -12.305441856384277, -26.416948318481445, -19.39379119873047, -26.544641494750977, 4.245512008666992, -23.684743881225586, -1.9638997316360474, -1.6315453052520752, -1.762620210647583, -4.026040077209473, 11.961116790771484, 13.045044898986816, -18.501239776611328, 3.0672810077667236, -25.901784896850586, -0.40276995301246643, 36.22721862792969, 16.305335998535156, -1.583480715751648, 8.847603797912598, 1.2084453105926514, -9.88371753692627, -12.605826377868652, -33.67894744873047, 14.924293518066406, 25.461442947387695, -15.884222984313965, 6.813220977783203, -36.529380798339844, -6.426414489746094, -26.843320846557617, 8.230384826660156, 31.65454864501953, -6.188789367675781, 12.074482917785645, -6.254769325256348, 0.12634554505348206], \"yaxis\": \"y\"}],\n",
       "                        {\"legend\": {\"tracegroupgap\": 0}, \"margin\": {\"t\": 60}, \"template\": {\"data\": {\"bar\": [{\"error_x\": {\"color\": \"#2a3f5f\"}, \"error_y\": {\"color\": \"#2a3f5f\"}, \"marker\": {\"line\": {\"color\": \"#E5ECF6\", \"width\": 0.5}}, \"type\": \"bar\"}], \"barpolar\": [{\"marker\": {\"line\": {\"color\": \"#E5ECF6\", \"width\": 0.5}}, \"type\": \"barpolar\"}], \"carpet\": [{\"aaxis\": {\"endlinecolor\": \"#2a3f5f\", \"gridcolor\": \"white\", \"linecolor\": \"white\", \"minorgridcolor\": \"white\", \"startlinecolor\": \"#2a3f5f\"}, \"baxis\": {\"endlinecolor\": \"#2a3f5f\", \"gridcolor\": \"white\", \"linecolor\": \"white\", \"minorgridcolor\": \"white\", \"startlinecolor\": \"#2a3f5f\"}, \"type\": \"carpet\"}], \"choropleth\": [{\"colorbar\": {\"outlinewidth\": 0, \"ticks\": \"\"}, \"type\": \"choropleth\"}], \"contour\": [{\"colorbar\": {\"outlinewidth\": 0, \"ticks\": \"\"}, \"colorscale\": [[0.0, \"#0d0887\"], [0.1111111111111111, \"#46039f\"], [0.2222222222222222, \"#7201a8\"], [0.3333333333333333, \"#9c179e\"], [0.4444444444444444, \"#bd3786\"], [0.5555555555555556, \"#d8576b\"], [0.6666666666666666, \"#ed7953\"], [0.7777777777777778, \"#fb9f3a\"], [0.8888888888888888, \"#fdca26\"], [1.0, \"#f0f921\"]], \"type\": \"contour\"}], \"contourcarpet\": [{\"colorbar\": {\"outlinewidth\": 0, \"ticks\": \"\"}, \"type\": \"contourcarpet\"}], \"heatmap\": [{\"colorbar\": {\"outlinewidth\": 0, \"ticks\": \"\"}, \"colorscale\": [[0.0, \"#0d0887\"], [0.1111111111111111, \"#46039f\"], [0.2222222222222222, \"#7201a8\"], [0.3333333333333333, \"#9c179e\"], [0.4444444444444444, \"#bd3786\"], [0.5555555555555556, \"#d8576b\"], [0.6666666666666666, \"#ed7953\"], [0.7777777777777778, \"#fb9f3a\"], [0.8888888888888888, \"#fdca26\"], [1.0, \"#f0f921\"]], \"type\": \"heatmap\"}], \"heatmapgl\": [{\"colorbar\": {\"outlinewidth\": 0, \"ticks\": \"\"}, \"colorscale\": [[0.0, \"#0d0887\"], [0.1111111111111111, \"#46039f\"], [0.2222222222222222, \"#7201a8\"], [0.3333333333333333, \"#9c179e\"], [0.4444444444444444, \"#bd3786\"], [0.5555555555555556, \"#d8576b\"], [0.6666666666666666, \"#ed7953\"], [0.7777777777777778, \"#fb9f3a\"], [0.8888888888888888, \"#fdca26\"], [1.0, \"#f0f921\"]], \"type\": \"heatmapgl\"}], \"histogram\": [{\"marker\": {\"colorbar\": {\"outlinewidth\": 0, \"ticks\": \"\"}}, \"type\": \"histogram\"}], \"histogram2d\": [{\"colorbar\": {\"outlinewidth\": 0, \"ticks\": \"\"}, \"colorscale\": [[0.0, \"#0d0887\"], [0.1111111111111111, \"#46039f\"], [0.2222222222222222, \"#7201a8\"], [0.3333333333333333, \"#9c179e\"], [0.4444444444444444, \"#bd3786\"], [0.5555555555555556, \"#d8576b\"], [0.6666666666666666, \"#ed7953\"], [0.7777777777777778, \"#fb9f3a\"], [0.8888888888888888, \"#fdca26\"], [1.0, \"#f0f921\"]], \"type\": \"histogram2d\"}], \"histogram2dcontour\": [{\"colorbar\": {\"outlinewidth\": 0, \"ticks\": \"\"}, \"colorscale\": [[0.0, \"#0d0887\"], [0.1111111111111111, \"#46039f\"], [0.2222222222222222, \"#7201a8\"], [0.3333333333333333, \"#9c179e\"], [0.4444444444444444, \"#bd3786\"], [0.5555555555555556, \"#d8576b\"], [0.6666666666666666, \"#ed7953\"], [0.7777777777777778, \"#fb9f3a\"], [0.8888888888888888, \"#fdca26\"], [1.0, \"#f0f921\"]], \"type\": \"histogram2dcontour\"}], \"mesh3d\": [{\"colorbar\": {\"outlinewidth\": 0, \"ticks\": \"\"}, \"type\": \"mesh3d\"}], \"parcoords\": [{\"line\": {\"colorbar\": {\"outlinewidth\": 0, \"ticks\": \"\"}}, \"type\": \"parcoords\"}], \"pie\": [{\"automargin\": true, \"type\": \"pie\"}], \"scatter\": [{\"marker\": {\"colorbar\": {\"outlinewidth\": 0, \"ticks\": \"\"}}, \"type\": \"scatter\"}], \"scatter3d\": [{\"line\": {\"colorbar\": {\"outlinewidth\": 0, \"ticks\": \"\"}}, \"marker\": {\"colorbar\": {\"outlinewidth\": 0, \"ticks\": \"\"}}, \"type\": \"scatter3d\"}], \"scattercarpet\": [{\"marker\": {\"colorbar\": {\"outlinewidth\": 0, \"ticks\": \"\"}}, \"type\": \"scattercarpet\"}], \"scattergeo\": [{\"marker\": {\"colorbar\": {\"outlinewidth\": 0, \"ticks\": \"\"}}, \"type\": \"scattergeo\"}], \"scattergl\": [{\"marker\": {\"colorbar\": {\"outlinewidth\": 0, \"ticks\": \"\"}}, \"type\": \"scattergl\"}], \"scattermapbox\": [{\"marker\": {\"colorbar\": {\"outlinewidth\": 0, \"ticks\": \"\"}}, \"type\": \"scattermapbox\"}], \"scatterpolar\": [{\"marker\": {\"colorbar\": {\"outlinewidth\": 0, \"ticks\": \"\"}}, \"type\": \"scatterpolar\"}], \"scatterpolargl\": [{\"marker\": {\"colorbar\": {\"outlinewidth\": 0, \"ticks\": \"\"}}, \"type\": \"scatterpolargl\"}], \"scatterternary\": [{\"marker\": {\"colorbar\": {\"outlinewidth\": 0, \"ticks\": \"\"}}, \"type\": \"scatterternary\"}], \"surface\": [{\"colorbar\": {\"outlinewidth\": 0, \"ticks\": \"\"}, \"colorscale\": [[0.0, \"#0d0887\"], [0.1111111111111111, \"#46039f\"], [0.2222222222222222, \"#7201a8\"], [0.3333333333333333, \"#9c179e\"], [0.4444444444444444, \"#bd3786\"], [0.5555555555555556, \"#d8576b\"], [0.6666666666666666, \"#ed7953\"], [0.7777777777777778, \"#fb9f3a\"], [0.8888888888888888, \"#fdca26\"], [1.0, \"#f0f921\"]], \"type\": \"surface\"}], \"table\": [{\"cells\": {\"fill\": {\"color\": \"#EBF0F8\"}, \"line\": {\"color\": \"white\"}}, \"header\": {\"fill\": {\"color\": \"#C8D4E3\"}, \"line\": {\"color\": \"white\"}}, \"type\": \"table\"}]}, \"layout\": {\"annotationdefaults\": {\"arrowcolor\": \"#2a3f5f\", \"arrowhead\": 0, \"arrowwidth\": 1}, \"coloraxis\": {\"colorbar\": {\"outlinewidth\": 0, \"ticks\": \"\"}}, \"colorscale\": {\"diverging\": [[0, \"#8e0152\"], [0.1, \"#c51b7d\"], [0.2, \"#de77ae\"], [0.3, \"#f1b6da\"], [0.4, \"#fde0ef\"], [0.5, \"#f7f7f7\"], [0.6, \"#e6f5d0\"], [0.7, \"#b8e186\"], [0.8, \"#7fbc41\"], [0.9, \"#4d9221\"], [1, \"#276419\"]], \"sequential\": [[0.0, \"#0d0887\"], [0.1111111111111111, \"#46039f\"], [0.2222222222222222, \"#7201a8\"], [0.3333333333333333, \"#9c179e\"], [0.4444444444444444, \"#bd3786\"], [0.5555555555555556, \"#d8576b\"], [0.6666666666666666, \"#ed7953\"], [0.7777777777777778, \"#fb9f3a\"], [0.8888888888888888, \"#fdca26\"], [1.0, \"#f0f921\"]], \"sequentialminus\": [[0.0, \"#0d0887\"], [0.1111111111111111, \"#46039f\"], [0.2222222222222222, \"#7201a8\"], [0.3333333333333333, \"#9c179e\"], [0.4444444444444444, \"#bd3786\"], [0.5555555555555556, \"#d8576b\"], [0.6666666666666666, \"#ed7953\"], [0.7777777777777778, \"#fb9f3a\"], [0.8888888888888888, \"#fdca26\"], [1.0, \"#f0f921\"]]}, \"colorway\": [\"#636efa\", \"#EF553B\", \"#00cc96\", \"#ab63fa\", \"#FFA15A\", \"#19d3f3\", \"#FF6692\", \"#B6E880\", \"#FF97FF\", \"#FECB52\"], \"font\": {\"color\": \"#2a3f5f\"}, \"geo\": {\"bgcolor\": \"white\", \"lakecolor\": \"white\", \"landcolor\": \"#E5ECF6\", \"showlakes\": true, \"showland\": true, \"subunitcolor\": \"white\"}, \"hoverlabel\": {\"align\": \"left\"}, \"hovermode\": \"closest\", \"mapbox\": {\"style\": \"light\"}, \"paper_bgcolor\": \"white\", \"plot_bgcolor\": \"#E5ECF6\", \"polar\": {\"angularaxis\": {\"gridcolor\": \"white\", \"linecolor\": \"white\", \"ticks\": \"\"}, \"bgcolor\": \"#E5ECF6\", \"radialaxis\": {\"gridcolor\": \"white\", \"linecolor\": \"white\", \"ticks\": \"\"}}, \"scene\": {\"xaxis\": {\"backgroundcolor\": \"#E5ECF6\", \"gridcolor\": \"white\", \"gridwidth\": 2, \"linecolor\": \"white\", \"showbackground\": true, \"ticks\": \"\", \"zerolinecolor\": \"white\"}, \"yaxis\": {\"backgroundcolor\": \"#E5ECF6\", \"gridcolor\": \"white\", \"gridwidth\": 2, \"linecolor\": \"white\", \"showbackground\": true, \"ticks\": \"\", \"zerolinecolor\": \"white\"}, \"zaxis\": {\"backgroundcolor\": \"#E5ECF6\", \"gridcolor\": \"white\", \"gridwidth\": 2, \"linecolor\": \"white\", \"showbackground\": true, \"ticks\": \"\", \"zerolinecolor\": \"white\"}}, \"shapedefaults\": {\"line\": {\"color\": \"#2a3f5f\"}}, \"ternary\": {\"aaxis\": {\"gridcolor\": \"white\", \"linecolor\": \"white\", \"ticks\": \"\"}, \"baxis\": {\"gridcolor\": \"white\", \"linecolor\": \"white\", \"ticks\": \"\"}, \"bgcolor\": \"#E5ECF6\", \"caxis\": {\"gridcolor\": \"white\", \"linecolor\": \"white\", \"ticks\": \"\"}}, \"title\": {\"x\": 0.05}, \"xaxis\": {\"automargin\": true, \"gridcolor\": \"white\", \"linecolor\": \"white\", \"ticks\": \"\", \"title\": {\"standoff\": 15}, \"zerolinecolor\": \"white\", \"zerolinewidth\": 2}, \"yaxis\": {\"automargin\": true, \"gridcolor\": \"white\", \"linecolor\": \"white\", \"ticks\": \"\", \"title\": {\"standoff\": 15}, \"zerolinecolor\": \"white\", \"zerolinewidth\": 2}}}, \"xaxis\": {\"anchor\": \"y\", \"domain\": [0.0, 1.0], \"title\": {\"text\": \"x\"}}, \"yaxis\": {\"anchor\": \"x\", \"domain\": [0.0, 1.0], \"title\": {\"text\": \"y\"}}},\n",
       "                        {\"responsive\": true}\n",
       "                    ).then(function(){\n",
       "                            \n",
       "var gd = document.getElementById('149f1bad-31e2-474d-aee9-fe455c4cd3a0');\n",
       "var x = new MutationObserver(function (mutations, observer) {{\n",
       "        var display = window.getComputedStyle(gd).display;\n",
       "        if (!display || display === 'none') {{\n",
       "            console.log([gd, 'removed!']);\n",
       "            Plotly.purge(gd);\n",
       "            observer.disconnect();\n",
       "        }}\n",
       "}});\n",
       "\n",
       "// Listen for the removal of the full notebook cells\n",
       "var notebookContainer = gd.closest('#notebook-container');\n",
       "if (notebookContainer) {{\n",
       "    x.observe(notebookContainer, {childList: true});\n",
       "}}\n",
       "\n",
       "// Listen for the clearing of the current output cell\n",
       "var outputEl = gd.closest('.output');\n",
       "if (outputEl) {{\n",
       "    x.observe(outputEl, {childList: true});\n",
       "}}\n",
       "\n",
       "                        })\n",
       "                };\n",
       "                });\n",
       "            </script>\n",
       "        </div>"
      ]
     },
     "metadata": {},
     "output_type": "display_data"
    }
   ],
   "source": [
    "import plotly.express as px\n",
    "\n",
    "n_topics = 4\n",
    "#mycolors = np.array([color for name, color in mcolors.TABLEAU_COLORS.items()])\n",
    "\n",
    "# Format\n",
    "\n",
    "max_label = max(clusters)\n",
    "max_items = np.random.choice(range(text.shape[0]), size=682, replace=False)\n",
    "    \n",
    "pca = PCA(n_components=2).fit_transform(text[max_items,:].todense())\n",
    "tsne = TSNE().fit_transform(PCA(n_components=50).fit_transform(text[max_items,:].todense()))\n",
    "    \n",
    "    \n",
    "idx = np.random.choice(range(pca.shape[0]), size=682, replace=False)\n",
    "label_subset = clusters[max_items]\n",
    "label_subset = [cm.hsv(i/max_label) for i in label_subset[idx]]\n",
    "\n",
    "df = data[\"text\"]\n",
    "fig = px.scatter(df, x=tsne[idx, 0], y=tsne[idx, 1],hover_data=[clusters], labels={'hover_data_0':'Cluster'} )\n",
    "fig.show()"
   ]
  },
  {
   "cell_type": "markdown",
   "metadata": {},
   "source": [
    "## Principais palavras-chave\n",
    "\n",
    "Por fim, percorre-se os clusters e são impressas as principais palavras-chave com base na pontuação do TFIDF para ver se é possível identificar alguma tendência. Faz-se isso calculando um valor médio entre todas as dimensões no Pandas, agrupadas pelo rótulo do cluster."
   ]
  },
  {
   "cell_type": "code",
   "execution_count": 9,
   "metadata": {},
   "outputs": [
    {
     "name": "stdout",
     "output_type": "stream",
     "text": [
      "\n",
      "Cluster 0\n",
      "design,artificial,knowledge,intelligence,proceedings,cbr,learning,reasoning,based,case\n",
      "\n",
      "Cluster 1\n",
      "proceedings,raedt,machine,pages,ilp,muggleton,programming,inductive,learning,logic\n",
      "\n",
      "Cluster 2\n",
      "semantic,acm,sigir,conference,language,proceedings,pages,text,retrieval,information\n",
      "\n",
      "Cluster 3\n",
      "computer,virtual,display,visualization,sonification,sound,music,pp,auditory,audio\n"
     ]
    }
   ],
   "source": [
    "def get_top_keywords(data, clusters, labels, n_terms):\n",
    "    df = pd.DataFrame(data.todense()).groupby(clusters).mean()\n",
    "    \n",
    "    for i,r in df.iterrows():\n",
    "        print('\\nCluster {}'.format(i))\n",
    "        print(','.join([labels[t] for t in np.argsort(r)[-n_terms:]]))\n",
    "            \n",
    "get_top_keywords(text, clusters, tfidf.get_feature_names(), 10)"
   ]
  },
  {
   "cell_type": "code",
   "execution_count": null,
   "metadata": {},
   "outputs": [],
   "source": []
  }
 ],
 "metadata": {
  "kernelspec": {
   "display_name": "Python 3",
   "language": "python",
   "name": "python3"
  },
  "language_info": {
   "codemirror_mode": {
    "name": "ipython",
    "version": 3
   },
   "file_extension": ".py",
   "mimetype": "text/x-python",
   "name": "python",
   "nbconvert_exporter": "python",
   "pygments_lexer": "ipython3",
   "version": "3.8.2"
  }
 },
 "nbformat": 4,
 "nbformat_minor": 4
}
